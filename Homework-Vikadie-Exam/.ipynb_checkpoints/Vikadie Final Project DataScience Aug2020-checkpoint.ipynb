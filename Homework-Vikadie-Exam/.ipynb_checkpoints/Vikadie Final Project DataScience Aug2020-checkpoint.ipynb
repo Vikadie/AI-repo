{
 "cells": [
  {
   "cell_type": "code",
   "execution_count": 1,
   "metadata": {},
   "outputs": [],
   "source": [
    "%matplotlib inline"
   ]
  },
  {
   "cell_type": "code",
   "execution_count": 2,
   "metadata": {},
   "outputs": [],
   "source": [
    "import numpy as np\n",
    "import pandas as pd\n",
    "import matplotlib.pyplot as plt\n",
    "\n",
    "from nose.tools import *\n",
    "\n",
    "import re\n",
    "\n",
    "from scipy.stats import ttest_ind\n",
    "#other imports"
   ]
  },
  {
   "cell_type": "markdown",
   "metadata": {},
   "source": [
    "# Comparing obstacles for development of enterprises and Gender equality in the enterprises worldwide and Bulgaria\n",
    "##### Final exam report\n",
    "\n",
    "*Viktor Belchev - student*\n",
    "\n",
    "*Data Science - Software University*\n",
    "\n",
    "*August 2020*"
   ]
  },
  {
   "cell_type": "markdown",
   "metadata": {},
   "source": [
    "### Abstract"
   ]
  },
  {
   "cell_type": "markdown",
   "metadata": {},
   "source": [
    "The project is inspired by An Enterprise Survey (ES) - a firm-level surveys of representative sample of an economy's private sector. The surveys are produced and sponsored by The World Bank Group, European Bank for Reconstruction and Development, and European Investment Bank. Each of the 144 countries couvered have been surveyed following the standard methodology of stratified random sampling.\n",
    "\n",
    "The dataset was downloaded from the World Bank's site: https://www.enterprisesurveys.org/en. Originally, the collected data are used to create indicators that benchmark the quality of the business and investment climate across countries. The dataset was formed in a way, so that it could be shown on the website's graphing tool available at https://www.enterprisesurveys.org/en/graphing-tool. Using this graphing tool on the website the data can be visualized on a wordwide map with 3 main \"Selectors\". Unfortunately, from the perspective of analysis with Python and Pandas in the raw data that resulted in some difficulties, thus requiring some filtering and cleaning of the data before starting the real exploration part.\n",
    "\n",
    "The dataset downloaded from the source was quite huge and consisted of numerous Excel data sheets. For simplicity I exported each sheet in separate `.csv` files, consequently considered as separate datasets. This part is shortly described in the *Introduction* part, and you could reproduce it if you wish having in mind that it take a bit too more time.\n",
    "\n",
    "The Final Exam Report aim is to show the capability of exploring and analysing a dataset on some <u>real-life problem</u>. Having in mind the respectful source, the idea of using this dataset appealed to me interesting enough and suitable for analysis. I wouldn't say it is the usual (in the sense 'ofthen used' kind of) dataset, that can be prepared for ML modelling and data science exercise, it is more for some Data Analyst's exercise. Going through the data using the data science approach allowed a different view of some problems like '*Obstacles for development of enterprises*' and '*Gender equality*'."
   ]
  },
  {
   "cell_type": "markdown",
   "metadata": {},
   "source": [
    "**Inside the datasets:**\n",
    "In the beginning the most interesting part seemеd to be the 'Obstacles' sheet as (at least to me) this is what is more relevant  when we talk about enterprises survey in general. Especially, when we have the possibility to compare the data for Bulgaria with those of other countries and regions, as well as the worldwide average. After identifying the most problematic obstacles for development of the enterprises for Bulgaria, I made a closer snapshot of their development over time. Additionally, a hypothesis check was done in order to verify whether the groups splited on gender of Top Management or sector in which the enterprise operate are fully independent or not.\n",
    "\n",
    "Consequently, the interest went in another direction and it focused on the gender equality in Bulgaria vs rest of the world, seen through the lenses of enterprises' \"life\" and perception. The idea was to find some of the factors that contribute to the improvement of the gender equality in general and check its trend for the past years (according to conducted surveys), both on global and Bulgarian level. \n",
    "\n",
    "I did not intentionally chose to focus on one negative and one positive factor (from Bulgarian point of view) using for each of them different technics: horizontal bar chart, histogram, hypothese testing, using the means groups of dataset to represent global average, line ploting for comparing development over time of some factors.\n",
    "\n",
    "The paths and the methods chosen inside do not exhaust all the possible variants for exploring this datasets. Moreover, that the initial dataset have indicators of other different problematics that can be used for bigger and 'deeper' analysis. \n",
    "\n",
    "Many of the ideas for visualization and tests came ad-hoc, with the progress of the exploration of the data."
   ]
  },
  {
   "cell_type": "markdown",
   "metadata": {},
   "source": [
    "***I.*** **Instead of introduction**\n",
    "\n",
    "As stated in *Report's title*, this notebook will consist of two parts:\n",
    "\n",
    "1. Comparing obstacles for development of enterprises worldwide and in Bulgaria, and \n",
    "2. Gender equality in the enterprises worldwide and Bulgaria. \n",
    "\n",
    "The data is gathered from open to the public website, where all the statistical data is present, but without analysis and direct possibilty for comparation. This project aims exactly that - that the pure statistics, explore it with the aims defined in the title and present the outcomes.\n",
    "\n",
    "Before start exploring each problem, I must clarify that the downloaded raw data from the source was huge (an amount of 120 Mb). It is available as Excel worksheets each representing the data aggregated by the Research agencies and answering on different questions with the themes/names of the worksheets such as: Biggest Obstacles, Corruption, Crime, Finance, Firm Characteristics, Gender, etc. In order to decrease this amount I use only selected sheets that I converted to `.csv` files using Pandas'command such as: `biggest_obstacle_data = pd.read_excel('data/CustomQuery.xlsx', sheet_name = 'Biggest Obstacle')` to access them:"
   ]
  },
  {
   "cell_type": "code",
   "execution_count": 3,
   "metadata": {},
   "outputs": [],
   "source": [
    "# you can uncomment the lines in this I. par if you wish to repeat this operation, having in mind that:\n",
    "# it will cost some time\n",
    "# all the required `.csv` files in this report are already generated and stored in the same data/ folder\n",
    "\n",
    "# biggest_obstacle_data = pd.read_excel('data/CustomQuery.xlsx', sheet_name = 'Biggest Obstacle')"
   ]
  },
  {
   "cell_type": "code",
   "execution_count": 4,
   "metadata": {},
   "outputs": [],
   "source": [
    "# biggest_obstacle_data.shape"
   ]
  },
  {
   "cell_type": "markdown",
   "metadata": {},
   "source": [
    "For storing in the corresponding `.csv` file in the `\\data\\` folder, I used `pandas` command again: `biggest_obstacle_data.to_csv('data/biggest_obstacle.csv', index=False)`"
   ]
  },
  {
   "cell_type": "code",
   "execution_count": 5,
   "metadata": {},
   "outputs": [],
   "source": [
    "# biggest_obstacle_data.to_csv('data/biggest_obstacle.csv', index=False)"
   ]
  },
  {
   "cell_type": "markdown",
   "metadata": {},
   "source": [
    "This procedure was done for each of the Excel worksheets used as dataset in this notebook."
   ]
  },
  {
   "cell_type": "markdown",
   "metadata": {},
   "source": [
    "***II.*** **Comparing obstacles of enterprises worldwide and Bulgaria**"
   ]
  },
  {
   "cell_type": "markdown",
   "metadata": {},
   "source": [
    "We start by:\n",
    "#### 1. Reading the freshly transformed to `.csv` dataset:\n"
   ]
  },
  {
   "cell_type": "code",
   "execution_count": 6,
   "metadata": {},
   "outputs": [],
   "source": [
    "obstacles_data = pd.read_csv('data/biggest_obstacle.csv')"
   ]
  },
  {
   "cell_type": "markdown",
   "metadata": {},
   "source": [
    "We check what we have read."
   ]
  },
  {
   "cell_type": "code",
   "execution_count": 7,
   "metadata": {},
   "outputs": [
    {
     "data": {
      "text/html": [
       "<div>\n",
       "<style scoped>\n",
       "    .dataframe tbody tr th:only-of-type {\n",
       "        vertical-align: middle;\n",
       "    }\n",
       "\n",
       "    .dataframe tbody tr th {\n",
       "        vertical-align: top;\n",
       "    }\n",
       "\n",
       "    .dataframe thead th {\n",
       "        text-align: right;\n",
       "    }\n",
       "</style>\n",
       "<table border=\"1\" class=\"dataframe\">\n",
       "  <thead>\n",
       "    <tr style=\"text-align: right;\">\n",
       "      <th></th>\n",
       "      <th>Economy</th>\n",
       "      <th>Year</th>\n",
       "      <th>Subgroup</th>\n",
       "      <th>Top Subgroup Level</th>\n",
       "      <th>Subgroup Level</th>\n",
       "      <th>Average/SE/N</th>\n",
       "      <th>Percent of firms choosing access to finance as their biggest obstacle</th>\n",
       "      <th>Percent of firms choosing access to land as their biggest obstacle</th>\n",
       "      <th>Percent of firms choosing business licensing and permits as their biggest obstacle</th>\n",
       "      <th>Percent of firms choosing corruption as their biggest obstacle</th>\n",
       "      <th>...</th>\n",
       "      <th>Percent of firms choosing crime, theft and disorder as their biggest obstacle</th>\n",
       "      <th>Percent of firms choosing customs and trade regulations as their biggest obstacle</th>\n",
       "      <th>Percent of firms choosing electricity as their biggest obstacle</th>\n",
       "      <th>Percent of firms choosing inadequately educated workforce as their biggest obstacle</th>\n",
       "      <th>Percent of firms choosing labor regulations as their biggest obstacle</th>\n",
       "      <th>Percent of firms choosing political instability as their biggest obstacle</th>\n",
       "      <th>Percent of firms choosing practices of the informal sector as their biggest obstacle</th>\n",
       "      <th>Percent of firms choosing tax administration as their biggest obstacle</th>\n",
       "      <th>Percent of firms choosing tax rates as their biggest obstacle</th>\n",
       "      <th>Percent of firms choosing transportation as their biggest obstacle</th>\n",
       "    </tr>\n",
       "  </thead>\n",
       "  <tbody>\n",
       "    <tr>\n",
       "      <th>0</th>\n",
       "      <td>All</td>\n",
       "      <td>NaN</td>\n",
       "      <td>NaN</td>\n",
       "      <td>NaN</td>\n",
       "      <td>NaN</td>\n",
       "      <td>Average</td>\n",
       "      <td>14.4</td>\n",
       "      <td>3.2</td>\n",
       "      <td>2.8</td>\n",
       "      <td>7</td>\n",
       "      <td>...</td>\n",
       "      <td>4</td>\n",
       "      <td>3.6</td>\n",
       "      <td>9.3</td>\n",
       "      <td>8.6</td>\n",
       "      <td>3.1</td>\n",
       "      <td>11</td>\n",
       "      <td>11.6</td>\n",
       "      <td>4</td>\n",
       "      <td>12.6</td>\n",
       "      <td>3.9</td>\n",
       "    </tr>\n",
       "    <tr>\n",
       "      <th>1</th>\n",
       "      <td>East Asia &amp; Pacific</td>\n",
       "      <td>NaN</td>\n",
       "      <td>NaN</td>\n",
       "      <td>NaN</td>\n",
       "      <td>NaN</td>\n",
       "      <td>Average</td>\n",
       "      <td>12.1</td>\n",
       "      <td>5.3</td>\n",
       "      <td>3.2</td>\n",
       "      <td>7.6</td>\n",
       "      <td>...</td>\n",
       "      <td>4.1</td>\n",
       "      <td>2.7</td>\n",
       "      <td>6.5</td>\n",
       "      <td>8.9</td>\n",
       "      <td>3.3</td>\n",
       "      <td>12.8</td>\n",
       "      <td>14</td>\n",
       "      <td>3.1</td>\n",
       "      <td>10.7</td>\n",
       "      <td>4.9</td>\n",
       "    </tr>\n",
       "    <tr>\n",
       "      <th>2</th>\n",
       "      <td>Europe &amp; Central Asia</td>\n",
       "      <td>NaN</td>\n",
       "      <td>NaN</td>\n",
       "      <td>NaN</td>\n",
       "      <td>NaN</td>\n",
       "      <td>Average</td>\n",
       "      <td>9.3</td>\n",
       "      <td>1.8</td>\n",
       "      <td>2.8</td>\n",
       "      <td>4.9</td>\n",
       "      <td>...</td>\n",
       "      <td>1.5</td>\n",
       "      <td>2.4</td>\n",
       "      <td>3.8</td>\n",
       "      <td>14.8</td>\n",
       "      <td>3.9</td>\n",
       "      <td>10.4</td>\n",
       "      <td>13.2</td>\n",
       "      <td>5.4</td>\n",
       "      <td>19.6</td>\n",
       "      <td>4.8</td>\n",
       "    </tr>\n",
       "    <tr>\n",
       "      <th>3</th>\n",
       "      <td>High income: OECD</td>\n",
       "      <td>NaN</td>\n",
       "      <td>NaN</td>\n",
       "      <td>NaN</td>\n",
       "      <td>NaN</td>\n",
       "      <td>Average</td>\n",
       "      <td>0.6</td>\n",
       "      <td>0</td>\n",
       "      <td>0.5</td>\n",
       "      <td>0.8</td>\n",
       "      <td>...</td>\n",
       "      <td>0.2</td>\n",
       "      <td>1.1</td>\n",
       "      <td>2.4</td>\n",
       "      <td>4.4</td>\n",
       "      <td>1.3</td>\n",
       "      <td>2.9</td>\n",
       "      <td>7.9</td>\n",
       "      <td>13</td>\n",
       "      <td>63.4</td>\n",
       "      <td>1.4</td>\n",
       "    </tr>\n",
       "    <tr>\n",
       "      <th>4</th>\n",
       "      <td>Latin America &amp; Caribbean</td>\n",
       "      <td>NaN</td>\n",
       "      <td>NaN</td>\n",
       "      <td>NaN</td>\n",
       "      <td>NaN</td>\n",
       "      <td>Average</td>\n",
       "      <td>13.4</td>\n",
       "      <td>1.3</td>\n",
       "      <td>3.2</td>\n",
       "      <td>7.2</td>\n",
       "      <td>...</td>\n",
       "      <td>8.3</td>\n",
       "      <td>4.7</td>\n",
       "      <td>8.3</td>\n",
       "      <td>10.9</td>\n",
       "      <td>4.4</td>\n",
       "      <td>6.9</td>\n",
       "      <td>12.6</td>\n",
       "      <td>3.3</td>\n",
       "      <td>11.4</td>\n",
       "      <td>3.3</td>\n",
       "    </tr>\n",
       "  </tbody>\n",
       "</table>\n",
       "<p>5 rows × 21 columns</p>\n",
       "</div>"
      ],
      "text/plain": [
       "                     Economy  Year Subgroup Top Subgroup Level Subgroup Level  \\\n",
       "0                        All   NaN      NaN                NaN            NaN   \n",
       "1        East Asia & Pacific   NaN      NaN                NaN            NaN   \n",
       "2      Europe & Central Asia   NaN      NaN                NaN            NaN   \n",
       "3          High income: OECD   NaN      NaN                NaN            NaN   \n",
       "4  Latin America & Caribbean   NaN      NaN                NaN            NaN   \n",
       "\n",
       "  Average/SE/N  \\\n",
       "0      Average   \n",
       "1      Average   \n",
       "2      Average   \n",
       "3      Average   \n",
       "4      Average   \n",
       "\n",
       "  Percent of firms choosing access to finance as their biggest obstacle  \\\n",
       "0                                               14.4                      \n",
       "1                                               12.1                      \n",
       "2                                                9.3                      \n",
       "3                                                0.6                      \n",
       "4                                               13.4                      \n",
       "\n",
       "  Percent of firms choosing access to land as their biggest obstacle  \\\n",
       "0                                                3.2                   \n",
       "1                                                5.3                   \n",
       "2                                                1.8                   \n",
       "3                                                  0                   \n",
       "4                                                1.3                   \n",
       "\n",
       "  Percent of firms choosing business licensing and permits as their biggest obstacle  \\\n",
       "0                                                2.8                                   \n",
       "1                                                3.2                                   \n",
       "2                                                2.8                                   \n",
       "3                                                0.5                                   \n",
       "4                                                3.2                                   \n",
       "\n",
       "  Percent of firms choosing corruption as their biggest obstacle  ...  \\\n",
       "0                                                  7              ...   \n",
       "1                                                7.6              ...   \n",
       "2                                                4.9              ...   \n",
       "3                                                0.8              ...   \n",
       "4                                                7.2              ...   \n",
       "\n",
       "  Percent of firms choosing crime, theft and disorder as their biggest obstacle  \\\n",
       "0                                                  4                              \n",
       "1                                                4.1                              \n",
       "2                                                1.5                              \n",
       "3                                                0.2                              \n",
       "4                                                8.3                              \n",
       "\n",
       "  Percent of firms choosing customs and trade regulations as their biggest obstacle  \\\n",
       "0                                                3.6                                  \n",
       "1                                                2.7                                  \n",
       "2                                                2.4                                  \n",
       "3                                                1.1                                  \n",
       "4                                                4.7                                  \n",
       "\n",
       "  Percent of firms choosing electricity as their biggest obstacle  \\\n",
       "0                                                9.3                \n",
       "1                                                6.5                \n",
       "2                                                3.8                \n",
       "3                                                2.4                \n",
       "4                                                8.3                \n",
       "\n",
       "  Percent of firms choosing inadequately educated workforce as their biggest obstacle  \\\n",
       "0                                                8.6                                    \n",
       "1                                                8.9                                    \n",
       "2                                               14.8                                    \n",
       "3                                                4.4                                    \n",
       "4                                               10.9                                    \n",
       "\n",
       "  Percent of firms choosing labor regulations as their biggest obstacle  \\\n",
       "0                                                3.1                      \n",
       "1                                                3.3                      \n",
       "2                                                3.9                      \n",
       "3                                                1.3                      \n",
       "4                                                4.4                      \n",
       "\n",
       "  Percent of firms choosing political instability as their biggest obstacle  \\\n",
       "0                                                 11                          \n",
       "1                                               12.8                          \n",
       "2                                               10.4                          \n",
       "3                                                2.9                          \n",
       "4                                                6.9                          \n",
       "\n",
       "  Percent of firms choosing practices of the informal sector as their biggest obstacle  \\\n",
       "0                                               11.6                                     \n",
       "1                                                 14                                     \n",
       "2                                               13.2                                     \n",
       "3                                                7.9                                     \n",
       "4                                               12.6                                     \n",
       "\n",
       "  Percent of firms choosing tax administration as their biggest obstacle  \\\n",
       "0                                                  4                       \n",
       "1                                                3.1                       \n",
       "2                                                5.4                       \n",
       "3                                                 13                       \n",
       "4                                                3.3                       \n",
       "\n",
       "  Percent of firms choosing tax rates as their biggest obstacle  \\\n",
       "0                                               12.6              \n",
       "1                                               10.7              \n",
       "2                                               19.6              \n",
       "3                                               63.4              \n",
       "4                                               11.4              \n",
       "\n",
       "  Percent of firms choosing transportation as their biggest obstacle  \n",
       "0                                                3.9                  \n",
       "1                                                4.9                  \n",
       "2                                                4.8                  \n",
       "3                                                1.4                  \n",
       "4                                                3.3                  \n",
       "\n",
       "[5 rows x 21 columns]"
      ]
     },
     "execution_count": 7,
     "metadata": {},
     "output_type": "execute_result"
    }
   ],
   "source": [
    "obstacles_data.head()"
   ]
  },
  {
   "cell_type": "markdown",
   "metadata": {},
   "source": [
    "It is interesting - the beginning consist of **'All'** and World Bank specific segmentation based on income and some regional/geographic group. That is good. As we will aim to compare **\"Bulgaria\"** with the others it will be good to be able to compare it with the average of bigger regions.\n",
    "\n",
    "Let's see what is at the end, to be sure that we have read data on country level as well. The fouding confirms that the countries are sorted alphabetically."
   ]
  },
  {
   "cell_type": "code",
   "execution_count": 8,
   "metadata": {},
   "outputs": [
    {
     "data": {
      "text/html": [
       "<div>\n",
       "<style scoped>\n",
       "    .dataframe tbody tr th:only-of-type {\n",
       "        vertical-align: middle;\n",
       "    }\n",
       "\n",
       "    .dataframe tbody tr th {\n",
       "        vertical-align: top;\n",
       "    }\n",
       "\n",
       "    .dataframe thead th {\n",
       "        text-align: right;\n",
       "    }\n",
       "</style>\n",
       "<table border=\"1\" class=\"dataframe\">\n",
       "  <thead>\n",
       "    <tr style=\"text-align: right;\">\n",
       "      <th></th>\n",
       "      <th>Economy</th>\n",
       "      <th>Year</th>\n",
       "      <th>Subgroup</th>\n",
       "      <th>Top Subgroup Level</th>\n",
       "      <th>Subgroup Level</th>\n",
       "      <th>Average/SE/N</th>\n",
       "      <th>Percent of firms choosing access to finance as their biggest obstacle</th>\n",
       "      <th>Percent of firms choosing access to land as their biggest obstacle</th>\n",
       "      <th>Percent of firms choosing business licensing and permits as their biggest obstacle</th>\n",
       "      <th>Percent of firms choosing corruption as their biggest obstacle</th>\n",
       "      <th>...</th>\n",
       "      <th>Percent of firms choosing crime, theft and disorder as their biggest obstacle</th>\n",
       "      <th>Percent of firms choosing customs and trade regulations as their biggest obstacle</th>\n",
       "      <th>Percent of firms choosing electricity as their biggest obstacle</th>\n",
       "      <th>Percent of firms choosing inadequately educated workforce as their biggest obstacle</th>\n",
       "      <th>Percent of firms choosing labor regulations as their biggest obstacle</th>\n",
       "      <th>Percent of firms choosing political instability as their biggest obstacle</th>\n",
       "      <th>Percent of firms choosing practices of the informal sector as their biggest obstacle</th>\n",
       "      <th>Percent of firms choosing tax administration as their biggest obstacle</th>\n",
       "      <th>Percent of firms choosing tax rates as their biggest obstacle</th>\n",
       "      <th>Percent of firms choosing transportation as their biggest obstacle</th>\n",
       "    </tr>\n",
       "  </thead>\n",
       "  <tbody>\n",
       "    <tr>\n",
       "      <th>17664</th>\n",
       "      <td>Zimbabwe</td>\n",
       "      <td>2016.0</td>\n",
       "      <td>Ownership Type</td>\n",
       "      <td>NaN</td>\n",
       "      <td>Domestic</td>\n",
       "      <td>SE</td>\n",
       "      <td>n.c.</td>\n",
       "      <td>n.c.</td>\n",
       "      <td>n.c.</td>\n",
       "      <td>n.c.</td>\n",
       "      <td>...</td>\n",
       "      <td>n.c.</td>\n",
       "      <td>n.c.</td>\n",
       "      <td>n.c.</td>\n",
       "      <td>n.c.</td>\n",
       "      <td>n.c.</td>\n",
       "      <td>n.c.</td>\n",
       "      <td>n.c.</td>\n",
       "      <td>n.c.</td>\n",
       "      <td>n.c.</td>\n",
       "      <td>n.c.</td>\n",
       "    </tr>\n",
       "    <tr>\n",
       "      <th>17665</th>\n",
       "      <td>Zimbabwe</td>\n",
       "      <td>2016.0</td>\n",
       "      <td>Ownership Type</td>\n",
       "      <td>NaN</td>\n",
       "      <td>Domestic</td>\n",
       "      <td>N</td>\n",
       "      <td>451</td>\n",
       "      <td>451</td>\n",
       "      <td>451</td>\n",
       "      <td>451</td>\n",
       "      <td>...</td>\n",
       "      <td>451</td>\n",
       "      <td>451</td>\n",
       "      <td>451</td>\n",
       "      <td>451</td>\n",
       "      <td>451</td>\n",
       "      <td>451</td>\n",
       "      <td>451</td>\n",
       "      <td>451</td>\n",
       "      <td>451</td>\n",
       "      <td>451</td>\n",
       "    </tr>\n",
       "    <tr>\n",
       "      <th>17666</th>\n",
       "      <td>Zimbabwe</td>\n",
       "      <td>2016.0</td>\n",
       "      <td>Ownership Type</td>\n",
       "      <td>NaN</td>\n",
       "      <td>10% or more foreign ownership</td>\n",
       "      <td>Average</td>\n",
       "      <td>8.8</td>\n",
       "      <td>0.2</td>\n",
       "      <td>3</td>\n",
       "      <td>6</td>\n",
       "      <td>...</td>\n",
       "      <td>0.2</td>\n",
       "      <td>1.8</td>\n",
       "      <td>7.1</td>\n",
       "      <td>0</td>\n",
       "      <td>2</td>\n",
       "      <td>15.2</td>\n",
       "      <td>33.7</td>\n",
       "      <td>10.1</td>\n",
       "      <td>5.6</td>\n",
       "      <td>6.1</td>\n",
       "    </tr>\n",
       "    <tr>\n",
       "      <th>17667</th>\n",
       "      <td>Zimbabwe</td>\n",
       "      <td>2016.0</td>\n",
       "      <td>Ownership Type</td>\n",
       "      <td>NaN</td>\n",
       "      <td>10% or more foreign ownership</td>\n",
       "      <td>SE</td>\n",
       "      <td>n.c.</td>\n",
       "      <td>n.c.</td>\n",
       "      <td>n.c.</td>\n",
       "      <td>n.c.</td>\n",
       "      <td>...</td>\n",
       "      <td>n.c.</td>\n",
       "      <td>n.c.</td>\n",
       "      <td>n.c.</td>\n",
       "      <td>n.c.</td>\n",
       "      <td>n.c.</td>\n",
       "      <td>n.c.</td>\n",
       "      <td>n.c.</td>\n",
       "      <td>n.c.</td>\n",
       "      <td>n.c.</td>\n",
       "      <td>n.c.</td>\n",
       "    </tr>\n",
       "    <tr>\n",
       "      <th>17668</th>\n",
       "      <td>Zimbabwe</td>\n",
       "      <td>2016.0</td>\n",
       "      <td>Ownership Type</td>\n",
       "      <td>NaN</td>\n",
       "      <td>10% or more foreign ownership</td>\n",
       "      <td>N</td>\n",
       "      <td>111</td>\n",
       "      <td>111</td>\n",
       "      <td>111</td>\n",
       "      <td>111</td>\n",
       "      <td>...</td>\n",
       "      <td>111</td>\n",
       "      <td>111</td>\n",
       "      <td>111</td>\n",
       "      <td>111</td>\n",
       "      <td>111</td>\n",
       "      <td>111</td>\n",
       "      <td>111</td>\n",
       "      <td>111</td>\n",
       "      <td>111</td>\n",
       "      <td>111</td>\n",
       "    </tr>\n",
       "  </tbody>\n",
       "</table>\n",
       "<p>5 rows × 21 columns</p>\n",
       "</div>"
      ],
      "text/plain": [
       "        Economy    Year        Subgroup Top Subgroup Level  \\\n",
       "17664  Zimbabwe  2016.0  Ownership Type                NaN   \n",
       "17665  Zimbabwe  2016.0  Ownership Type                NaN   \n",
       "17666  Zimbabwe  2016.0  Ownership Type                NaN   \n",
       "17667  Zimbabwe  2016.0  Ownership Type                NaN   \n",
       "17668  Zimbabwe  2016.0  Ownership Type                NaN   \n",
       "\n",
       "                      Subgroup Level Average/SE/N  \\\n",
       "17664                       Domestic           SE   \n",
       "17665                       Domestic            N   \n",
       "17666  10% or more foreign ownership      Average   \n",
       "17667  10% or more foreign ownership           SE   \n",
       "17668  10% or more foreign ownership            N   \n",
       "\n",
       "      Percent of firms choosing access to finance as their biggest obstacle  \\\n",
       "17664                                               n.c.                      \n",
       "17665                                                451                      \n",
       "17666                                                8.8                      \n",
       "17667                                               n.c.                      \n",
       "17668                                                111                      \n",
       "\n",
       "      Percent of firms choosing access to land as their biggest obstacle  \\\n",
       "17664                                               n.c.                   \n",
       "17665                                                451                   \n",
       "17666                                                0.2                   \n",
       "17667                                               n.c.                   \n",
       "17668                                                111                   \n",
       "\n",
       "      Percent of firms choosing business licensing and permits as their biggest obstacle  \\\n",
       "17664                                               n.c.                                   \n",
       "17665                                                451                                   \n",
       "17666                                                  3                                   \n",
       "17667                                               n.c.                                   \n",
       "17668                                                111                                   \n",
       "\n",
       "      Percent of firms choosing corruption as their biggest obstacle  ...  \\\n",
       "17664                                               n.c.              ...   \n",
       "17665                                                451              ...   \n",
       "17666                                                  6              ...   \n",
       "17667                                               n.c.              ...   \n",
       "17668                                                111              ...   \n",
       "\n",
       "      Percent of firms choosing crime, theft and disorder as their biggest obstacle  \\\n",
       "17664                                               n.c.                              \n",
       "17665                                                451                              \n",
       "17666                                                0.2                              \n",
       "17667                                               n.c.                              \n",
       "17668                                                111                              \n",
       "\n",
       "      Percent of firms choosing customs and trade regulations as their biggest obstacle  \\\n",
       "17664                                               n.c.                                  \n",
       "17665                                                451                                  \n",
       "17666                                                1.8                                  \n",
       "17667                                               n.c.                                  \n",
       "17668                                                111                                  \n",
       "\n",
       "      Percent of firms choosing electricity as their biggest obstacle  \\\n",
       "17664                                               n.c.                \n",
       "17665                                                451                \n",
       "17666                                                7.1                \n",
       "17667                                               n.c.                \n",
       "17668                                                111                \n",
       "\n",
       "      Percent of firms choosing inadequately educated workforce as their biggest obstacle  \\\n",
       "17664                                               n.c.                                    \n",
       "17665                                                451                                    \n",
       "17666                                                  0                                    \n",
       "17667                                               n.c.                                    \n",
       "17668                                                111                                    \n",
       "\n",
       "      Percent of firms choosing labor regulations as their biggest obstacle  \\\n",
       "17664                                               n.c.                      \n",
       "17665                                                451                      \n",
       "17666                                                  2                      \n",
       "17667                                               n.c.                      \n",
       "17668                                                111                      \n",
       "\n",
       "      Percent of firms choosing political instability as their biggest obstacle  \\\n",
       "17664                                               n.c.                          \n",
       "17665                                                451                          \n",
       "17666                                               15.2                          \n",
       "17667                                               n.c.                          \n",
       "17668                                                111                          \n",
       "\n",
       "      Percent of firms choosing practices of the informal sector as their biggest obstacle  \\\n",
       "17664                                               n.c.                                     \n",
       "17665                                                451                                     \n",
       "17666                                               33.7                                     \n",
       "17667                                               n.c.                                     \n",
       "17668                                                111                                     \n",
       "\n",
       "      Percent of firms choosing tax administration as their biggest obstacle  \\\n",
       "17664                                               n.c.                       \n",
       "17665                                                451                       \n",
       "17666                                               10.1                       \n",
       "17667                                               n.c.                       \n",
       "17668                                                111                       \n",
       "\n",
       "      Percent of firms choosing tax rates as their biggest obstacle  \\\n",
       "17664                                               n.c.              \n",
       "17665                                                451              \n",
       "17666                                                5.6              \n",
       "17667                                               n.c.              \n",
       "17668                                                111              \n",
       "\n",
       "      Percent of firms choosing transportation as their biggest obstacle  \n",
       "17664                                               n.c.                  \n",
       "17665                                                451                  \n",
       "17666                                                6.1                  \n",
       "17667                                               n.c.                  \n",
       "17668                                                111                  \n",
       "\n",
       "[5 rows x 21 columns]"
      ]
     },
     "execution_count": 8,
     "metadata": {},
     "output_type": "execute_result"
    }
   ],
   "source": [
    "obstacles_data.tail()"
   ]
  },
  {
   "cell_type": "markdown",
   "metadata": {},
   "source": [
    "#### 2. Inspect and replace missing data "
   ]
  },
  {
   "cell_type": "markdown",
   "metadata": {},
   "source": [
    "It is mandatory to check what's the data type for each attribute. "
   ]
  },
  {
   "cell_type": "code",
   "execution_count": 9,
   "metadata": {},
   "outputs": [
    {
     "name": "stdout",
     "output_type": "stream",
     "text": [
      "<class 'pandas.core.frame.DataFrame'>\n",
      "RangeIndex: 17669 entries, 0 to 17668\n",
      "Data columns (total 21 columns):\n",
      " #   Column                                                                                Non-Null Count  Dtype  \n",
      "---  ------                                                                                --------------  -----  \n",
      " 0   Economy                                                                               17669 non-null  object \n",
      " 1   Year                                                                                  17661 non-null  float64\n",
      " 2   Subgroup                                                                              16791 non-null  object \n",
      " 3   Top Subgroup Level                                                                    5622 non-null   object \n",
      " 4   Subgroup Level                                                                        16791 non-null  object \n",
      " 5   Average/SE/N                                                                          17669 non-null  object \n",
      " 6   Percent of firms choosing access to finance as their biggest obstacle                 17669 non-null  object \n",
      " 7   Percent of firms choosing access to land as their biggest obstacle                    17669 non-null  object \n",
      " 8   Percent of firms choosing business licensing and permits as their biggest obstacle    17669 non-null  object \n",
      " 9   Percent of firms choosing corruption as their biggest obstacle                        17669 non-null  object \n",
      " 10  Percent of firms choosing courts as their biggest obstacle                            17669 non-null  object \n",
      " 11  Percent of firms choosing crime, theft and disorder as their biggest obstacle         17669 non-null  object \n",
      " 12  Percent of firms choosing customs and trade regulations as their biggest obstacle     17669 non-null  object \n",
      " 13  Percent of firms choosing electricity as their biggest obstacle                       17669 non-null  object \n",
      " 14  Percent of firms choosing inadequately educated workforce as their biggest obstacle   17669 non-null  object \n",
      " 15  Percent of firms choosing labor regulations as their biggest obstacle                 17669 non-null  object \n",
      " 16  Percent of firms choosing political instability as their biggest obstacle             17669 non-null  object \n",
      " 17  Percent of firms choosing practices of the informal sector as their biggest obstacle  17669 non-null  object \n",
      " 18  Percent of firms choosing tax administration as their biggest obstacle                17669 non-null  object \n",
      " 19  Percent of firms choosing tax rates as their biggest obstacle                         17669 non-null  object \n",
      " 20  Percent of firms choosing transportation as their biggest obstacle                    17669 non-null  object \n",
      "dtypes: float64(1), object(20)\n",
      "memory usage: 2.8+ MB\n"
     ]
    }
   ],
   "source": [
    "obstacles_data.info()"
   ]
  },
  {
   "cell_type": "markdown",
   "metadata": {},
   "source": [
    "All the '*Percent*' columns should not be of `Dtype = object`. It seems there are values such as `n.a`, `n.c.` and `,` instead of `.`. \n",
    "\n",
    "*I arrived to that conclusion after that using `unique()` function for some of these columns and checking the comments after numerous trials of transforming it in `astype(float)`. I am not going to show that experience. It is too time consuming :)*"
   ]
  },
  {
   "cell_type": "code",
   "execution_count": 10,
   "metadata": {},
   "outputs": [],
   "source": [
    "# replace the 'n.c.', 'n.a.'\n",
    "obstacles_data.replace(to_replace = ['n.c.', 'n.a.'], value = np.nan, inplace = True)\n",
    "\n",
    "# replace the ',' with '.'\n",
    "obstacles_data.replace(to_replace = r'(,)', value = '.', regex = True, inplace = True)"
   ]
  },
  {
   "cell_type": "markdown",
   "metadata": {},
   "source": [
    "Luckily, whenever there was values 'n.a.' and 'n.c.' in the 'Pecent...' columns it concerned whole rows. The option of deleting them or setting '0' instead might mislead some the analysis, so I prefer to keep them as `np.nan` as pandas is familiar with this \"value\" and do not take it in consideration when making some of the calculation."
   ]
  },
  {
   "cell_type": "code",
   "execution_count": 11,
   "metadata": {},
   "outputs": [],
   "source": [
    "# for each column starting with 'Percent' we do the transformation\n",
    "for col in obstacles_data.columns:\n",
    "    if 'Percent' in col:\n",
    "        obstacles_data[col] = obstacles_data[col].astype(float)"
   ]
  },
  {
   "cell_type": "code",
   "execution_count": 12,
   "metadata": {},
   "outputs": [
    {
     "name": "stdout",
     "output_type": "stream",
     "text": [
      "<class 'pandas.core.frame.DataFrame'>\n",
      "RangeIndex: 17669 entries, 0 to 17668\n",
      "Data columns (total 21 columns):\n",
      " #   Column                                                                                Non-Null Count  Dtype  \n",
      "---  ------                                                                                --------------  -----  \n",
      " 0   Economy                                                                               17669 non-null  object \n",
      " 1   Year                                                                                  17661 non-null  float64\n",
      " 2   Subgroup                                                                              16791 non-null  object \n",
      " 3   Top Subgroup Level                                                                    5622 non-null   object \n",
      " 4   Subgroup Level                                                                        16791 non-null  object \n",
      " 5   Average/SE/N                                                                          17669 non-null  object \n",
      " 6   Percent of firms choosing access to finance as their biggest obstacle                 15984 non-null  float64\n",
      " 7   Percent of firms choosing access to land as their biggest obstacle                    15984 non-null  float64\n",
      " 8   Percent of firms choosing business licensing and permits as their biggest obstacle    15984 non-null  float64\n",
      " 9   Percent of firms choosing corruption as their biggest obstacle                        15984 non-null  float64\n",
      " 10  Percent of firms choosing courts as their biggest obstacle                            15984 non-null  float64\n",
      " 11  Percent of firms choosing crime, theft and disorder as their biggest obstacle         15984 non-null  float64\n",
      " 12  Percent of firms choosing customs and trade regulations as their biggest obstacle     15984 non-null  float64\n",
      " 13  Percent of firms choosing electricity as their biggest obstacle                       15984 non-null  float64\n",
      " 14  Percent of firms choosing inadequately educated workforce as their biggest obstacle   15984 non-null  float64\n",
      " 15  Percent of firms choosing labor regulations as their biggest obstacle                 15984 non-null  float64\n",
      " 16  Percent of firms choosing political instability as their biggest obstacle             15984 non-null  float64\n",
      " 17  Percent of firms choosing practices of the informal sector as their biggest obstacle  15984 non-null  float64\n",
      " 18  Percent of firms choosing tax administration as their biggest obstacle                15984 non-null  float64\n",
      " 19  Percent of firms choosing tax rates as their biggest obstacle                         15984 non-null  float64\n",
      " 20  Percent of firms choosing transportation as their biggest obstacle                    15984 non-null  float64\n",
      "dtypes: float64(16), object(5)\n",
      "memory usage: 2.8+ MB\n"
     ]
    }
   ],
   "source": [
    "# checking again the data types\n",
    "obstacles_data.info()"
   ]
  },
  {
   "cell_type": "markdown",
   "metadata": {},
   "source": [
    "#### 3. Explore the data"
   ]
  },
  {
   "cell_type": "markdown",
   "metadata": {},
   "source": [
    "Now, let's understand what we have. There are 20 columns (20 features/attributes). The first 5 atributes after the 'Economy' are connected with the year (`Year` column) when the research is conducted, a split on subgroup based on size of the enterprise, location (country's region), sector (Manufaturing or Services and even more segmented than this), gender of Top Managment and ownership type(domestic of with foreign ownwership), as well as a separation on each observation on 'Average score'(in %), 'standard deviation' and 'sample size' all hidden in the `Average/SE/N` column. For all these features I will use the same approach as described for the features starting with 'Percent... ' and the `np.nan` will remain as it can serve very well for filtering later on.\n",
    "\n",
    "When start analysing the `Average/SE/N` column must be cleared and keep only the 'Average score' (as I am not going to go that deep in this report).\n",
    "\n",
    "One more clarification before dealing with that, concerning the `Year` column:"
   ]
  },
  {
   "cell_type": "code",
   "execution_count": 13,
   "metadata": {},
   "outputs": [
    {
     "data": {
      "text/plain": [
       "array([  nan, 2008., 2014., 2007., 2013., 2019., 2006., 2010., 2017.,\n",
       "       2009., 2018., 2016., 2015., 2011., 2012., 2020.])"
      ]
     },
     "execution_count": 13,
     "metadata": {},
     "output_type": "execute_result"
    }
   ],
   "source": [
    "# checking the year values\n",
    "obstacles_data.Year.unique()"
   ]
  },
  {
   "cell_type": "markdown",
   "metadata": {},
   "source": [
    "The data in this column is of type `float64`. It can be transformed in `datetime` using `pandas.to_datetime()` but it is not changing anything to help the further analisys, so I'll keep it as it is.\n",
    "\n",
    "As we know from the data description it looks like not all the countries have a research conducted in the last year. Moreover, in the dataset we have observations for all the survey consucted in each country. That is good from one side and not that helpful from another... but let's try to keep only the rows with the latest year of conducted research and accept that as fully comparable. \n",
    "\n",
    "In order not to lose the 'common' information available on the first 8 rows with this year filtering (year value on this rows is 'NaN'), I wll put it apart beforehand in a `common_obstacles` variable."
   ]
  },
  {
   "cell_type": "code",
   "execution_count": 14,
   "metadata": {},
   "outputs": [],
   "source": [
    "common_obstacles = obstacles_data.loc[0 : 7]"
   ]
  },
  {
   "cell_type": "markdown",
   "metadata": {},
   "source": [
    "Then I will apply a filter on the data leaving only the latest available research per country putting it in a separate variable, that will be concatenated with the `common_obstacles`."
   ]
  },
  {
   "cell_type": "code",
   "execution_count": 15,
   "metadata": {},
   "outputs": [],
   "source": [
    "# applying the filter for leaving the latest available research per country as decribed\n",
    "contries_obstacles_latest = obstacles_data[obstacles_data['Year'] == obstacles_data.groupby('Economy')['Year'].transform('max')]\n",
    "\n",
    "# concatenating vertically both variables\n",
    "latest_obstacles_data = pd.concat([common_obstacles, contries_obstacles_latest], ignore_index = True)"
   ]
  },
  {
   "cell_type": "code",
   "execution_count": 16,
   "metadata": {},
   "outputs": [
    {
     "name": "stdout",
     "output_type": "stream",
     "text": [
      "(8768, 21)\n"
     ]
    }
   ],
   "source": [
    "shape = latest_obstacles_data.shape # keeping it for further test\n",
    "print(shape)"
   ]
  },
  {
   "cell_type": "markdown",
   "metadata": {},
   "source": [
    "That cut the data by two. Let's deal with the `Average/SE/N` now. That would simplify the table 3 times. We would better keep only the 'Average' values as it showing the data we can compare on. I will filter and than drop the column."
   ]
  },
  {
   "cell_type": "code",
   "execution_count": 17,
   "metadata": {},
   "outputs": [],
   "source": [
    "# filter\n",
    "latest_obstacles_data = latest_obstacles_data[latest_obstacles_data['Average/SE/N'] == 'Average']\n",
    "\n",
    "# drop the column 'Average/SE/N' and 'Year' ( we will use only the latest now)\n",
    "latest_obstacles_data = latest_obstacles_data.drop(['Year', 'Average/SE/N'], axis = 1)"
   ]
  },
  {
   "cell_type": "code",
   "execution_count": 18,
   "metadata": {},
   "outputs": [],
   "source": [
    "# Tests:\n",
    "\n",
    "# check with the shape - the attributes must be now 19 (two less)\n",
    "assert_equal(19, latest_obstacles_data.shape[1])\n",
    "# check if the shape is reduced by three, allowing possibel deviation of the 8 rows of common\n",
    "assert_almost_equal(shape[0]/3 , latest_obstacles_data.shape[0], delta = 8)"
   ]
  },
  {
   "cell_type": "code",
   "execution_count": 19,
   "metadata": {},
   "outputs": [
    {
     "name": "stdout",
     "output_type": "stream",
     "text": [
      "<class 'pandas.core.frame.DataFrame'>\n",
      "Int64Index: 2928 entries, 0 to 8765\n",
      "Data columns (total 19 columns):\n",
      " #   Column                                                                                Non-Null Count  Dtype  \n",
      "---  ------                                                                                --------------  -----  \n",
      " 0   Economy                                                                               2928 non-null   object \n",
      " 1   Subgroup                                                                              2776 non-null   object \n",
      " 2   Top Subgroup Level                                                                    912 non-null    object \n",
      " 3   Subgroup Level                                                                        2776 non-null   object \n",
      " 4   Percent of firms choosing access to finance as their biggest obstacle                 2903 non-null   float64\n",
      " 5   Percent of firms choosing access to land as their biggest obstacle                    2903 non-null   float64\n",
      " 6   Percent of firms choosing business licensing and permits as their biggest obstacle    2903 non-null   float64\n",
      " 7   Percent of firms choosing corruption as their biggest obstacle                        2903 non-null   float64\n",
      " 8   Percent of firms choosing courts as their biggest obstacle                            2903 non-null   float64\n",
      " 9   Percent of firms choosing crime, theft and disorder as their biggest obstacle         2903 non-null   float64\n",
      " 10  Percent of firms choosing customs and trade regulations as their biggest obstacle     2903 non-null   float64\n",
      " 11  Percent of firms choosing electricity as their biggest obstacle                       2903 non-null   float64\n",
      " 12  Percent of firms choosing inadequately educated workforce as their biggest obstacle   2903 non-null   float64\n",
      " 13  Percent of firms choosing labor regulations as their biggest obstacle                 2903 non-null   float64\n",
      " 14  Percent of firms choosing political instability as their biggest obstacle             2903 non-null   float64\n",
      " 15  Percent of firms choosing practices of the informal sector as their biggest obstacle  2903 non-null   float64\n",
      " 16  Percent of firms choosing tax administration as their biggest obstacle                2903 non-null   float64\n",
      " 17  Percent of firms choosing tax rates as their biggest obstacle                         2903 non-null   float64\n",
      " 18  Percent of firms choosing transportation as their biggest obstacle                    2903 non-null   float64\n",
      "dtypes: float64(15), object(4)\n",
      "memory usage: 457.5+ KB\n"
     ]
    }
   ],
   "source": [
    "latest_obstacles_data.info()"
   ]
  },
  {
   "cell_type": "markdown",
   "metadata": {},
   "source": [
    "The `Subgroup`, `Top Subgroup Level` and `Subgroup Level` provides some kind of hierarchical split (in that order), so I will keep them in `latest_obstacles_data` as filter of different levels of comparaison with Bulgaria later on.\n",
    "\n",
    "\n",
    "Let's find out what pricisely they could propose us to keep in mind for further analysis:"
   ]
  },
  {
   "cell_type": "code",
   "execution_count": 20,
   "metadata": {},
   "outputs": [
    {
     "data": {
      "text/plain": [
       "array([nan, 'Sector', 'Size', 'Location', 'Exporter Type',\n",
       "       'Gender of Top Manager', 'Ownership Type'], dtype=object)"
      ]
     },
     "execution_count": 20,
     "metadata": {},
     "output_type": "execute_result"
    }
   ],
   "source": [
    "latest_obstacles_data.Subgroup.unique()"
   ]
  },
  {
   "cell_type": "code",
   "execution_count": 21,
   "metadata": {},
   "outputs": [
    {
     "data": {
      "text/plain": [
       "array([nan, 'Manufacturing', 'Services'], dtype=object)"
      ]
     },
     "execution_count": 21,
     "metadata": {},
     "output_type": "execute_result"
    }
   ],
   "source": [
    "latest_obstacles_data['Top Subgroup Level'].unique()"
   ]
  },
  {
   "cell_type": "code",
   "execution_count": 22,
   "metadata": {},
   "outputs": [
    {
     "data": {
      "text/plain": [
       "array([nan, 'All', 'Manufacturing', 'Construction', 'Retail',\n",
       "       'Other Services', 'Small (5-19)', 'Medium (20-99)', 'Large (100+)',\n",
       "       'Herat', 'Jalalabad', 'Kabul', 'Kandahar', 'Mazar-E-Sharif',\n",
       "       'Direct exports are 10% or more of sales', 'Non-exporter',\n",
       "       'Top manager is female', 'Top manager is male', 'Domestic',\n",
       "       'Central Albania', 'North Albania', 'Southern Albania',\n",
       "       '10% or more foreign ownership', 'Benguela', 'Huambo', 'Luanda',\n",
       "       'Services', 'Entire Country', 'Food', 'Textiles & Garments',\n",
       "       'Other Manufacturing', 'Buenos Aires', 'Cordoba', 'Mendoza',\n",
       "       'Rosario', 'Tucuman', ' North', 'South East', 'South West',\n",
       "       'Yerevan', 'Baku & Absheron', 'Center', 'West', 'Garments',\n",
       "       'Leather Products', 'Chemicals & Chemical Products',\n",
       "       'Motor Vehicles & Transport Equip.', 'Furniture', 'Chittagong',\n",
       "       'Dhaka', 'Khulna', 'Rajshahi', 'Brestskaya. Grodnenskaya',\n",
       "       'Gomelskaya. Mogilevskaya', 'Minsk', 'Minskaya', 'Vitebskaya',\n",
       "       'Atlantique. Borgou. Mono. OuÃ©mÃ©', 'Littoral',\n",
       "       'Hospitality & Tourism', 'Gelephu/Sarpang', 'Phuentsholing',\n",
       "       'Samdrup Jongkhar', 'Thimphu/Paro', 'Cochabamba', 'La Paz',\n",
       "       'Santa Cruz', 'Bosnia & Hercegovina Region',\n",
       "       'Republika Srpska & Distrikt Brcko', 'Sarajevo Region',\n",
       "       'Francistown', 'Gaborone', 'Textiles', 'Machinery & Equipment',\n",
       "       'Motor Vehicles', 'IT & IT Services', 'Amazonas', 'Bahia',\n",
       "       'Brasilia DF', 'Ceara', 'Goias', 'Maranhao', 'Mato Grosso',\n",
       "       'Minas Gerais', 'Paraiba', 'Parana', 'Pernambuco',\n",
       "       'Rio de Janeiro', 'Rio Grande do Sul', 'Santa Catarina',\n",
       "       'Sao Paulo', 'Severen tsentralen', 'Severoiztochen',\n",
       "       'Severozapaden', 'Yugoiztochen', 'Yugozapaden',\n",
       "       'Yuzhen Tsentralen', 'Bobo-Dioulasso', 'Ouagadougou', 'Bujumbura',\n",
       "       'Gitega', 'Ngozi', 'Sal', 'Santiago', 'Sao Vicente', 'Coastal',\n",
       "       'Mountains', 'Phnom Penh', 'Plains', 'Tonle Sap', 'Bangui',\n",
       "       'Berberati', \"N'Djamena\", 'Chemicals. Plastics & Rubber',\n",
       "       'Basic Metals/Fabricated Metals/Machinery & Equip.', 'Antofagasta',\n",
       "       'Los Lagos', 'Valparaiso', 'Rubber & Plastics Products',\n",
       "       'Non-Metallic Mineral Products', 'Fabricated Metal Products',\n",
       "       'Basic Metals & Metal Products',\n",
       "       'Electronics & Communications Equip.',\n",
       "       'Services of Motor Vehicles', 'Wholesale', 'Hotels & Restaurants',\n",
       "       'Transport. Storage. & Communications', 'Beijing (Municipalities)',\n",
       "       'Chengdu City', 'Dalian City', 'Dongguan City', 'Foshan City',\n",
       "       'Guangzhou City', 'Hangzhou City', 'Hefei City', 'Jinan City',\n",
       "       'Luoyang City', 'Nanjing City', 'Nantong City', 'Ningbo City',\n",
       "       'Qingdao City', 'Shanghai (Municipalities)', 'Shenyang City',\n",
       "       'Shenzhen City', 'Shijiazhuang City', 'Suzhou City',\n",
       "       'Tangshan City', 'Wenzhou City', 'Wuhan City', 'Wuxi City',\n",
       "       'Yantai City', 'Zhengzhou City', 'Barranquilla', 'Bogota', 'Cali',\n",
       "       'Cartagena', 'Medellin', 'Central', 'East', 'South', 'Brazzaville',\n",
       "       'Pointe-Noire', 'Minerals. Metals. Machinery & Equipment',\n",
       "       'Rest of the country', 'San Jose', 'Abidjan', 'Jadranska Hrvatska',\n",
       "       'Kontinentalna Hrvatska', 'Republic Of Cyprus', 'North',\n",
       "       'Djibouti City', 'Santiago.  Puerto Plata. Espaillat',\n",
       "       'Santo Domingo', 'Azuay', 'Guayas', 'Pichincha',\n",
       "       'Machinery & Equipment. Electronics & Vehicles',\n",
       "       'Wood products. Furniture. Paper & Publishing',\n",
       "       'Petroleum products. Plastics & Rubber',\n",
       "       'Services of Motor Vehicles/Wholesale/Retail', 'Greater Cairo',\n",
       "       'Middle & East Delta', 'Northern Upper Egypt',\n",
       "       'Southern Upper Egypt', 'Suez Region', 'West Delta',\n",
       "       'Greater San Salvador', 'San Salvador', 'Debub', 'Maekel',\n",
       "       'Northern Red Sea', 'LÃ¤Ã¤ne-Eesti. Kesk-Eesti ja Kirde-Eesti',\n",
       "       'LÃµuna-Eesti', 'PÃµHja-Eesti', 'Eswatini', 'Transport',\n",
       "       'Addisababa', 'Amhara', 'Dredawa', 'Oromia', 'Snnpr', 'Tigray',\n",
       "       'Fiji', 'Libreville', 'Owendo', 'Port-Gentil', 'Gambia',\n",
       "       'North And West', 'Tbilisi', 'Accra', 'Takoradi', 'Tema',\n",
       "       'Aegean Islands. Crete', 'Attica', 'Central Greece',\n",
       "       'Northern Greece', 'Greater Guatemala City', 'Conakry', 'Bissau',\n",
       "       'Tegucigalpa', 'Central Hungary', 'Central Transdanubia',\n",
       "       'Northern Great Plain', 'Northern Hungary', 'Southern Great Plain',\n",
       "       'Southern Transdanubia', 'Western Transdanubia', 'Andhra Pradesh',\n",
       "       'Arunachal Pradesh. Nagaland. Manipur. Tripura. And Meghalaya',\n",
       "       'Assam', 'Bihar', 'Chhattisgarh', 'Delhi', 'Goa', 'Gujarat',\n",
       "       'Haryana', 'Himachal Pradesh', 'Jammu & Kashmir', 'Jharkhand',\n",
       "       'Karnataka', 'Kerala', 'Madhya Pradesh', 'Maharashtra', 'Orissa',\n",
       "       'Punjab', 'Rajasthan', 'Tamil Nadu', 'Uttar Pradesh',\n",
       "       'Uttaranchal', 'West Bengal', 'Bali', 'Banten', 'DKI Jakarta',\n",
       "       'Jawa Barat', 'Jawa Tengah', 'Jawa Timur', 'Lampung',\n",
       "       'Sulawesi Selatan', 'Sumatera Utara', 'Wholesale & Retail',\n",
       "       'Al-Najaf', 'Arbil', 'Babil', 'Baghdad', 'Basrah', 'Kerbela',\n",
       "       'Kirkuk', 'Nineveh', 'Suleimaniyah', 'Thi-Qar',\n",
       "       'Haifa And The North', 'Jerusalem And The South', 'Tel Aviv',\n",
       "       'Islands', 'Northeast', 'Northwest', 'Kingston', 'Amman', 'Irbid',\n",
       "       'North & Central', 'Zarqa', 'Akmola Region', 'Aktobe Region',\n",
       "       'Almaty', 'Almaty Region', 'Atyrau Region', 'East Kazakhstan',\n",
       "       'Karaganda Region', 'Kostanay North Kazakhstan And Pavlodar',\n",
       "       'Kyzylorda Region. South Kazakhstan. Jambyl',\n",
       "       'Mangystau And West Kazakhstan', 'Nur-Sultan', 'Kiambu', 'Kilifi',\n",
       "       'Kirinyaga', 'Kisumu', 'Machakos', 'Mombasa', 'Nairobi', 'Nakuru',\n",
       "       'Trans Nzoia', 'Uasin Gishu', 'Eastern Kosovo', 'Western Kosovo',\n",
       "       'Bishkek', 'Chui. Jalalabad. Issyk-Kul',\n",
       "       'Talas. Naryn. Osh. Batken', 'Champasak', 'Khammouane',\n",
       "       'Luang Prabang', 'SavannakhÃ©t', 'Vientiane', 'Kurzeme & Zemgale',\n",
       "       'Riga & Pieriga', 'Vidzeme & Latgale', 'Beirut',\n",
       "       'Bekaa Valley & North Lebanon', 'Mount Lebanon', 'Nabatieh',\n",
       "       'South Lebanon', 'Lesotho', 'Margibi', 'Montserrado', 'Nimba',\n",
       "       'Kaunus & Klaipeda', 'Vilnius', 'Mining Related Manufacturing',\n",
       "       'Analamanga', 'Anosy', 'Antsinanana', 'Atsimo Andrefana', 'Boeny',\n",
       "       'Diana', 'Nosy Be', 'Vakinankaratra', 'Blantyre', 'Kasungu',\n",
       "       'Lilongwe', 'Mangochi', 'Mzimba', 'Zomba', 'East Coast',\n",
       "       'East Malaysia', 'Bamako', 'Mopti. SÃ©gou. Sikasso', 'Malta',\n",
       "       'Nouadhibou', 'Nouakchott', 'Port Louis', 'Coahuila',\n",
       "       'Estado de Mexico', 'Guanajuato', 'Jalisco', 'Mexico DF',\n",
       "       'Nuevo Leon', 'Puebla', 'Veracruz', 'Pohnpei',\n",
       "       'Central & East Mongolia', 'Khangai & West Mongolia',\n",
       "       'Ulaanbaatar', 'BÃ©ni Mellal-KhÃ©nifra and DrÃ¢a-Tafilalet',\n",
       "       'Casablanca-Settat', 'FÃ¨s-MeknÃ¨s', 'Marrakech-Safi', 'Oriental',\n",
       "       'Rabat-SalÃ©-KÃ©nitra', 'Souss-Massa',\n",
       "       'Tanger-TÃ©touan-Al Hoceima',\n",
       "       'Metals. Machinery. Computer & Electronics', 'Cabo Delgado',\n",
       "       'Manica', 'Maputo (Greater)', 'Nampula', 'Sofala', 'Tete',\n",
       "       'ZambÃ©zia', 'Bago', 'Mandalay', 'Monywa', 'Taunggyi', 'Yangon',\n",
       "       'Oshakati/ Ondangwa/ Ongwediva', 'Walvis Bay/ Swakopmund',\n",
       "       'Windhoek/ Okahandja', 'Managua', 'Maradi', 'Niamey',\n",
       "       'Printing & Publishing', 'Manufacturing Panel', 'Retail Panel',\n",
       "       'Other Services Panel', 'Abia', 'Abuja', 'Anambra', 'Cross River',\n",
       "       'Enugu', 'Gombe', 'Jigawa', 'Kaduna', 'Kano', 'Katsina', 'Kebbi',\n",
       "       'Kwara', 'Lagos', 'Nasarawa', 'Niger', 'Ogun', 'Oyo', 'Sokoto',\n",
       "       'Zamfara', 'Eastern Macedonia', 'Skopje', 'Western Macedonia',\n",
       "       'Balochistan', 'Islamabad', 'Khyber-Pakhtunkhwa', 'Sindh',\n",
       "       'Panama City', 'Lae', 'Port Moresby', 'Asuncion', 'Arequipa',\n",
       "       'Chiclayo', 'Lima', 'Piura', 'Trujillo', 'Electronics',\n",
       "       'Calabarzon', 'Central Luzon', 'Metro Cebu', 'Metro Manila',\n",
       "       'NCR Excluding Manila', 'Southwest', 'Alentejo', 'Algarve',\n",
       "       'Autonomous Region of the Azores & Autonomous Region of Madeira',\n",
       "       'Lisbon Metropolitan Area', 'Bucharest-Ilfov', 'Centru',\n",
       "       'Macroregiunea patru', 'Nord-Est', 'Nord-Vest', 'Sud-Est',\n",
       "       'Sud-Muntenia', 'Vest', 'Central Federal District',\n",
       "       'Far Eastern Federal District', 'North-West Federal District',\n",
       "       'Siberian Federal District',\n",
       "       'Southern Federal District And North-Caucasian Federal District',\n",
       "       'Ural Federal District', 'Volga Federal District', 'Kigali',\n",
       "       'Southern Province', 'Western Province', 'Samoa', 'Dakar',\n",
       "       'Kaolack', 'Saint-Louis', 'Thiès', 'Belgrade', 'South Serbia',\n",
       "       'Vojvodina', 'Bo', 'Bombali', 'Kenema', 'Western Urban',\n",
       "       'Bratislava Region', 'Central Slovakia', 'Eastern Slovakia',\n",
       "       'Western Slovakia', 'Eastern Slovenia', 'Western Slovenia',\n",
       "       'Honiara', 'Rest of Universe-Manufacturing',\n",
       "       'Rest of Universe-Services', 'Cape Town', 'Durban', 'Johannesburg',\n",
       "       'Port Elizabeth', 'Juba', 'Nimule', 'Torit', 'Yei', 'Eastern',\n",
       "       'North-Central', 'Northern', 'North-Western', 'Sabaragamuwa',\n",
       "       'Southern', 'Uva', 'Western', 'Bahri', 'Khartoum', 'Om Durman',\n",
       "       'Paramaribo And Nickerie',\n",
       "       'BorÃ¥s. GÃ¶teborg. JÃ¶nkÃ¶ping. TrollhÃ¤ttan',\n",
       "       'LinkÃ¶ping. Ã–rebro. Karlstad. VÃ¤sterÃ¥s', 'MalmÃ¶-Lund',\n",
       "       'Stockholm-Solna', 'Dushanbe',\n",
       "       'Region Of Republican Subordination & Khatlon', 'Sughd', 'Arusha',\n",
       "       'Dar es Salaam', 'Mbeya', 'Mwanza', 'Zanzibar', 'Bangkok', 'Dili',\n",
       "       'LomÃ©', 'Plateaux. Centrale. Kara', 'Tongatapu', 'Port Of Spain',\n",
       "       'Interior', 'Sfax', 'South Coast/West', 'Tunis', 'Aegean',\n",
       "       'Central Anatolia', 'Central East Anatolia', 'East Black Sea',\n",
       "       'East Marmara', 'Istanbul', 'Mediterranean', 'Northeast Anatolia',\n",
       "       'Southeast Anatolia', 'West Anatolia', 'West Black Sea',\n",
       "       'West Marmara', 'Jinja', 'Kampala', 'Lira', 'Mbale', 'Mbarara',\n",
       "       'Wakiso', 'Cherkaska. Chernihivska', 'Dnipropetrovska. Kharkivska',\n",
       "       'Khersonska. Mykolaivska. Odeska', 'Kirovohradska. Poltavska',\n",
       "       'Kyiv', 'Sumska. Zaporizka', 'Vinnytska. Zhytomyrska', 'Canelones',\n",
       "       'Montevideo', 'Andijan Region', 'Fergana Region', 'Karakalpakstan',\n",
       "       'Navoiy And Jizzakh Region', 'Qashqadaryo Region',\n",
       "       'Samarqand Region', 'Surxondaryo Region', 'Tashkent',\n",
       "       'Tashkent Region', 'Efate ', 'Caracas', 'Maracay', 'Valencia',\n",
       "       'Mekong River Delta',\n",
       "       'North Central Area And Central Coastal Area', 'Red River Delta',\n",
       "       'Gaza Strip', 'West Bank', 'Amanat Al-Asemah(Sanna)',\n",
       "       'Wholesale of Agri Inputs & Equipment', 'Kitwe', 'Livingstone',\n",
       "       'Lusaka', 'Ndola', 'Bulawayo', 'Harare', 'Manicaland', 'Midlands'],\n",
       "      dtype=object)"
      ]
     },
     "execution_count": 22,
     "metadata": {},
     "output_type": "execute_result"
    }
   ],
   "source": [
    "latest_obstacles_data['Subgroup Level'].unique()"
   ]
  },
  {
   "cell_type": "markdown",
   "metadata": {},
   "source": [
    "It looks there is `Gender of Top Management` and `Ownership Type` in the `Subgroup` level. Hmmm... interesting!"
   ]
  },
  {
   "cell_type": "markdown",
   "metadata": {},
   "source": [
    "From `latest_obstacles_data` dataframe a new dataframe will be created and memorized in the variable `top_level_obstacles` by removing any specific filter of the columns enumerated above."
   ]
  },
  {
   "cell_type": "code",
   "execution_count": 23,
   "metadata": {},
   "outputs": [],
   "source": [
    "# removing all `Subgroup`, `Top Subgroup Level` and `Subgroup Level` specifities\n",
    "top_level_obstacles = latest_obstacles_data[latest_obstacles_data['Top Subgroup Level'].isna() &\n",
    "                                            latest_obstacles_data['Subgroup'].isna() &\n",
    "                                            latest_obstacles_data['Subgroup Level'].isna()]\n",
    "\n",
    "# the same can be achieved by simply using\n",
    "#top_level_obstacles = latest_obstacles_data[latest_obstacles_data['Subgroup Level'].isna()]"
   ]
  },
  {
   "cell_type": "markdown",
   "metadata": {},
   "source": [
    "If we want to re-arange the table columns based on importance of obstacles we can use the worldwide average: row 'All' that we can find at index '0'."
   ]
  },
  {
   "cell_type": "code",
   "execution_count": 24,
   "metadata": {},
   "outputs": [],
   "source": [
    "# sorting the list of factors/obstacles based on worldwide average\n",
    "importance_list = [e[0] for e in sorted(list(zip(top_level_obstacles.columns[4:], \n",
    "                                                 top_level_obstacles.loc[0][4:].tolist())), key=lambda x: -x[1])]\n",
    "\n",
    "# now we can transform and re-arrange the table\n",
    "top_level_obstacles = top_level_obstacles.reindex(columns = ['Economy'] + importance_list)"
   ]
  },
  {
   "cell_type": "markdown",
   "metadata": {},
   "source": [
    "Anyway, there is oe more thing we can do to simplify the job - some of the names have too many text. I'd better clear the columns' names from repeated text. For that purpose a function `clear_list` will be created:"
   ]
  },
  {
   "cell_type": "code",
   "execution_count": 25,
   "metadata": {},
   "outputs": [],
   "source": [
    "def clear_list(lst, pattern=r'^Percent\\sof\\sfirms\\schoosing\\s(.+)\\sas\\stheir\\sbiggest\\sobstacle$'):\n",
    "    \"\"\"\n",
    "    Clear the unnecessairy words in a list of features descriptions using RegEx as defined in the pattern variable\n",
    "    \n",
    "    Parameter: list, pattern = any, default = r'^Percent\\sof\\sfirms\\schoosing\\s(.+)\\sas\\stheir\\sbiggest\\sobstacle$'\n",
    "    Return: list with refactored elements\n",
    "    \"\"\"\n",
    "    \n",
    "    return_list = []\n",
    "    for i in lst:\n",
    "        x = re.findall(pattern, i)\n",
    "        if x:\n",
    "            return_list.append(*x)\n",
    "        else:\n",
    "            return_list.append(i)\n",
    "    \n",
    "    return return_list"
   ]
  },
  {
   "cell_type": "code",
   "execution_count": 26,
   "metadata": {},
   "outputs": [
    {
     "data": {
      "text/html": [
       "<div>\n",
       "<style scoped>\n",
       "    .dataframe tbody tr th:only-of-type {\n",
       "        vertical-align: middle;\n",
       "    }\n",
       "\n",
       "    .dataframe tbody tr th {\n",
       "        vertical-align: top;\n",
       "    }\n",
       "\n",
       "    .dataframe thead th {\n",
       "        text-align: right;\n",
       "    }\n",
       "</style>\n",
       "<table border=\"1\" class=\"dataframe\">\n",
       "  <thead>\n",
       "    <tr style=\"text-align: right;\">\n",
       "      <th></th>\n",
       "      <th>Economy</th>\n",
       "      <th>access to finance</th>\n",
       "      <th>tax rates</th>\n",
       "      <th>practices of the informal sector</th>\n",
       "      <th>political instability</th>\n",
       "      <th>electricity</th>\n",
       "      <th>inadequately educated workforce</th>\n",
       "      <th>corruption</th>\n",
       "      <th>crime, theft and disorder</th>\n",
       "      <th>tax administration</th>\n",
       "      <th>transportation</th>\n",
       "      <th>customs and trade regulations</th>\n",
       "      <th>access to land</th>\n",
       "      <th>labor regulations</th>\n",
       "      <th>business licensing and permits</th>\n",
       "      <th>courts</th>\n",
       "    </tr>\n",
       "  </thead>\n",
       "  <tbody>\n",
       "    <tr>\n",
       "      <th>0</th>\n",
       "      <td>All</td>\n",
       "      <td>14.4</td>\n",
       "      <td>12.6</td>\n",
       "      <td>11.6</td>\n",
       "      <td>11.0</td>\n",
       "      <td>9.3</td>\n",
       "      <td>8.6</td>\n",
       "      <td>7.0</td>\n",
       "      <td>4.0</td>\n",
       "      <td>4.0</td>\n",
       "      <td>3.9</td>\n",
       "      <td>3.6</td>\n",
       "      <td>3.2</td>\n",
       "      <td>3.1</td>\n",
       "      <td>2.8</td>\n",
       "      <td>0.9</td>\n",
       "    </tr>\n",
       "    <tr>\n",
       "      <th>1</th>\n",
       "      <td>East Asia &amp; Pacific</td>\n",
       "      <td>12.1</td>\n",
       "      <td>10.7</td>\n",
       "      <td>14.0</td>\n",
       "      <td>12.8</td>\n",
       "      <td>6.5</td>\n",
       "      <td>8.9</td>\n",
       "      <td>7.6</td>\n",
       "      <td>4.1</td>\n",
       "      <td>3.1</td>\n",
       "      <td>4.9</td>\n",
       "      <td>2.7</td>\n",
       "      <td>5.3</td>\n",
       "      <td>3.3</td>\n",
       "      <td>3.2</td>\n",
       "      <td>0.8</td>\n",
       "    </tr>\n",
       "    <tr>\n",
       "      <th>2</th>\n",
       "      <td>Europe &amp; Central Asia</td>\n",
       "      <td>9.3</td>\n",
       "      <td>19.6</td>\n",
       "      <td>13.2</td>\n",
       "      <td>10.4</td>\n",
       "      <td>3.8</td>\n",
       "      <td>14.8</td>\n",
       "      <td>4.9</td>\n",
       "      <td>1.5</td>\n",
       "      <td>5.4</td>\n",
       "      <td>4.8</td>\n",
       "      <td>2.4</td>\n",
       "      <td>1.8</td>\n",
       "      <td>3.9</td>\n",
       "      <td>2.8</td>\n",
       "      <td>1.5</td>\n",
       "    </tr>\n",
       "    <tr>\n",
       "      <th>3</th>\n",
       "      <td>High income: OECD</td>\n",
       "      <td>0.6</td>\n",
       "      <td>63.4</td>\n",
       "      <td>7.9</td>\n",
       "      <td>2.9</td>\n",
       "      <td>2.4</td>\n",
       "      <td>4.4</td>\n",
       "      <td>0.8</td>\n",
       "      <td>0.2</td>\n",
       "      <td>13.0</td>\n",
       "      <td>1.4</td>\n",
       "      <td>1.1</td>\n",
       "      <td>0.0</td>\n",
       "      <td>1.3</td>\n",
       "      <td>0.5</td>\n",
       "      <td>0.1</td>\n",
       "    </tr>\n",
       "    <tr>\n",
       "      <th>4</th>\n",
       "      <td>Latin America &amp; Caribbean</td>\n",
       "      <td>13.4</td>\n",
       "      <td>11.4</td>\n",
       "      <td>12.6</td>\n",
       "      <td>6.9</td>\n",
       "      <td>8.3</td>\n",
       "      <td>10.9</td>\n",
       "      <td>7.2</td>\n",
       "      <td>8.3</td>\n",
       "      <td>3.3</td>\n",
       "      <td>3.3</td>\n",
       "      <td>4.7</td>\n",
       "      <td>1.3</td>\n",
       "      <td>4.4</td>\n",
       "      <td>3.2</td>\n",
       "      <td>1.0</td>\n",
       "    </tr>\n",
       "  </tbody>\n",
       "</table>\n",
       "</div>"
      ],
      "text/plain": [
       "                     Economy  access to finance  tax rates  \\\n",
       "0                        All               14.4       12.6   \n",
       "1        East Asia & Pacific               12.1       10.7   \n",
       "2      Europe & Central Asia                9.3       19.6   \n",
       "3          High income: OECD                0.6       63.4   \n",
       "4  Latin America & Caribbean               13.4       11.4   \n",
       "\n",
       "   practices of the informal sector  political instability  electricity  \\\n",
       "0                              11.6                   11.0          9.3   \n",
       "1                              14.0                   12.8          6.5   \n",
       "2                              13.2                   10.4          3.8   \n",
       "3                               7.9                    2.9          2.4   \n",
       "4                              12.6                    6.9          8.3   \n",
       "\n",
       "   inadequately educated workforce  corruption  crime, theft and disorder  \\\n",
       "0                              8.6         7.0                        4.0   \n",
       "1                              8.9         7.6                        4.1   \n",
       "2                             14.8         4.9                        1.5   \n",
       "3                              4.4         0.8                        0.2   \n",
       "4                             10.9         7.2                        8.3   \n",
       "\n",
       "   tax administration  transportation  customs and trade regulations  \\\n",
       "0                 4.0             3.9                            3.6   \n",
       "1                 3.1             4.9                            2.7   \n",
       "2                 5.4             4.8                            2.4   \n",
       "3                13.0             1.4                            1.1   \n",
       "4                 3.3             3.3                            4.7   \n",
       "\n",
       "   access to land  labor regulations  business licensing and permits  courts  \n",
       "0             3.2                3.1                             2.8     0.9  \n",
       "1             5.3                3.3                             3.2     0.8  \n",
       "2             1.8                3.9                             2.8     1.5  \n",
       "3             0.0                1.3                             0.5     0.1  \n",
       "4             1.3                4.4                             3.2     1.0  "
      ]
     },
     "execution_count": 26,
     "metadata": {},
     "output_type": "execute_result"
    }
   ],
   "source": [
    "# applying the 'clear_list' function to our columns name and replace them\n",
    "importance_list2 = ['Economy'] + clear_list(importance_list)\n",
    "top_level_obstacles.columns = importance_list2\n",
    "top_level_obstacles.head()"
   ]
  },
  {
   "cell_type": "markdown",
   "metadata": {},
   "source": [
    "Now, it ilooks much more user-friendly."
   ]
  },
  {
   "cell_type": "markdown",
   "metadata": {},
   "source": [
    "It will be interesting to see where is Bulgaria compared to the worldwide average ('All') and 'Europe & Central Asia'. I will again make a separate function for that, as we might need it for the future as well:"
   ]
  },
  {
   "cell_type": "code",
   "execution_count": 27,
   "metadata": {},
   "outputs": [],
   "source": [
    "def bar_factors_for_list_of_countries(lst, dataframe, index, title = \"Biggest obstacles\"):\n",
    "    \"\"\"\n",
    "    Plot a horizontal bar graph for all contries given in a list for each column starting from concrete index\n",
    "    \n",
    "    Parameters:\n",
    "    lst : list of countries (preferably up to 3 for the sake of readability)\n",
    "    dataframe : pandas' DataFrame with 'Economy' column representing the countries\n",
    "    index : index of column (first column index = 0) from which the data should be present on the graph\n",
    "    title : optional title\n",
    "    \"\"\"\n",
    "    plt.figure(figsize=(12,10))\n",
    "    for country in lst:\n",
    "        plt.barh(dataframe.columns[index:][::-1], \n",
    "                 dataframe[dataframe.Economy == country].values.tolist()[0][index:][::-1], \n",
    "                 alpha = 0.5, \n",
    "                 label = country)\n",
    "    \n",
    "    plt.xlabel('Importance of factors according to enterprises, [%]')\n",
    "    plt.title(f'{title} for {lst}')\n",
    "    \n",
    "    plt.legend()\n",
    "    plt.show()"
   ]
  },
  {
   "cell_type": "code",
   "execution_count": 28,
   "metadata": {},
   "outputs": [
    {
     "data": {
      "image/png": "[encoded data removed]",
      "text/plain": [
       "<Figure size 864x720 with 1 Axes>"
      ]
     },
     "metadata": {
      "needs_background": "light"
     },
     "output_type": "display_data"
    }
   ],
   "source": [
    "# defining the list\n",
    "lst = ['Bulgaria', 'Europe & Central Asia', 'All']\n",
    "\n",
    "#appying the function to draw the bars\n",
    "bar_factors_for_list_of_countries(lst, top_level_obstacles, 1)"
   ]
  },
  {
   "cell_type": "markdown",
   "metadata": {},
   "source": [
    "Obviously, we (bulgarians) look OK when it comes to 'access to finance', 'electricity', 'access to land' and 'customs and trade regulations'. It is more interesting to focus on the parts where the enterprises see real obstacles:\n",
    "\n",
    "1. 'practices of the informal sector'\n",
    "2. 'inadequately educated workforce'\n",
    "3. 'business licensing and permits'\n",
    "\n",
    "To imagine where Bulgaria stands among the other countries, I will design a small function which is going to plot a histogram of the whole column (for all Economies) and that will plot a line where Bulgaria is situated. The height of the bin aligned with Bulgaria's value will show how many countries have similar level of the problem."
   ]
  },
  {
   "cell_type": "code",
   "execution_count": 29,
   "metadata": {},
   "outputs": [],
   "source": [
    "def histogram_plot(problem, country_to_observe, title=\" \", bins = 10):\n",
    "    \"\"\"\n",
    "    plot a histogram of a 'problem' (for all Economies) with a line showing the value for the 'country_to_observe'.\n",
    "    \n",
    "    Parameters:\n",
    "    problem: string containing the name the problematic factor to plot a histogram for\n",
    "    country_to_observe: string showing the 'Economy' which specific value to be shown on the histogram\n",
    "    title: optional string for title of the plot\n",
    "    bins: integer size of the bins, as for a the ususal matplotlib histogram function, optional, default = 10\n",
    "    \"\"\"\n",
    "    plt.hist(top_level_obstacles[problem], bins = bins)\n",
    "    x = top_level_obstacles[top_level_obstacles.Economy == country_to_observe][problem].values\n",
    "    plt.axvline(x, color = 'r', linestyle = 'dashed', linewidth = 2)\n",
    "    plt.text(x + 1, 28, s = country_to_observe)\n",
    "    plt.xlabel(\"Share of enterprises considering this factor as biggest obstacle [%]\")\n",
    "    plt.ylabel(\"No of countries\")\n",
    "    plt.title(title)\n",
    "    plt.grid('true')"
   ]
  },
  {
   "cell_type": "code",
   "execution_count": 30,
   "metadata": {},
   "outputs": [
    {
     "data": {
      "image/png": "[encoded data removed]",
      "text/plain": [
       "<Figure size 432x288 with 1 Axes>"
      ]
     },
     "metadata": {
      "needs_background": "light"
     },
     "output_type": "display_data"
    }
   ],
   "source": [
    "histogram_plot('practices of the informal sector', 'Bulgaria', title = 'Distribution of practices of the informal sector')"
   ]
  },
  {
   "cell_type": "code",
   "execution_count": 31,
   "metadata": {},
   "outputs": [
    {
     "data": {
      "image/png": "[encoded data removed]",
      "text/plain": [
       "<Figure size 432x288 with 1 Axes>"
      ]
     },
     "metadata": {
      "needs_background": "light"
     },
     "output_type": "display_data"
    }
   ],
   "source": [
    "histogram_plot('inadequately educated workforce', 'Bulgaria', title = 'Distribution of inadequately educated workforce')"
   ]
  },
  {
   "cell_type": "code",
   "execution_count": 32,
   "metadata": {},
   "outputs": [
    {
     "data": {
      "image/png": "[encoded data removed]",
      "text/plain": [
       "<Figure size 432x288 with 1 Axes>"
      ]
     },
     "metadata": {
      "needs_background": "light"
     },
     "output_type": "display_data"
    }
   ],
   "source": [
    "histogram_plot('business licensing and permits', 'Bulgaria', title = 'Distribution of business licensing and permits')"
   ]
  },
  {
   "cell_type": "markdown",
   "metadata": {},
   "source": [
    "Wow! It seems Bulgaria is really bad placed for each of these factors. That require additional investigation..."
   ]
  },
  {
   "cell_type": "markdown",
   "metadata": {},
   "source": [
    "#### 4. Digging in Bulgaria's part of the dataset"
   ]
  },
  {
   "cell_type": "markdown",
   "metadata": {},
   "source": [
    "Let's do a separate table for Bulgaria from the initial table `obstacles_data` - we must check all the indexes with 'Bulgaria' and if so, we will put it in a separate variable `Bulgaria_obstacles`:"
   ]
  },
  {
   "cell_type": "code",
   "execution_count": 33,
   "metadata": {},
   "outputs": [],
   "source": [
    "Bulgaria_obstacles = obstacles_data[obstacles_data['Economy'] == 'Bulgaria'].reset_index(drop=True)\n",
    "# please, forgive non pythonic variable name, but Bulgaria should start with capital letter"
   ]
  },
  {
   "cell_type": "code",
   "execution_count": 34,
   "metadata": {},
   "outputs": [
    {
     "data": {
      "text/plain": [
       "(261, 21)"
      ]
     },
     "execution_count": 34,
     "metadata": {},
     "output_type": "execute_result"
    }
   ],
   "source": [
    "Bulgaria_obstacles.shape"
   ]
  },
  {
   "cell_type": "markdown",
   "metadata": {},
   "source": [
    "It seems like the data for Bulgaria is a big dataset on its own:)"
   ]
  },
  {
   "cell_type": "markdown",
   "metadata": {},
   "source": [
    "To simplify the job, the columns'names must be changed the way done above - using the `clear_list` function. Let's take a closer look at the problematic percentages afterwards: 'practices of the informal sector', 'business licensing and permits', 'inadequately educated workforce'."
   ]
  },
  {
   "cell_type": "code",
   "execution_count": 35,
   "metadata": {},
   "outputs": [],
   "source": [
    "# check that the function will work correctly\n",
    "assert_equal(len(Bulgaria_obstacles.columns), len(clear_list(Bulgaria_obstacles.columns.tolist())))"
   ]
  },
  {
   "cell_type": "code",
   "execution_count": 36,
   "metadata": {},
   "outputs": [],
   "source": [
    "# appying the clear_list function to the current columns\n",
    "Bulgaria_obstacles.columns = clear_list(Bulgaria_obstacles.columns.tolist())\n",
    "\n",
    "# focus on problematic points without removing the first 5 columns\n",
    "bg_problematic = Bulgaria_obstacles[\n",
    "                                    Bulgaria_obstacles.columns[:6].tolist() + \n",
    "                                    ['practices of the informal sector', \n",
    "                                     'business licensing and permits', \n",
    "                                     'inadequately educated workforce']\n",
    "                                   ]"
   ]
  },
  {
   "cell_type": "code",
   "execution_count": 37,
   "metadata": {},
   "outputs": [],
   "source": [
    "# test the number of columns is equal to : indexes (1) + 5 columns that we kept + 3 colums that we are interested in\n",
    "assert_equal(1 + 5 + 3, bg_problematic.shape[1])"
   ]
  },
  {
   "cell_type": "code",
   "execution_count": 38,
   "metadata": {},
   "outputs": [
    {
     "data": {
      "text/html": [
       "<div>\n",
       "<style scoped>\n",
       "    .dataframe tbody tr th:only-of-type {\n",
       "        vertical-align: middle;\n",
       "    }\n",
       "\n",
       "    .dataframe tbody tr th {\n",
       "        vertical-align: top;\n",
       "    }\n",
       "\n",
       "    .dataframe thead th {\n",
       "        text-align: right;\n",
       "    }\n",
       "</style>\n",
       "<table border=\"1\" class=\"dataframe\">\n",
       "  <thead>\n",
       "    <tr style=\"text-align: right;\">\n",
       "      <th></th>\n",
       "      <th>Economy</th>\n",
       "      <th>Year</th>\n",
       "      <th>Subgroup</th>\n",
       "      <th>Top Subgroup Level</th>\n",
       "      <th>Subgroup Level</th>\n",
       "      <th>Average/SE/N</th>\n",
       "      <th>practices of the informal sector</th>\n",
       "      <th>business licensing and permits</th>\n",
       "      <th>inadequately educated workforce</th>\n",
       "    </tr>\n",
       "  </thead>\n",
       "  <tbody>\n",
       "    <tr>\n",
       "      <th>0</th>\n",
       "      <td>Bulgaria</td>\n",
       "      <td>2007.0</td>\n",
       "      <td>NaN</td>\n",
       "      <td>NaN</td>\n",
       "      <td>NaN</td>\n",
       "      <td>Average</td>\n",
       "      <td>19.8</td>\n",
       "      <td>5.4</td>\n",
       "      <td>13.7</td>\n",
       "    </tr>\n",
       "    <tr>\n",
       "      <th>1</th>\n",
       "      <td>Bulgaria</td>\n",
       "      <td>2007.0</td>\n",
       "      <td>NaN</td>\n",
       "      <td>NaN</td>\n",
       "      <td>NaN</td>\n",
       "      <td>SE</td>\n",
       "      <td>3.0</td>\n",
       "      <td>2.4</td>\n",
       "      <td>2.7</td>\n",
       "    </tr>\n",
       "    <tr>\n",
       "      <th>2</th>\n",
       "      <td>Bulgaria</td>\n",
       "      <td>2007.0</td>\n",
       "      <td>NaN</td>\n",
       "      <td>NaN</td>\n",
       "      <td>NaN</td>\n",
       "      <td>N</td>\n",
       "      <td>995.0</td>\n",
       "      <td>995.0</td>\n",
       "      <td>995.0</td>\n",
       "    </tr>\n",
       "    <tr>\n",
       "      <th>3</th>\n",
       "      <td>Bulgaria</td>\n",
       "      <td>2007.0</td>\n",
       "      <td>Sector</td>\n",
       "      <td>Manufacturing</td>\n",
       "      <td>All</td>\n",
       "      <td>Average</td>\n",
       "      <td>14.8</td>\n",
       "      <td>4.5</td>\n",
       "      <td>13.2</td>\n",
       "    </tr>\n",
       "    <tr>\n",
       "      <th>4</th>\n",
       "      <td>Bulgaria</td>\n",
       "      <td>2007.0</td>\n",
       "      <td>Sector</td>\n",
       "      <td>Manufacturing</td>\n",
       "      <td>All</td>\n",
       "      <td>SE</td>\n",
       "      <td>1.9</td>\n",
       "      <td>1.4</td>\n",
       "      <td>1.9</td>\n",
       "    </tr>\n",
       "    <tr>\n",
       "      <th>5</th>\n",
       "      <td>Bulgaria</td>\n",
       "      <td>2007.0</td>\n",
       "      <td>Sector</td>\n",
       "      <td>Manufacturing</td>\n",
       "      <td>All</td>\n",
       "      <td>N</td>\n",
       "      <td>626.0</td>\n",
       "      <td>626.0</td>\n",
       "      <td>626.0</td>\n",
       "    </tr>\n",
       "    <tr>\n",
       "      <th>6</th>\n",
       "      <td>Bulgaria</td>\n",
       "      <td>2007.0</td>\n",
       "      <td>Sector</td>\n",
       "      <td>Manufacturing</td>\n",
       "      <td>Food</td>\n",
       "      <td>Average</td>\n",
       "      <td>21.3</td>\n",
       "      <td>6.0</td>\n",
       "      <td>9.9</td>\n",
       "    </tr>\n",
       "    <tr>\n",
       "      <th>7</th>\n",
       "      <td>Bulgaria</td>\n",
       "      <td>2007.0</td>\n",
       "      <td>Sector</td>\n",
       "      <td>Manufacturing</td>\n",
       "      <td>Food</td>\n",
       "      <td>SE</td>\n",
       "      <td>4.1</td>\n",
       "      <td>2.9</td>\n",
       "      <td>3.1</td>\n",
       "    </tr>\n",
       "    <tr>\n",
       "      <th>8</th>\n",
       "      <td>Bulgaria</td>\n",
       "      <td>2007.0</td>\n",
       "      <td>Sector</td>\n",
       "      <td>Manufacturing</td>\n",
       "      <td>Food</td>\n",
       "      <td>N</td>\n",
       "      <td>144.0</td>\n",
       "      <td>144.0</td>\n",
       "      <td>144.0</td>\n",
       "    </tr>\n",
       "    <tr>\n",
       "      <th>9</th>\n",
       "      <td>Bulgaria</td>\n",
       "      <td>2007.0</td>\n",
       "      <td>Sector</td>\n",
       "      <td>Manufacturing</td>\n",
       "      <td>Garments</td>\n",
       "      <td>Average</td>\n",
       "      <td>23.6</td>\n",
       "      <td>1.9</td>\n",
       "      <td>15.9</td>\n",
       "    </tr>\n",
       "    <tr>\n",
       "      <th>10</th>\n",
       "      <td>Bulgaria</td>\n",
       "      <td>2007.0</td>\n",
       "      <td>Sector</td>\n",
       "      <td>Manufacturing</td>\n",
       "      <td>Garments</td>\n",
       "      <td>SE</td>\n",
       "      <td>4.3</td>\n",
       "      <td>1.2</td>\n",
       "      <td>3.7</td>\n",
       "    </tr>\n",
       "    <tr>\n",
       "      <th>11</th>\n",
       "      <td>Bulgaria</td>\n",
       "      <td>2007.0</td>\n",
       "      <td>Sector</td>\n",
       "      <td>Manufacturing</td>\n",
       "      <td>Garments</td>\n",
       "      <td>N</td>\n",
       "      <td>139.0</td>\n",
       "      <td>139.0</td>\n",
       "      <td>139.0</td>\n",
       "    </tr>\n",
       "    <tr>\n",
       "      <th>12</th>\n",
       "      <td>Bulgaria</td>\n",
       "      <td>2007.0</td>\n",
       "      <td>Sector</td>\n",
       "      <td>Manufacturing</td>\n",
       "      <td>Machinery &amp; Equipment</td>\n",
       "      <td>Average</td>\n",
       "      <td>5.3</td>\n",
       "      <td>1.8</td>\n",
       "      <td>19.2</td>\n",
       "    </tr>\n",
       "    <tr>\n",
       "      <th>13</th>\n",
       "      <td>Bulgaria</td>\n",
       "      <td>2007.0</td>\n",
       "      <td>Sector</td>\n",
       "      <td>Manufacturing</td>\n",
       "      <td>Machinery &amp; Equipment</td>\n",
       "      <td>SE</td>\n",
       "      <td>3.2</td>\n",
       "      <td>1.5</td>\n",
       "      <td>9.9</td>\n",
       "    </tr>\n",
       "    <tr>\n",
       "      <th>14</th>\n",
       "      <td>Bulgaria</td>\n",
       "      <td>2007.0</td>\n",
       "      <td>Sector</td>\n",
       "      <td>Manufacturing</td>\n",
       "      <td>Machinery &amp; Equipment</td>\n",
       "      <td>N</td>\n",
       "      <td>91.0</td>\n",
       "      <td>91.0</td>\n",
       "      <td>91.0</td>\n",
       "    </tr>\n",
       "  </tbody>\n",
       "</table>\n",
       "</div>"
      ],
      "text/plain": [
       "     Economy    Year Subgroup Top Subgroup Level         Subgroup Level  \\\n",
       "0   Bulgaria  2007.0      NaN                NaN                    NaN   \n",
       "1   Bulgaria  2007.0      NaN                NaN                    NaN   \n",
       "2   Bulgaria  2007.0      NaN                NaN                    NaN   \n",
       "3   Bulgaria  2007.0   Sector      Manufacturing                    All   \n",
       "4   Bulgaria  2007.0   Sector      Manufacturing                    All   \n",
       "5   Bulgaria  2007.0   Sector      Manufacturing                    All   \n",
       "6   Bulgaria  2007.0   Sector      Manufacturing                   Food   \n",
       "7   Bulgaria  2007.0   Sector      Manufacturing                   Food   \n",
       "8   Bulgaria  2007.0   Sector      Manufacturing                   Food   \n",
       "9   Bulgaria  2007.0   Sector      Manufacturing               Garments   \n",
       "10  Bulgaria  2007.0   Sector      Manufacturing               Garments   \n",
       "11  Bulgaria  2007.0   Sector      Manufacturing               Garments   \n",
       "12  Bulgaria  2007.0   Sector      Manufacturing  Machinery & Equipment   \n",
       "13  Bulgaria  2007.0   Sector      Manufacturing  Machinery & Equipment   \n",
       "14  Bulgaria  2007.0   Sector      Manufacturing  Machinery & Equipment   \n",
       "\n",
       "   Average/SE/N  practices of the informal sector  \\\n",
       "0       Average                              19.8   \n",
       "1            SE                               3.0   \n",
       "2             N                             995.0   \n",
       "3       Average                              14.8   \n",
       "4            SE                               1.9   \n",
       "5             N                             626.0   \n",
       "6       Average                              21.3   \n",
       "7            SE                               4.1   \n",
       "8             N                             144.0   \n",
       "9       Average                              23.6   \n",
       "10           SE                               4.3   \n",
       "11            N                             139.0   \n",
       "12      Average                               5.3   \n",
       "13           SE                               3.2   \n",
       "14            N                              91.0   \n",
       "\n",
       "    business licensing and permits  inadequately educated workforce  \n",
       "0                              5.4                             13.7  \n",
       "1                              2.4                              2.7  \n",
       "2                            995.0                            995.0  \n",
       "3                              4.5                             13.2  \n",
       "4                              1.4                              1.9  \n",
       "5                            626.0                            626.0  \n",
       "6                              6.0                              9.9  \n",
       "7                              2.9                              3.1  \n",
       "8                            144.0                            144.0  \n",
       "9                              1.9                             15.9  \n",
       "10                             1.2                              3.7  \n",
       "11                           139.0                            139.0  \n",
       "12                             1.8                             19.2  \n",
       "13                             1.5                              9.9  \n",
       "14                            91.0                             91.0  "
      ]
     },
     "execution_count": 38,
     "metadata": {},
     "output_type": "execute_result"
    }
   ],
   "source": [
    "bg_problematic.head(15)"
   ]
  },
  {
   "cell_type": "markdown",
   "metadata": {},
   "source": [
    "Let's check how many survey are done for Bulgaria:"
   ]
  },
  {
   "cell_type": "code",
   "execution_count": 39,
   "metadata": {},
   "outputs": [
    {
     "data": {
      "text/plain": [
       "array([2007., 2009., 2013., 2019.])"
      ]
     },
     "execution_count": 39,
     "metadata": {},
     "output_type": "execute_result"
    }
   ],
   "source": [
    "bg_problematic.Year.unique()"
   ]
  },
  {
   "cell_type": "markdown",
   "metadata": {},
   "source": [
    "We can use now the fact that there are 4 researches done from 2007 to 2019 in Bulgaria. Let's see the development of the problematic factors from the lowest year 'til latest."
   ]
  },
  {
   "cell_type": "code",
   "execution_count": 40,
   "metadata": {},
   "outputs": [],
   "source": [
    "# keep only the comparable 'Average''s\n",
    "bg_pb = bg_problematic[bg_problematic['Average/SE/N'] == 'Average']"
   ]
  },
  {
   "cell_type": "code",
   "execution_count": 41,
   "metadata": {},
   "outputs": [],
   "source": [
    "# clear specific filters and leaving only the most common observations\n",
    "bg_top_level_problematic = bg_pb[bg_pb['Top Subgroup Level'].isna() &\n",
    "                                 bg_pb['Subgroup'].isna() &\n",
    "                                 bg_pb['Subgroup Level'].isna()]"
   ]
  },
  {
   "cell_type": "code",
   "execution_count": 42,
   "metadata": {},
   "outputs": [
    {
     "data": {
      "text/html": [
       "<div>\n",
       "<style scoped>\n",
       "    .dataframe tbody tr th:only-of-type {\n",
       "        vertical-align: middle;\n",
       "    }\n",
       "\n",
       "    .dataframe tbody tr th {\n",
       "        vertical-align: top;\n",
       "    }\n",
       "\n",
       "    .dataframe thead th {\n",
       "        text-align: right;\n",
       "    }\n",
       "</style>\n",
       "<table border=\"1\" class=\"dataframe\">\n",
       "  <thead>\n",
       "    <tr style=\"text-align: right;\">\n",
       "      <th></th>\n",
       "      <th>Economy</th>\n",
       "      <th>Year</th>\n",
       "      <th>Subgroup</th>\n",
       "      <th>Top Subgroup Level</th>\n",
       "      <th>Subgroup Level</th>\n",
       "      <th>Average/SE/N</th>\n",
       "      <th>practices of the informal sector</th>\n",
       "      <th>business licensing and permits</th>\n",
       "      <th>inadequately educated workforce</th>\n",
       "    </tr>\n",
       "  </thead>\n",
       "  <tbody>\n",
       "    <tr>\n",
       "      <th>0</th>\n",
       "      <td>Bulgaria</td>\n",
       "      <td>2007.0</td>\n",
       "      <td>NaN</td>\n",
       "      <td>NaN</td>\n",
       "      <td>NaN</td>\n",
       "      <td>Average</td>\n",
       "      <td>19.8</td>\n",
       "      <td>5.4</td>\n",
       "      <td>13.7</td>\n",
       "    </tr>\n",
       "    <tr>\n",
       "      <th>66</th>\n",
       "      <td>Bulgaria</td>\n",
       "      <td>2009.0</td>\n",
       "      <td>NaN</td>\n",
       "      <td>NaN</td>\n",
       "      <td>NaN</td>\n",
       "      <td>Average</td>\n",
       "      <td>15.2</td>\n",
       "      <td>2.1</td>\n",
       "      <td>9.0</td>\n",
       "    </tr>\n",
       "    <tr>\n",
       "      <th>129</th>\n",
       "      <td>Bulgaria</td>\n",
       "      <td>2013.0</td>\n",
       "      <td>NaN</td>\n",
       "      <td>NaN</td>\n",
       "      <td>NaN</td>\n",
       "      <td>Average</td>\n",
       "      <td>25.9</td>\n",
       "      <td>2.1</td>\n",
       "      <td>4.3</td>\n",
       "    </tr>\n",
       "    <tr>\n",
       "      <th>192</th>\n",
       "      <td>Bulgaria</td>\n",
       "      <td>2019.0</td>\n",
       "      <td>NaN</td>\n",
       "      <td>NaN</td>\n",
       "      <td>NaN</td>\n",
       "      <td>Average</td>\n",
       "      <td>23.4</td>\n",
       "      <td>9.9</td>\n",
       "      <td>22.1</td>\n",
       "    </tr>\n",
       "  </tbody>\n",
       "</table>\n",
       "</div>"
      ],
      "text/plain": [
       "      Economy    Year Subgroup Top Subgroup Level Subgroup Level Average/SE/N  \\\n",
       "0    Bulgaria  2007.0      NaN                NaN            NaN      Average   \n",
       "66   Bulgaria  2009.0      NaN                NaN            NaN      Average   \n",
       "129  Bulgaria  2013.0      NaN                NaN            NaN      Average   \n",
       "192  Bulgaria  2019.0      NaN                NaN            NaN      Average   \n",
       "\n",
       "     practices of the informal sector  business licensing and permits  \\\n",
       "0                                19.8                             5.4   \n",
       "66                               15.2                             2.1   \n",
       "129                              25.9                             2.1   \n",
       "192                              23.4                             9.9   \n",
       "\n",
       "     inadequately educated workforce  \n",
       "0                               13.7  \n",
       "66                               9.0  \n",
       "129                              4.3  \n",
       "192                             22.1  "
      ]
     },
     "execution_count": 42,
     "metadata": {},
     "output_type": "execute_result"
    }
   ],
   "source": [
    "bg_top_level_problematic"
   ]
  },
  {
   "cell_type": "markdown",
   "metadata": {},
   "source": [
    "Let's play a bit with the code and design a function applicable for many different cases, as we may need it in some other analysis somewhere below."
   ]
  },
  {
   "cell_type": "code",
   "execution_count": 43,
   "metadata": {},
   "outputs": [],
   "source": [
    "def plot_problematic(dataframe, problematic_list, to_label = \"\"):\n",
    "    \"\"\"\n",
    "    Ploting lines of evolution of problems/factors in years defined by the years of conducted researches\n",
    "    \n",
    "    Parameters:\n",
    "    dataframe : concerned dataframes provided as a list\n",
    "    problematic_list : list of problematic obstacles\n",
    "    to_label : the filter column of dataframes\n",
    "    \n",
    "    Return:\n",
    "    - if only one dataframe is used, returns a single plot with all problems on it\n",
    "    - if more than one dataframe are given generates a plots  for each problem separately (max 3 per row)\n",
    "    \"\"\"\n",
    "    if len(dataframe) == 1:\n",
    "        plt.figure(figsize=(8, 6))\n",
    "        \n",
    "        data = dataframe[0]\n",
    "        for obstacle in problematic_list:\n",
    "            plt.plot(data.Year.tolist(), data[obstacle].tolist(), label = obstacle)\n",
    "\n",
    "        plt.title('Evolution of most problematic obstacles with time')\n",
    "        plt.ylabel('Enterprises considering the obstacle as the biggest one, [%]')\n",
    "        plt.xticks(data.Year)\n",
    "        plt.xlabel('Year')\n",
    "        plt.legend()\n",
    "        \n",
    "    # case with more than 1 dataframe: using plt.subplots() to have separated plots with same problem from different dataframes\n",
    "    else: \n",
    "        # definition of rows and columns, max columns are 3.\n",
    "        rows = 1\n",
    "        cols = len(problematic_list)\n",
    "        if len(problematic_list) > 3:\n",
    "            cols = 3\n",
    "            rows = len(problematic_list) // 3\n",
    "            if len(problematic_list) % 3 != 0:\n",
    "                rows += 1\n",
    "           \n",
    "        # designing the subplots    \n",
    "        fig, axs = plt.subplots(rows, cols, figsize=(16, 7), sharey=True)\n",
    "        \n",
    "        # filling in each plot\n",
    "        # as plt.subplots provide two-dimensional array (one dimension for the rows, one for the columns) for the axis, \n",
    "        # we should use it with flatten().\n",
    "        for data in dataframe:\n",
    "            for obstacle, ax in zip(problematic_list, axs.flatten()):\n",
    "                # check for providen labels\n",
    "                if to_label:\n",
    "                    ax.plot(data.Year.tolist(), data[obstacle].tolist(), label = data[to_label].unique()[0])\n",
    "                    ax.legend()\n",
    "                else:\n",
    "                    ax.plot(data.Year.tolist(), data[obstacle].tolist())\n",
    "                # setting title = obstacle for each plot\n",
    "                ax.set_title(obstacle)\n",
    "        \n",
    "        # common x_label and y_label insertion\n",
    "        for ax in axs.flat:\n",
    "            ax.set(xlabel='Year', ylabel='Enterprises considering the respective\\nobstacle as the biggest one, [%]', \n",
    "                   xticks = dataframe[0].Year)\n",
    "\n",
    "        # Hide x labels and tick labels for top plots and y ticks for right plots.\n",
    "        for ax in axs.flat:\n",
    "            ax.label_outer()\n",
    "        #common title\n",
    "        fig.suptitle('Evolution of most problematic obstacles with time')\n",
    "    plt.show()"
   ]
  },
  {
   "cell_type": "code",
   "execution_count": 44,
   "metadata": {},
   "outputs": [
    {
     "data": {
      "image/png": "[encoded data removed]",
      "text/plain": [
       "<Figure size 576x432 with 1 Axes>"
      ]
     },
     "metadata": {
      "needs_background": "light"
     },
     "output_type": "display_data"
    }
   ],
   "source": [
    "# limiting the list to the problematic observations\n",
    "problematic_list = ['practices of the informal sector', 'business licensing and permits', 'inadequately educated workforce']\n",
    "# let's use and plot the development of these fators with time\n",
    "plot_problematic([bg_top_level_problematic], problematic_list)"
   ]
  },
  {
   "cell_type": "markdown",
   "metadata": {},
   "source": [
    "#### 5. Design and perform test hypothesis"
   ]
  },
  {
   "cell_type": "markdown",
   "metadata": {},
   "source": [
    "It seems that there is not much done in the last year to improve these main obstacles in Bulgaria since our acceptance in EU. On the opposite, all of them deteriorate... Lets'check if it is valid no matter the sector (service or manufacturing) and if it is related to the gender of the management. ***When I insert such a separation between female and male managers, I do not aim to discriminate any of them. On the opposite, I am trying to defend the statement of the gender equality***. Obviously, Word Bank is interested in this feature and inserts it when requesting the surveys. \n",
    "\n",
    "So, it is time to make a hypothese now, actually a pair of hypothesis.\n",
    "\n",
    "I want to see if there is a correlation in the answers between sectors (manufacturer or service) as well as in the perception of female/male managers in the obstacle's \"weight\" definitions:\n",
    "\n",
    "* $H_0$ - there is nothing that connects the opinions on the obstacles during the year no matter the sector, nor the gender of the management. In shorter terms there is no correlation at all between these pair of groups;\n",
    "* $H_1$ - there is no difference in the perception depending on the sector or the gender and they all feel same improvement/deterioration in the obstacles they face as enterprises, because they are all correlated.\n",
    "\n",
    "I will assume that $H_0$ is true. The \"threshold value\" of $p$ (or $p$-value), that this test returns is usually set to 5% (0.05), and if I am even more than sure, I could set it to 1%. Still, I will put it at 6% as the sample is really too small - we talk for 4 values only. So, if $H_0$ is rejected, there will still be 6% chance that it rejected wrongly. To resume:\n",
    "\n",
    "**If $p\\le6\\%$, I will reject $H_0$**.\n",
    "\n",
    "To compare each pair, it's easiest to perform what's called a **t-test**. For that I will need to import `from scipy.stats import ttest_ind` in the import part on top of this document. I have to start straigth from `bg_pb` variable and in order to use it in the ttest, I need to provide the comparable data as type `pandas.core.series.Series`. I will need some test for that too :)\n",
    "\n",
    "So, let's start with the test between \"*Manufacturing*\" and \"*Services*\"."
   ]
  },
  {
   "cell_type": "code",
   "execution_count": 45,
   "metadata": {},
   "outputs": [
    {
     "name": "stdout",
     "output_type": "stream",
     "text": [
      "      Economy    Year Subgroup Top Subgroup Level Subgroup Level Average/SE/N  \\\n",
      "21   Bulgaria  2007.0   Sector           Services            All      Average   \n",
      "75   Bulgaria  2009.0   Sector           Services            All      Average   \n",
      "138  Bulgaria  2013.0   Sector           Services            All      Average   \n",
      "207  Bulgaria  2019.0   Sector           Services            All      Average   \n",
      "\n",
      "     practices of the informal sector  business licensing and permits  \\\n",
      "21                               22.1                             5.8   \n",
      "75                               17.4                             1.6   \n",
      "138                              27.2                             2.3   \n",
      "207                              25.5                            12.6   \n",
      "\n",
      "     inadequately educated workforce  \n",
      "21                              13.9  \n",
      "75                               9.5  \n",
      "138                              3.6  \n",
      "207                             18.0  \n",
      "<class 'pandas.core.frame.DataFrame'>\n"
     ]
    }
   ],
   "source": [
    "# for simplicity going first to Subgroup level 'Sector'\n",
    "bg_pb_sector = bg_pb[(bg_pb['Subgroup'] == 'Sector') & (bg_pb['Subgroup Level'] == 'All')]\n",
    "\n",
    "# dividing the DataFrames to 'Manufacturing' and 'Services'\n",
    "bg_manufacturing = bg_pb_sector[bg_pb_sector['Top Subgroup Level'] == 'Manufacturing']\n",
    "bg_services = bg_pb_sector[bg_pb_sector['Top Subgroup Level'] == 'Services']\n",
    "\n",
    "# quick check with print function\n",
    "print(bg_services)\n",
    "print(type(bg_services))\n",
    "\n",
    "# type tests\n",
    "for obstacle in problematic_list:\n",
    "    assert_equal(pd.core.series.Series, type(bg_manufacturing[obstacle]))"
   ]
  },
  {
   "cell_type": "markdown",
   "metadata": {},
   "source": [
    "We can use the `plot_problematic` function designed above to see how actually these obstacles look like. "
   ]
  },
  {
   "cell_type": "code",
   "execution_count": 46,
   "metadata": {},
   "outputs": [
    {
     "data": {
      "image/png": "[encoded data removed]",
      "text/plain": [
       "<Figure size 1152x504 with 3 Axes>"
      ]
     },
     "metadata": {
      "needs_background": "light"
     },
     "output_type": "display_data"
    }
   ],
   "source": [
    "data_lst = [bg_services, bg_manufacturing]\n",
    "plot_problematic(data_lst, problematic_list, 'Top Subgroup Level')"
   ]
  },
  {
   "cell_type": "markdown",
   "metadata": {},
   "source": [
    "Hmm... the correlation seem visible for some of them, but let's check what the scientifical method will show."
   ]
  },
  {
   "cell_type": "markdown",
   "metadata": {},
   "source": [
    "Now, to simplify our future life, let's create a function for testing all the variables:"
   ]
  },
  {
   "cell_type": "code",
   "execution_count": 47,
   "metadata": {},
   "outputs": [],
   "source": [
    "def ttest_conduct(dataframe_list, list_obstacles):\n",
    "    \"\"\"\n",
    "    Conducting paired ttest on two different dataframes on different problematic's list when ttest is imported from sklearn\n",
    "    \n",
    "    Parameters:\n",
    "    dataframe_list : list(dataframes)\n",
    "    list_obstacles : list(problems/obstacles)\n",
    "    \n",
    "    Return:\n",
    "    for each problem/obstacle return a p-Value and statement whether the H0 should be rejected or not.\n",
    "    \"\"\"\n",
    "    \n",
    "    for obstacle in list_obstacles:\n",
    "        first_variable = dataframe_list[0][obstacle]\n",
    "        second_variable = dataframe_list[1][obstacle]\n",
    "        \n",
    "        # using Welch's t-test, or unequal variances t-test as more stable \"equal_var=False\", \n",
    "        # despite Student's test is fully applicable in this case \"equal_var=True\"\n",
    "        test_result = ttest_ind(first_variable, second_variable, equal_var=False) \n",
    "\n",
    "        print(f\"p-value = {test_result.pvalue} --- for test on '{obstacle}'\")\n",
    "        if test_result.pvalue <= 0.05:\n",
    "            print(f\"The differences between {dataframe_list[0]} and {dataframe_list[1]} are significant. Reject H0.\")\n",
    "        else:\n",
    "            print(\"There's not enough evidence to reject H0. Don't accept or reject anything else.\")\n",
    "        print(\"-\" * 25)"
   ]
  },
  {
   "cell_type": "code",
   "execution_count": 48,
   "metadata": {},
   "outputs": [
    {
     "name": "stdout",
     "output_type": "stream",
     "text": [
      "p-value = 0.0966843904266147 --- for test on 'practices of the informal sector'\n",
      "There's not enough evidence to reject H0. Don't accept or reject anything else.\n",
      "-------------------------\n",
      "p-value = 0.3830063020313388 --- for test on 'business licensing and permits'\n",
      "There's not enough evidence to reject H0. Don't accept or reject anything else.\n",
      "-------------------------\n",
      "p-value = 0.6140400479832693 --- for test on 'inadequately educated workforce'\n",
      "There's not enough evidence to reject H0. Don't accept or reject anything else.\n",
      "-------------------------\n"
     ]
    }
   ],
   "source": [
    "# applying the test\n",
    "ttest_conduct([bg_services, bg_manufacturing], problematic_list)"
   ]
  },
  {
   "cell_type": "markdown",
   "metadata": {},
   "source": [
    "Unfortunately, we can't reject the $H_0$ hypothesis for none of the obstacles. At least scientifically, <u>we can't claim anything</u>."
   ]
  },
  {
   "cell_type": "markdown",
   "metadata": {},
   "source": [
    "Next step is the male/female management test."
   ]
  },
  {
   "cell_type": "code",
   "execution_count": 49,
   "metadata": {},
   "outputs": [
    {
     "name": "stdout",
     "output_type": "stream",
     "text": [
      "      Economy    Year               Subgroup Top Subgroup Level  \\\n",
      "117  Bulgaria  2009.0  Gender of Top Manager                NaN   \n",
      "180  Bulgaria  2013.0  Gender of Top Manager                NaN   \n",
      "249  Bulgaria  2019.0  Gender of Top Manager                NaN   \n",
      "\n",
      "            Subgroup Level Average/SE/N  practices of the informal sector  \\\n",
      "117  Top manager is female      Average                              11.6   \n",
      "180  Top manager is female      Average                              20.2   \n",
      "249  Top manager is female      Average                              20.0   \n",
      "\n",
      "     business licensing and permits  inadequately educated workforce  \n",
      "117                             2.8                             10.4  \n",
      "180                             0.0                              4.1  \n",
      "249                            27.9                             18.3  \n"
     ]
    }
   ],
   "source": [
    "# dividing the DataFrames to 'femal' and 'male'\n",
    "bg_pb_female = bg_pb[(bg_pb['Subgroup'] == 'Gender of Top Manager') & (bg_pb['Subgroup Level'] == 'Top manager is female')]\n",
    "bg_pb_male = bg_pb[(bg_pb['Subgroup'] == 'Gender of Top Manager') & (bg_pb['Subgroup Level'] == 'Top manager is male')]\n",
    "print(bg_pb_female)\n",
    "\n",
    "# type tests\n",
    "for obstacle in problematic_list:\n",
    "    assert_equal(pd.core.series.Series, type(bg_manufacturing[obstacle]))"
   ]
  },
  {
   "cell_type": "code",
   "execution_count": 50,
   "metadata": {},
   "outputs": [
    {
     "name": "stdout",
     "output_type": "stream",
     "text": [
      "p-value = 0.26000598268974073 --- for test on 'practices of the informal sector'\n",
      "There's not enough evidence to reject H0. Don't accept or reject anything else.\n",
      "-------------------------\n",
      "p-value = 0.47199152053059396 --- for test on 'business licensing and permits'\n",
      "There's not enough evidence to reject H0. Don't accept or reject anything else.\n",
      "-------------------------\n",
      "p-value = 0.8692206136140295 --- for test on 'inadequately educated workforce'\n",
      "There's not enough evidence to reject H0. Don't accept or reject anything else.\n",
      "-------------------------\n"
     ]
    }
   ],
   "source": [
    "# defining the list as entry parameter of our function\n",
    "data_lst = [bg_pb_female, bg_pb_male]\n",
    "\n",
    "# applying the function\n",
    "ttest_conduct(data_lst, problematic_list)"
   ]
  },
  {
   "cell_type": "markdown",
   "metadata": {},
   "source": [
    "We can conduct the `ttest`, but it is visible that with one year less the results can be visually checked on graphs."
   ]
  },
  {
   "cell_type": "code",
   "execution_count": 51,
   "metadata": {},
   "outputs": [
    {
     "data": {
      "image/png": "[encoded data removed]",
      "text/plain": [
       "<Figure size 1152x504 with 3 Axes>"
      ]
     },
     "metadata": {
      "needs_background": "light"
     },
     "output_type": "display_data"
    }
   ],
   "source": [
    "plot_problematic(data_lst, problematic_list, 'Subgroup Level')"
   ]
  },
  {
   "cell_type": "markdown",
   "metadata": {},
   "source": [
    "\n",
    "At this stage, <u>we can't confirm nor reject any of our hypothesis with full certainity</u>. \n",
    "\n",
    "Visually we can only say that on first glance it seems the enterprises with female management feel more problems than the others. \n",
    "\n",
    "Speaking of male/female, we can check where is Bulgaria in the sense of gender equality and access for females to management position.\n"
   ]
  },
  {
   "cell_type": "markdown",
   "metadata": {},
   "source": [
    "***III.*** **Gender equality in the enterprises worldwide and Bulgaria**"
   ]
  },
  {
   "cell_type": "markdown",
   "metadata": {},
   "source": [
    "Before looking at the data, I will form a preliminary hypothesis of mine that Bulgaria stands on a relatively good position compared to the worldwide average and that it is improving with time considerably. As usually we start with the first step:\n",
    "\n",
    "#### 1. Reading the data"
   ]
  },
  {
   "cell_type": "code",
   "execution_count": 52,
   "metadata": {},
   "outputs": [],
   "source": [
    "gender_data = pd.read_csv('data/gender.csv')"
   ]
  },
  {
   "cell_type": "code",
   "execution_count": 53,
   "metadata": {},
   "outputs": [
    {
     "data": {
      "text/html": [
       "<div>\n",
       "<style scoped>\n",
       "    .dataframe tbody tr th:only-of-type {\n",
       "        vertical-align: middle;\n",
       "    }\n",
       "\n",
       "    .dataframe tbody tr th {\n",
       "        vertical-align: top;\n",
       "    }\n",
       "\n",
       "    .dataframe thead th {\n",
       "        text-align: right;\n",
       "    }\n",
       "</style>\n",
       "<table border=\"1\" class=\"dataframe\">\n",
       "  <thead>\n",
       "    <tr style=\"text-align: right;\">\n",
       "      <th></th>\n",
       "      <th>Economy</th>\n",
       "      <th>Year</th>\n",
       "      <th>Subgroup</th>\n",
       "      <th>Top Subgroup Level</th>\n",
       "      <th>Subgroup Level</th>\n",
       "      <th>Average/SE/N</th>\n",
       "      <th>Percent of firms with female participation in ownership</th>\n",
       "      <th>Percent of firms with majority female ownership</th>\n",
       "      <th>Percent of firms with a female top manager</th>\n",
       "      <th>Proportion of permanent full-time workers that are female (%)</th>\n",
       "      <th>Proportion of permanent full-time production workers that are female (%)*</th>\n",
       "      <th>Proportion of permanent full-time non-production workers that are female (%)*</th>\n",
       "    </tr>\n",
       "  </thead>\n",
       "  <tbody>\n",
       "    <tr>\n",
       "      <th>0</th>\n",
       "      <td>All</td>\n",
       "      <td>NaN</td>\n",
       "      <td>NaN</td>\n",
       "      <td>NaN</td>\n",
       "      <td>NaN</td>\n",
       "      <td>Average</td>\n",
       "      <td>35.2</td>\n",
       "      <td>14.6</td>\n",
       "      <td>18.2</td>\n",
       "      <td>33.5</td>\n",
       "      <td>27.3</td>\n",
       "      <td>37.7</td>\n",
       "    </tr>\n",
       "    <tr>\n",
       "      <th>1</th>\n",
       "      <td>East Asia &amp; Pacific</td>\n",
       "      <td>NaN</td>\n",
       "      <td>NaN</td>\n",
       "      <td>NaN</td>\n",
       "      <td>NaN</td>\n",
       "      <td>Average</td>\n",
       "      <td>52.7</td>\n",
       "      <td>28.8</td>\n",
       "      <td>32.8</td>\n",
       "      <td>38.9</td>\n",
       "      <td>39.5</td>\n",
       "      <td>36</td>\n",
       "    </tr>\n",
       "    <tr>\n",
       "      <th>2</th>\n",
       "      <td>Europe &amp; Central Asia</td>\n",
       "      <td>NaN</td>\n",
       "      <td>NaN</td>\n",
       "      <td>NaN</td>\n",
       "      <td>NaN</td>\n",
       "      <td>Average</td>\n",
       "      <td>32.4</td>\n",
       "      <td>14.6</td>\n",
       "      <td>18.9</td>\n",
       "      <td>40.1</td>\n",
       "      <td>38.7</td>\n",
       "      <td>50.3</td>\n",
       "    </tr>\n",
       "    <tr>\n",
       "      <th>3</th>\n",
       "      <td>High income: OECD</td>\n",
       "      <td>NaN</td>\n",
       "      <td>NaN</td>\n",
       "      <td>NaN</td>\n",
       "      <td>NaN</td>\n",
       "      <td>Average</td>\n",
       "      <td>37.8</td>\n",
       "      <td>8</td>\n",
       "      <td>14</td>\n",
       "      <td>41.2</td>\n",
       "      <td>33.6</td>\n",
       "      <td>50</td>\n",
       "    </tr>\n",
       "    <tr>\n",
       "      <th>4</th>\n",
       "      <td>Latin America &amp; Caribbean</td>\n",
       "      <td>NaN</td>\n",
       "      <td>NaN</td>\n",
       "      <td>NaN</td>\n",
       "      <td>NaN</td>\n",
       "      <td>Average</td>\n",
       "      <td>45.6</td>\n",
       "      <td>19.9</td>\n",
       "      <td>21.4</td>\n",
       "      <td>37.6</td>\n",
       "      <td>23.5</td>\n",
       "      <td>45.1</td>\n",
       "    </tr>\n",
       "    <tr>\n",
       "      <th>5</th>\n",
       "      <td>Middle East &amp; North Africa</td>\n",
       "      <td>NaN</td>\n",
       "      <td>NaN</td>\n",
       "      <td>NaN</td>\n",
       "      <td>NaN</td>\n",
       "      <td>Average</td>\n",
       "      <td>19.8</td>\n",
       "      <td>3.8</td>\n",
       "      <td>6.3</td>\n",
       "      <td>21.8</td>\n",
       "      <td>17.3</td>\n",
       "      <td>23.2</td>\n",
       "    </tr>\n",
       "    <tr>\n",
       "      <th>6</th>\n",
       "      <td>South Asia</td>\n",
       "      <td>NaN</td>\n",
       "      <td>NaN</td>\n",
       "      <td>NaN</td>\n",
       "      <td>NaN</td>\n",
       "      <td>Average</td>\n",
       "      <td>18.4</td>\n",
       "      <td>9.6</td>\n",
       "      <td>11</td>\n",
       "      <td>18.3</td>\n",
       "      <td>19.8</td>\n",
       "      <td>18.4</td>\n",
       "    </tr>\n",
       "    <tr>\n",
       "      <th>7</th>\n",
       "      <td>Sub-Saharan Africa</td>\n",
       "      <td>NaN</td>\n",
       "      <td>NaN</td>\n",
       "      <td>NaN</td>\n",
       "      <td>NaN</td>\n",
       "      <td>Average</td>\n",
       "      <td>29</td>\n",
       "      <td>12.3</td>\n",
       "      <td>15.2</td>\n",
       "      <td>28.2</td>\n",
       "      <td>20.1</td>\n",
       "      <td>30</td>\n",
       "    </tr>\n",
       "    <tr>\n",
       "      <th>8</th>\n",
       "      <td>Afghanistan</td>\n",
       "      <td>2008.0</td>\n",
       "      <td>NaN</td>\n",
       "      <td>NaN</td>\n",
       "      <td>NaN</td>\n",
       "      <td>Average</td>\n",
       "      <td>2.8</td>\n",
       "      <td>NaN</td>\n",
       "      <td>0.7</td>\n",
       "      <td>3.3</td>\n",
       "      <td>3.4</td>\n",
       "      <td>0.6</td>\n",
       "    </tr>\n",
       "    <tr>\n",
       "      <th>9</th>\n",
       "      <td>Afghanistan</td>\n",
       "      <td>2008.0</td>\n",
       "      <td>NaN</td>\n",
       "      <td>NaN</td>\n",
       "      <td>NaN</td>\n",
       "      <td>SE</td>\n",
       "      <td>0.7</td>\n",
       "      <td>NaN</td>\n",
       "      <td>0.4</td>\n",
       "      <td>0.5</td>\n",
       "      <td>1.1</td>\n",
       "      <td>0.5</td>\n",
       "    </tr>\n",
       "  </tbody>\n",
       "</table>\n",
       "</div>"
      ],
      "text/plain": [
       "                      Economy    Year Subgroup Top Subgroup Level  \\\n",
       "0                         All     NaN      NaN                NaN   \n",
       "1         East Asia & Pacific     NaN      NaN                NaN   \n",
       "2       Europe & Central Asia     NaN      NaN                NaN   \n",
       "3           High income: OECD     NaN      NaN                NaN   \n",
       "4   Latin America & Caribbean     NaN      NaN                NaN   \n",
       "5  Middle East & North Africa     NaN      NaN                NaN   \n",
       "6                  South Asia     NaN      NaN                NaN   \n",
       "7          Sub-Saharan Africa     NaN      NaN                NaN   \n",
       "8                 Afghanistan  2008.0      NaN                NaN   \n",
       "9                 Afghanistan  2008.0      NaN                NaN   \n",
       "\n",
       "  Subgroup Level Average/SE/N  \\\n",
       "0            NaN      Average   \n",
       "1            NaN      Average   \n",
       "2            NaN      Average   \n",
       "3            NaN      Average   \n",
       "4            NaN      Average   \n",
       "5            NaN      Average   \n",
       "6            NaN      Average   \n",
       "7            NaN      Average   \n",
       "8            NaN      Average   \n",
       "9            NaN           SE   \n",
       "\n",
       "  Percent of firms with female participation in ownership  \\\n",
       "0                                               35.2        \n",
       "1                                               52.7        \n",
       "2                                               32.4        \n",
       "3                                               37.8        \n",
       "4                                               45.6        \n",
       "5                                               19.8        \n",
       "6                                               18.4        \n",
       "7                                                 29        \n",
       "8                                                2.8        \n",
       "9                                                0.7        \n",
       "\n",
       "  Percent of firms with majority female ownership  \\\n",
       "0                                            14.6   \n",
       "1                                            28.8   \n",
       "2                                            14.6   \n",
       "3                                               8   \n",
       "4                                            19.9   \n",
       "5                                             3.8   \n",
       "6                                             9.6   \n",
       "7                                            12.3   \n",
       "8                                             NaN   \n",
       "9                                             NaN   \n",
       "\n",
       "  Percent of firms with a female top manager  \\\n",
       "0                                       18.2   \n",
       "1                                       32.8   \n",
       "2                                       18.9   \n",
       "3                                         14   \n",
       "4                                       21.4   \n",
       "5                                        6.3   \n",
       "6                                         11   \n",
       "7                                       15.2   \n",
       "8                                        0.7   \n",
       "9                                        0.4   \n",
       "\n",
       "  Proportion of permanent full-time workers that are female (%)  \\\n",
       "0                                               33.5              \n",
       "1                                               38.9              \n",
       "2                                               40.1              \n",
       "3                                               41.2              \n",
       "4                                               37.6              \n",
       "5                                               21.8              \n",
       "6                                               18.3              \n",
       "7                                               28.2              \n",
       "8                                                3.3              \n",
       "9                                                0.5              \n",
       "\n",
       "  Proportion of permanent full-time production workers that are female (%)*  \\\n",
       "0                                               27.3                          \n",
       "1                                               39.5                          \n",
       "2                                               38.7                          \n",
       "3                                               33.6                          \n",
       "4                                               23.5                          \n",
       "5                                               17.3                          \n",
       "6                                               19.8                          \n",
       "7                                               20.1                          \n",
       "8                                                3.4                          \n",
       "9                                                1.1                          \n",
       "\n",
       "  Proportion of permanent full-time non-production workers that are female (%)*  \n",
       "0                                               37.7                             \n",
       "1                                                 36                             \n",
       "2                                               50.3                             \n",
       "3                                                 50                             \n",
       "4                                               45.1                             \n",
       "5                                               23.2                             \n",
       "6                                               18.4                             \n",
       "7                                                 30                             \n",
       "8                                                0.6                             \n",
       "9                                                0.5                             "
      ]
     },
     "execution_count": 53,
     "metadata": {},
     "output_type": "execute_result"
    }
   ],
   "source": [
    "gender_data.head(10)"
   ]
  },
  {
   "cell_type": "markdown",
   "metadata": {},
   "source": [
    "I think we can confirm that the skeleton of the data is similar to the one used above. That makes the further cleaning of the data more easy. I'll make the cleaning of the data, starting this time with some filitering of the `Average/SE/N` column. "
   ]
  },
  {
   "cell_type": "code",
   "execution_count": 54,
   "metadata": {},
   "outputs": [],
   "source": [
    "# leaving only the useful data available in the rows with 'Average' in 'Average/SE/N' column\n",
    "gender_data1 = gender_data[gender_data['Average/SE/N'] == 'Average']"
   ]
  },
  {
   "cell_type": "code",
   "execution_count": 55,
   "metadata": {},
   "outputs": [
    {
     "data": {
      "text/html": [
       "<div>\n",
       "<style scoped>\n",
       "    .dataframe tbody tr th:only-of-type {\n",
       "        vertical-align: middle;\n",
       "    }\n",
       "\n",
       "    .dataframe tbody tr th {\n",
       "        vertical-align: top;\n",
       "    }\n",
       "\n",
       "    .dataframe thead th {\n",
       "        text-align: right;\n",
       "    }\n",
       "</style>\n",
       "<table border=\"1\" class=\"dataframe\">\n",
       "  <thead>\n",
       "    <tr style=\"text-align: right;\">\n",
       "      <th></th>\n",
       "      <th>Economy</th>\n",
       "      <th>Year</th>\n",
       "      <th>Subgroup</th>\n",
       "      <th>Top Subgroup Level</th>\n",
       "      <th>Subgroup Level</th>\n",
       "      <th>Average/SE/N</th>\n",
       "      <th>Percent of firms with female participation in ownership</th>\n",
       "      <th>Percent of firms with majority female ownership</th>\n",
       "      <th>Percent of firms with a female top manager</th>\n",
       "      <th>Proportion of permanent full-time workers that are female (%)</th>\n",
       "      <th>Proportion of permanent full-time production workers that are female (%)*</th>\n",
       "      <th>Proportion of permanent full-time non-production workers that are female (%)*</th>\n",
       "    </tr>\n",
       "  </thead>\n",
       "  <tbody>\n",
       "    <tr>\n",
       "      <th>0</th>\n",
       "      <td>All</td>\n",
       "      <td>NaN</td>\n",
       "      <td>NaN</td>\n",
       "      <td>NaN</td>\n",
       "      <td>NaN</td>\n",
       "      <td>Average</td>\n",
       "      <td>35.2</td>\n",
       "      <td>14.6</td>\n",
       "      <td>18.2</td>\n",
       "      <td>33.5</td>\n",
       "      <td>27.3</td>\n",
       "      <td>37.7</td>\n",
       "    </tr>\n",
       "    <tr>\n",
       "      <th>1</th>\n",
       "      <td>East Asia &amp; Pacific</td>\n",
       "      <td>NaN</td>\n",
       "      <td>NaN</td>\n",
       "      <td>NaN</td>\n",
       "      <td>NaN</td>\n",
       "      <td>Average</td>\n",
       "      <td>52.7</td>\n",
       "      <td>28.8</td>\n",
       "      <td>32.8</td>\n",
       "      <td>38.9</td>\n",
       "      <td>39.5</td>\n",
       "      <td>36</td>\n",
       "    </tr>\n",
       "    <tr>\n",
       "      <th>2</th>\n",
       "      <td>Europe &amp; Central Asia</td>\n",
       "      <td>NaN</td>\n",
       "      <td>NaN</td>\n",
       "      <td>NaN</td>\n",
       "      <td>NaN</td>\n",
       "      <td>Average</td>\n",
       "      <td>32.4</td>\n",
       "      <td>14.6</td>\n",
       "      <td>18.9</td>\n",
       "      <td>40.1</td>\n",
       "      <td>38.7</td>\n",
       "      <td>50.3</td>\n",
       "    </tr>\n",
       "    <tr>\n",
       "      <th>3</th>\n",
       "      <td>High income: OECD</td>\n",
       "      <td>NaN</td>\n",
       "      <td>NaN</td>\n",
       "      <td>NaN</td>\n",
       "      <td>NaN</td>\n",
       "      <td>Average</td>\n",
       "      <td>37.8</td>\n",
       "      <td>8</td>\n",
       "      <td>14</td>\n",
       "      <td>41.2</td>\n",
       "      <td>33.6</td>\n",
       "      <td>50</td>\n",
       "    </tr>\n",
       "    <tr>\n",
       "      <th>4</th>\n",
       "      <td>Latin America &amp; Caribbean</td>\n",
       "      <td>NaN</td>\n",
       "      <td>NaN</td>\n",
       "      <td>NaN</td>\n",
       "      <td>NaN</td>\n",
       "      <td>Average</td>\n",
       "      <td>45.6</td>\n",
       "      <td>19.9</td>\n",
       "      <td>21.4</td>\n",
       "      <td>37.6</td>\n",
       "      <td>23.5</td>\n",
       "      <td>45.1</td>\n",
       "    </tr>\n",
       "  </tbody>\n",
       "</table>\n",
       "</div>"
      ],
      "text/plain": [
       "                     Economy  Year Subgroup Top Subgroup Level Subgroup Level  \\\n",
       "0                        All   NaN      NaN                NaN            NaN   \n",
       "1        East Asia & Pacific   NaN      NaN                NaN            NaN   \n",
       "2      Europe & Central Asia   NaN      NaN                NaN            NaN   \n",
       "3          High income: OECD   NaN      NaN                NaN            NaN   \n",
       "4  Latin America & Caribbean   NaN      NaN                NaN            NaN   \n",
       "\n",
       "  Average/SE/N Percent of firms with female participation in ownership  \\\n",
       "0      Average                                               35.2        \n",
       "1      Average                                               52.7        \n",
       "2      Average                                               32.4        \n",
       "3      Average                                               37.8        \n",
       "4      Average                                               45.6        \n",
       "\n",
       "  Percent of firms with majority female ownership  \\\n",
       "0                                            14.6   \n",
       "1                                            28.8   \n",
       "2                                            14.6   \n",
       "3                                               8   \n",
       "4                                            19.9   \n",
       "\n",
       "  Percent of firms with a female top manager  \\\n",
       "0                                       18.2   \n",
       "1                                       32.8   \n",
       "2                                       18.9   \n",
       "3                                         14   \n",
       "4                                       21.4   \n",
       "\n",
       "  Proportion of permanent full-time workers that are female (%)  \\\n",
       "0                                               33.5              \n",
       "1                                               38.9              \n",
       "2                                               40.1              \n",
       "3                                               41.2              \n",
       "4                                               37.6              \n",
       "\n",
       "  Proportion of permanent full-time production workers that are female (%)*  \\\n",
       "0                                               27.3                          \n",
       "1                                               39.5                          \n",
       "2                                               38.7                          \n",
       "3                                               33.6                          \n",
       "4                                               23.5                          \n",
       "\n",
       "  Proportion of permanent full-time non-production workers that are female (%)*  \n",
       "0                                               37.7                             \n",
       "1                                                 36                             \n",
       "2                                               50.3                             \n",
       "3                                                 50                             \n",
       "4                                               45.1                             "
      ]
     },
     "execution_count": 55,
     "metadata": {},
     "output_type": "execute_result"
    }
   ],
   "source": [
    "gender_data1.head()"
   ]
  },
  {
   "cell_type": "code",
   "execution_count": 56,
   "metadata": {},
   "outputs": [],
   "source": [
    "# now we can remove this column and save the dataframe in another temporary variable\n",
    "gender_data1 = gender_data1.drop(['Average/SE/N'], axis = 1)"
   ]
  },
  {
   "cell_type": "markdown",
   "metadata": {},
   "source": [
    "After removing the unnecessairy rows, we come to the moment where we will need to clean all the old researches and leave only the most recent one per country."
   ]
  },
  {
   "cell_type": "code",
   "execution_count": 57,
   "metadata": {},
   "outputs": [
    {
     "data": {
      "text/plain": [
       "array([  nan, 2008., 2014., 2007., 2013., 2019., 2006., 2010., 2017.,\n",
       "       2009., 2018., 2016., 2015., 2011., 2012., 2020.])"
      ]
     },
     "execution_count": 57,
     "metadata": {},
     "output_type": "execute_result"
    }
   ],
   "source": [
    "gender_data1.Year.unique()"
   ]
  },
  {
   "cell_type": "code",
   "execution_count": 58,
   "metadata": {},
   "outputs": [],
   "source": [
    "# taking out the common group\n",
    "common_gender = gender_data1.loc[0 : 7]\n",
    "\n",
    "# applying the filter as decribed\n",
    "gender_data_latest = gender_data1[gender_data1['Year'] == gender_data1.groupby('Economy')['Year'].transform('max')]\n",
    "\n",
    "# concatenating both groups\n",
    "latest_gender_data = pd.concat([common_gender, gender_data_latest], ignore_index = True)"
   ]
  },
  {
   "cell_type": "code",
   "execution_count": 59,
   "metadata": {},
   "outputs": [
    {
     "data": {
      "text/plain": [
       "Index(['Economy', 'Year', 'Subgroup', 'Top Subgroup Level', 'Subgroup Level',\n",
       "       'Percent of firms with female participation in ownership',\n",
       "       'Percent of firms with majority female ownership',\n",
       "       'Percent of firms with a female top manager',\n",
       "       'Proportion of permanent full-time workers that are female (%)',\n",
       "       'Proportion of permanent full-time production workers that are female (%)*',\n",
       "       'Proportion of permanent full-time non-production workers that are female (%)*'],\n",
       "      dtype='object')"
      ]
     },
     "execution_count": 59,
     "metadata": {},
     "output_type": "execute_result"
    }
   ],
   "source": [
    "# checking  the columns of the prepared dataframe\n",
    "latest_gender_data.columns\n",
    "\n",
    "# -> obviously too long"
   ]
  },
  {
   "cell_type": "code",
   "execution_count": 60,
   "metadata": {},
   "outputs": [],
   "source": [
    "# to change the column names, we will use the 'clear_list' function created above\n",
    "new_col_names = clear_list(latest_gender_data.columns.to_list(), pattern= r'^Percent\\sof\\sfirms\\swith\\s(.+)$')\n",
    "\n",
    "# we have to do it on two rounds\n",
    "new_col_names = clear_list(new_col_names, pattern = r'^Proportion\\sof\\spermanent\\sfull-time\\s(.+)$')"
   ]
  },
  {
   "cell_type": "code",
   "execution_count": 61,
   "metadata": {},
   "outputs": [
    {
     "data": {
      "text/plain": [
       "['Economy',\n",
       " 'Year',\n",
       " 'Subgroup',\n",
       " 'Top Subgroup Level',\n",
       " 'Subgroup Level',\n",
       " 'female participation in ownership',\n",
       " 'majority female ownership',\n",
       " 'a female top manager',\n",
       " 'workers that are female (%)',\n",
       " 'production workers that are female (%)*',\n",
       " 'non-production workers that are female (%)*']"
      ]
     },
     "execution_count": 61,
     "metadata": {},
     "output_type": "execute_result"
    }
   ],
   "source": [
    "# showing the list of the future column names left after the changes\n",
    "new_col_names"
   ]
  },
  {
   "cell_type": "code",
   "execution_count": 62,
   "metadata": {},
   "outputs": [],
   "source": [
    "# applying the new list as a column names of the dataframe\n",
    "latest_gender_data.columns = new_col_names"
   ]
  },
  {
   "cell_type": "code",
   "execution_count": 63,
   "metadata": {},
   "outputs": [],
   "source": [
    "# a brief test that no column has been deleted\n",
    "assert_equal(gender_data1.shape[1], latest_gender_data.shape[1])"
   ]
  },
  {
   "cell_type": "markdown",
   "metadata": {},
   "source": [
    "#### 2. Inspect and fill missing data\n",
    "\n",
    "This always starts with exploring the content of the dataset:"
   ]
  },
  {
   "cell_type": "code",
   "execution_count": 64,
   "metadata": {},
   "outputs": [
    {
     "name": "stdout",
     "output_type": "stream",
     "text": [
      "<class 'pandas.core.frame.DataFrame'>\n",
      "RangeIndex: 2928 entries, 0 to 2927\n",
      "Data columns (total 11 columns):\n",
      " #   Column                                       Non-Null Count  Dtype  \n",
      "---  ------                                       --------------  -----  \n",
      " 0   Economy                                      2928 non-null   object \n",
      " 1   Year                                         2920 non-null   float64\n",
      " 2   Subgroup                                     2776 non-null   object \n",
      " 3   Top Subgroup Level                           912 non-null    object \n",
      " 4   Subgroup Level                               2776 non-null   object \n",
      " 5   female participation in ownership            2928 non-null   object \n",
      " 6   majority female ownership                    2390 non-null   object \n",
      " 7   a female top manager                         2810 non-null   object \n",
      " 8   workers that are female (%)                  2917 non-null   object \n",
      " 9   production workers that are female (%)*      2197 non-null   object \n",
      " 10  non-production workers that are female (%)*  2197 non-null   object \n",
      "dtypes: float64(1), object(10)\n",
      "memory usage: 251.8+ KB\n"
     ]
    }
   ],
   "source": [
    "latest_gender_data.info()"
   ]
  },
  {
   "cell_type": "markdown",
   "metadata": {},
   "source": [
    "There is a problem for columns 5 to 10, where instead of `objects`, the types should be `float64`. As familiar with the problematic points, I need to replace again the strings `n.a.`, `n.c.` with `np.nan` and `,` with `.` using the respective functions."
   ]
  },
  {
   "cell_type": "code",
   "execution_count": 65,
   "metadata": {},
   "outputs": [],
   "source": [
    "# replace the 'n.c.', 'n.a.'\n",
    "latest_gender_data.replace(to_replace = ['n.c.', 'n.a.'], value = np.nan, inplace = True)\n",
    "\n",
    "# replace the ',' with '.'\n",
    "latest_gender_data.replace(to_replace = r'(,)', value = '.', regex = True, inplace = True)\n",
    "\n",
    "# for each column starting from column 5 we do the transformation\n",
    "for col in latest_gender_data.columns[5:]:\n",
    "    latest_gender_data[col] = latest_gender_data[col].astype(float)"
   ]
  },
  {
   "cell_type": "code",
   "execution_count": 66,
   "metadata": {},
   "outputs": [],
   "source": [
    "# test\n",
    "for col in latest_gender_data.columns[5:]:\n",
    "    assert_equal(latest_gender_data[col].dtype, 'float64')"
   ]
  },
  {
   "cell_type": "markdown",
   "metadata": {},
   "source": [
    "#### 3. Explore the data and analysis. Make comparatives.\n",
    "\n",
    "That starts always with a brief visual check of the dataframe."
   ]
  },
  {
   "cell_type": "code",
   "execution_count": 67,
   "metadata": {},
   "outputs": [
    {
     "data": {
      "text/html": [
       "<div>\n",
       "<style scoped>\n",
       "    .dataframe tbody tr th:only-of-type {\n",
       "        vertical-align: middle;\n",
       "    }\n",
       "\n",
       "    .dataframe tbody tr th {\n",
       "        vertical-align: top;\n",
       "    }\n",
       "\n",
       "    .dataframe thead th {\n",
       "        text-align: right;\n",
       "    }\n",
       "</style>\n",
       "<table border=\"1\" class=\"dataframe\">\n",
       "  <thead>\n",
       "    <tr style=\"text-align: right;\">\n",
       "      <th></th>\n",
       "      <th>Economy</th>\n",
       "      <th>Year</th>\n",
       "      <th>Subgroup</th>\n",
       "      <th>Top Subgroup Level</th>\n",
       "      <th>Subgroup Level</th>\n",
       "      <th>female participation in ownership</th>\n",
       "      <th>majority female ownership</th>\n",
       "      <th>a female top manager</th>\n",
       "      <th>workers that are female (%)</th>\n",
       "      <th>production workers that are female (%)*</th>\n",
       "      <th>non-production workers that are female (%)*</th>\n",
       "    </tr>\n",
       "  </thead>\n",
       "  <tbody>\n",
       "    <tr>\n",
       "      <th>0</th>\n",
       "      <td>All</td>\n",
       "      <td>NaN</td>\n",
       "      <td>NaN</td>\n",
       "      <td>NaN</td>\n",
       "      <td>NaN</td>\n",
       "      <td>35.2</td>\n",
       "      <td>14.6</td>\n",
       "      <td>18.2</td>\n",
       "      <td>33.5</td>\n",
       "      <td>27.3</td>\n",
       "      <td>37.7</td>\n",
       "    </tr>\n",
       "    <tr>\n",
       "      <th>1</th>\n",
       "      <td>East Asia &amp; Pacific</td>\n",
       "      <td>NaN</td>\n",
       "      <td>NaN</td>\n",
       "      <td>NaN</td>\n",
       "      <td>NaN</td>\n",
       "      <td>52.7</td>\n",
       "      <td>28.8</td>\n",
       "      <td>32.8</td>\n",
       "      <td>38.9</td>\n",
       "      <td>39.5</td>\n",
       "      <td>36.0</td>\n",
       "    </tr>\n",
       "    <tr>\n",
       "      <th>2</th>\n",
       "      <td>Europe &amp; Central Asia</td>\n",
       "      <td>NaN</td>\n",
       "      <td>NaN</td>\n",
       "      <td>NaN</td>\n",
       "      <td>NaN</td>\n",
       "      <td>32.4</td>\n",
       "      <td>14.6</td>\n",
       "      <td>18.9</td>\n",
       "      <td>40.1</td>\n",
       "      <td>38.7</td>\n",
       "      <td>50.3</td>\n",
       "    </tr>\n",
       "    <tr>\n",
       "      <th>3</th>\n",
       "      <td>High income: OECD</td>\n",
       "      <td>NaN</td>\n",
       "      <td>NaN</td>\n",
       "      <td>NaN</td>\n",
       "      <td>NaN</td>\n",
       "      <td>37.8</td>\n",
       "      <td>8.0</td>\n",
       "      <td>14.0</td>\n",
       "      <td>41.2</td>\n",
       "      <td>33.6</td>\n",
       "      <td>50.0</td>\n",
       "    </tr>\n",
       "    <tr>\n",
       "      <th>4</th>\n",
       "      <td>Latin America &amp; Caribbean</td>\n",
       "      <td>NaN</td>\n",
       "      <td>NaN</td>\n",
       "      <td>NaN</td>\n",
       "      <td>NaN</td>\n",
       "      <td>45.6</td>\n",
       "      <td>19.9</td>\n",
       "      <td>21.4</td>\n",
       "      <td>37.6</td>\n",
       "      <td>23.5</td>\n",
       "      <td>45.1</td>\n",
       "    </tr>\n",
       "  </tbody>\n",
       "</table>\n",
       "</div>"
      ],
      "text/plain": [
       "                     Economy  Year Subgroup Top Subgroup Level Subgroup Level  \\\n",
       "0                        All   NaN      NaN                NaN            NaN   \n",
       "1        East Asia & Pacific   NaN      NaN                NaN            NaN   \n",
       "2      Europe & Central Asia   NaN      NaN                NaN            NaN   \n",
       "3          High income: OECD   NaN      NaN                NaN            NaN   \n",
       "4  Latin America & Caribbean   NaN      NaN                NaN            NaN   \n",
       "\n",
       "   female participation in ownership  majority female ownership  \\\n",
       "0                               35.2                       14.6   \n",
       "1                               52.7                       28.8   \n",
       "2                               32.4                       14.6   \n",
       "3                               37.8                        8.0   \n",
       "4                               45.6                       19.9   \n",
       "\n",
       "   a female top manager  workers that are female (%)  \\\n",
       "0                  18.2                         33.5   \n",
       "1                  32.8                         38.9   \n",
       "2                  18.9                         40.1   \n",
       "3                  14.0                         41.2   \n",
       "4                  21.4                         37.6   \n",
       "\n",
       "   production workers that are female (%)*  \\\n",
       "0                                     27.3   \n",
       "1                                     39.5   \n",
       "2                                     38.7   \n",
       "3                                     33.6   \n",
       "4                                     23.5   \n",
       "\n",
       "   non-production workers that are female (%)*  \n",
       "0                                         37.7  \n",
       "1                                         36.0  \n",
       "2                                         50.3  \n",
       "3                                         50.0  \n",
       "4                                         45.1  "
      ]
     },
     "execution_count": 67,
     "metadata": {},
     "output_type": "execute_result"
    }
   ],
   "source": [
    "latest_gender_data.head()"
   ]
  },
  {
   "cell_type": "markdown",
   "metadata": {},
   "source": [
    "The column names remain longer than it is convenient for usual bar charts. Fortunately, I have created a function that we can directly apply directly here again as created above - `bar_factors_for_list_of_countries` function. That is the beauty of programming - automation :)"
   ]
  },
  {
   "cell_type": "code",
   "execution_count": 68,
   "metadata": {},
   "outputs": [
    {
     "name": "stdout",
     "output_type": "stream",
     "text": [
      "\n",
      "    Plot a horizontal bar graph for all contries given in a list for each column starting from concrete index\n",
      "    \n",
      "    Parameters:\n",
      "    lst : list of countries (preferably up to 3 for the sake of readability)\n",
      "    dataframe : pandas' DataFrame with 'Economy' column representing the countries\n",
      "    index : index of column (first column index = 0) from which the data should be present on the graph\n",
      "    title : optional title\n",
      "    \n"
     ]
    }
   ],
   "source": [
    "print(bar_factors_for_list_of_countries.__doc__)"
   ]
  },
  {
   "cell_type": "markdown",
   "metadata": {},
   "source": [
    "What was expected from this function was: a list of countries (in this case 'Economy'), a dataframe, index of column, even an option for title. Good, let's try it:"
   ]
  },
  {
   "cell_type": "code",
   "execution_count": 69,
   "metadata": {},
   "outputs": [
    {
     "data": {
      "image/png": "[encoded data removed]",
      "text/plain": [
       "<Figure size 864x720 with 1 Axes>"
      ]
     },
     "metadata": {
      "needs_background": "light"
     },
     "output_type": "display_data"
    }
   ],
   "source": [
    "bar_factors_for_list_of_countries(['Bulgaria', 'Europe & Central Asia', 'High income: OECD', 'All'], \n",
    "                                  latest_gender_data, 5, title = \"Comparison of female equality factor in enterprises\")"
   ]
  },
  {
   "cell_type": "markdown",
   "metadata": {},
   "source": [
    "Choosing four \"economies\" makes it a bit too crowded and not very readable, but still we can understand immediately, without applying statistical methods that in our region, even compared to the 'High income' countries and worldwide average ('All'), as stated above as hypothesis, Bulgaria is above the average. I can play around to make prettier chart, but it won't lead to any different conclusion. Maybe it could be interesting to check the ranking of Bulgaria among the countries worldwide. Well, instead, let's concentrate on another aspect.\n",
    "\n",
    "It looks to me for the moment, that the last three factors are less interesting compared to the 3 on top of this horizontal bar chart. It will be also interesting to see if there is a correlation beween the factor of 'female ownership' and 'female top managers'. Sounds logical, but whether it is true on global average... Let's check this!\n",
    "\n",
    "The easiest and fastest first check is to find the correlation between the two column. Applying it directly can 'mislead' the calculation because for each country there are numerous split of same information based on `Subgroup`, `Top Subgroup Level` and `Subgroup Level`, thus uncontrollable repetition of some of the data. Therefore, we'd better clean a bit first. As we must avoid any unnecessairy split in the data, we must clean at the `Subgroup Level` and remain with the most common for each country:"
   ]
  },
  {
   "cell_type": "code",
   "execution_count": 70,
   "metadata": {},
   "outputs": [
    {
     "name": "stdout",
     "output_type": "stream",
     "text": [
      "Correlation between \"female Top Manager\" and \"majority female ownership\" = 0.8047764563257315\n",
      "Correlation between \"female Top Manager\" and \"female participation in ownership\" = 0.5635301587938372\n"
     ]
    }
   ],
   "source": [
    "# cleaning the data before checking the correlation\n",
    "combined_level_gender_data = latest_gender_data[latest_gender_data['Subgroup Level'].isna()]\n",
    "\n",
    "# correlation between 'a female top manager' and 'majority female ownership'\n",
    "corr_a = combined_level_gender_data['a female top manager'].corr(combined_level_gender_data['majority female ownership'])\n",
    "print('Correlation between \"female Top Manager\" and \"majority female ownership\" =', corr_a)\n",
    "\n",
    "# correlation between 'a female top manager' and 'majority female ownership'\n",
    "corr_b = combined_level_gender_data['a female top manager'].corr(combined_level_gender_data['female participation in ownership'])\n",
    "print('Correlation between \"female Top Manager\" and \"female participation in ownership\" =', corr_b)"
   ]
  },
  {
   "cell_type": "markdown",
   "metadata": {},
   "source": [
    "This is kind of logical, isn't it? So, in order to reach perfect gender equality, there should be increase in the '`female participation in ownership`', along with some improvement in '`majority female ownership`' factor to keep the correlation level (as the data for the second factor is part of the first)."
   ]
  },
  {
   "cell_type": "markdown",
   "metadata": {},
   "source": [
    "On the other hand, it is interesting to check whether there is a split of '*Top Manager's gender*' depending on the sector. To verify that I need to get back to my `latest_gender_data` dataset and filter the top managers on male and female, then show both with a pie charts split on '*Services*' and '*Manufacturing*' sectors. There is one problem though - the 'Sector' filter and 'Gender of Top Manager' filter are on the same level in the 'Subgroup' column."
   ]
  },
  {
   "cell_type": "code",
   "execution_count": 71,
   "metadata": {},
   "outputs": [
    {
     "data": {
      "text/plain": [
       "array([nan, 'Sector', 'Size', 'Location', 'Exporter Type',\n",
       "       'Gender of Top Manager', 'Ownership Type'], dtype=object)"
      ]
     },
     "execution_count": 71,
     "metadata": {},
     "output_type": "execute_result"
    }
   ],
   "source": [
    "latest_gender_data['Subgroup'].unique()"
   ]
  },
  {
   "cell_type": "markdown",
   "metadata": {},
   "source": [
    "So, with my dataset I have to use different approach and start with service/manufacturing split and then male/female Top manager split. In fact for Top manager split I can use the values in '`a female top manager`' column only. That's fine:"
   ]
  },
  {
   "cell_type": "code",
   "execution_count": 72,
   "metadata": {},
   "outputs": [],
   "source": [
    "# filter manufacturing\n",
    "gender_manufacturing_data = latest_gender_data[(latest_gender_data['Top Subgroup Level'] == 'Manufacturing') & \n",
    "                                                    (latest_gender_data['Subgroup Level'] == 'All')]\n",
    "\n",
    "# filter services\n",
    "gender_services_data = latest_gender_data[(latest_gender_data['Top Subgroup Level'] == 'Services') & \n",
    "                                               (latest_gender_data['Subgroup Level'] == 'All')]"
   ]
  },
  {
   "cell_type": "markdown",
   "metadata": {},
   "source": [
    "After the initial first step of spliting the data in '*Manufacturer*' and '*Services*' there is data left only on country level and not on global or regional average. Relying on the representativity of the researches in each country (each survey is representative sample of the enterprises) from one side and on the fact that our sample is big enough to rely on ***Central limit theorem*** from the other side, I can use the mean of all countries to show the results."
   ]
  },
  {
   "cell_type": "code",
   "execution_count": 73,
   "metadata": {},
   "outputs": [],
   "source": [
    "def draw_pie(variable, title=\"\", labels= ['female', 'male']):\n",
    "    \"\"\"\n",
    "    Draw pie function of bipolar variable\n",
    "    \n",
    "    variable : a sigle value are the remaining part of the circle will represent 100 - variable's value\n",
    "    title : string representing optional title to be set on top of the chart\n",
    "    labels: list of 2 values, the first one corresponding to the variable, default = ['female', 'male']\n",
    "    \"\"\"\n",
    "    plt.gca().set_aspect(\"equal\")\n",
    "    plt.pie([variable, 100 - variable], labels = labels, autopct = \"%.2f%%\")\n",
    "    plt.title(title)\n",
    "    plt.show()"
   ]
  },
  {
   "cell_type": "code",
   "execution_count": 74,
   "metadata": {},
   "outputs": [
    {
     "data": {
      "image/png": "[encoded data removed]",
      "text/plain": [
       "<Figure size 432x288 with 1 Axes>"
      ]
     },
     "metadata": {},
     "output_type": "display_data"
    },
    {
     "data": {
      "image/png": "[encoded data removed]",
      "text/plain": [
       "<Figure size 432x288 with 1 Axes>"
      ]
     },
     "metadata": {},
     "output_type": "display_data"
    }
   ],
   "source": [
    "#using the means\n",
    "serv_mean = gender_services_data['a female top manager'].mean()\n",
    "manuf_mean = gender_manufacturing_data['a female top manager'].mean()\n",
    "\n",
    "# drawing the pies\n",
    "draw_pie(serv_mean, \"Top Managers gender in Services sector (WW average)\")\n",
    "draw_pie(manuf_mean, \"Top Managers gender in Manufacturing sector (WW average)\")"
   ]
  },
  {
   "cell_type": "markdown",
   "metadata": {},
   "source": [
    "It seems there is a small predominance of female Top Managers in the `Services` sector, but one can't say that they are not enough women as Top Managers in `Manufacturing` sector.\n",
    "Let's quickly check the same for the enterprises with `female participation in ownership`."
   ]
  },
  {
   "cell_type": "code",
   "execution_count": 75,
   "metadata": {},
   "outputs": [
    {
     "data": {
      "text/html": [
       "<div>\n",
       "<style scoped>\n",
       "    .dataframe tbody tr th:only-of-type {\n",
       "        vertical-align: middle;\n",
       "    }\n",
       "\n",
       "    .dataframe tbody tr th {\n",
       "        vertical-align: top;\n",
       "    }\n",
       "\n",
       "    .dataframe thead th {\n",
       "        text-align: right;\n",
       "    }\n",
       "</style>\n",
       "<table border=\"1\" class=\"dataframe\">\n",
       "  <thead>\n",
       "    <tr style=\"text-align: right;\">\n",
       "      <th></th>\n",
       "      <th>Economy</th>\n",
       "      <th>Year</th>\n",
       "      <th>Subgroup</th>\n",
       "      <th>Top Subgroup Level</th>\n",
       "      <th>Subgroup Level</th>\n",
       "      <th>female participation in ownership</th>\n",
       "      <th>majority female ownership</th>\n",
       "      <th>a female top manager</th>\n",
       "      <th>workers that are female (%)</th>\n",
       "      <th>production workers that are female (%)*</th>\n",
       "      <th>non-production workers that are female (%)*</th>\n",
       "    </tr>\n",
       "  </thead>\n",
       "  <tbody>\n",
       "    <tr>\n",
       "      <th>9</th>\n",
       "      <td>Afghanistan</td>\n",
       "      <td>2014.0</td>\n",
       "      <td>Sector</td>\n",
       "      <td>Manufacturing</td>\n",
       "      <td>All</td>\n",
       "      <td>5.3</td>\n",
       "      <td>1.4</td>\n",
       "      <td>8.2</td>\n",
       "      <td>29.6</td>\n",
       "      <td>34.3</td>\n",
       "      <td>47.2</td>\n",
       "    </tr>\n",
       "    <tr>\n",
       "      <th>29</th>\n",
       "      <td>Albania</td>\n",
       "      <td>2019.0</td>\n",
       "      <td>Sector</td>\n",
       "      <td>Manufacturing</td>\n",
       "      <td>All</td>\n",
       "      <td>22.9</td>\n",
       "      <td>17.0</td>\n",
       "      <td>22.1</td>\n",
       "      <td>99.0</td>\n",
       "      <td>99.8</td>\n",
       "      <td>98.4</td>\n",
       "    </tr>\n",
       "    <tr>\n",
       "      <th>47</th>\n",
       "      <td>Angola</td>\n",
       "      <td>2010.0</td>\n",
       "      <td>Sector</td>\n",
       "      <td>Manufacturing</td>\n",
       "      <td>All</td>\n",
       "      <td>55.6</td>\n",
       "      <td>8.6</td>\n",
       "      <td>10.6</td>\n",
       "      <td>58.7</td>\n",
       "      <td>49.5</td>\n",
       "      <td>58.5</td>\n",
       "    </tr>\n",
       "    <tr>\n",
       "      <th>65</th>\n",
       "      <td>Antigua and Barbuda</td>\n",
       "      <td>2010.0</td>\n",
       "      <td>Sector</td>\n",
       "      <td>Manufacturing</td>\n",
       "      <td>All</td>\n",
       "      <td>11.7</td>\n",
       "      <td>NaN</td>\n",
       "      <td>6.0</td>\n",
       "      <td>27.5</td>\n",
       "      <td>NaN</td>\n",
       "      <td>NaN</td>\n",
       "    </tr>\n",
       "    <tr>\n",
       "      <th>80</th>\n",
       "      <td>Argentina</td>\n",
       "      <td>2017.0</td>\n",
       "      <td>Sector</td>\n",
       "      <td>Manufacturing</td>\n",
       "      <td>All</td>\n",
       "      <td>59.0</td>\n",
       "      <td>10.6</td>\n",
       "      <td>8.2</td>\n",
       "      <td>21.5</td>\n",
       "      <td>13.1</td>\n",
       "      <td>40.1</td>\n",
       "    </tr>\n",
       "    <tr>\n",
       "      <th>...</th>\n",
       "      <td>...</td>\n",
       "      <td>...</td>\n",
       "      <td>...</td>\n",
       "      <td>...</td>\n",
       "      <td>...</td>\n",
       "      <td>...</td>\n",
       "      <td>...</td>\n",
       "      <td>...</td>\n",
       "      <td>...</td>\n",
       "      <td>...</td>\n",
       "      <td>...</td>\n",
       "    </tr>\n",
       "    <tr>\n",
       "      <th>2830</th>\n",
       "      <td>Vietnam</td>\n",
       "      <td>2015.0</td>\n",
       "      <td>Sector</td>\n",
       "      <td>Manufacturing</td>\n",
       "      <td>All</td>\n",
       "      <td>43.8</td>\n",
       "      <td>14.9</td>\n",
       "      <td>16.9</td>\n",
       "      <td>36.1</td>\n",
       "      <td>32.5</td>\n",
       "      <td>42.5</td>\n",
       "    </tr>\n",
       "    <tr>\n",
       "      <th>2853</th>\n",
       "      <td>West Bank and Gaza</td>\n",
       "      <td>2019.0</td>\n",
       "      <td>Sector</td>\n",
       "      <td>Manufacturing</td>\n",
       "      <td>All</td>\n",
       "      <td>1.0</td>\n",
       "      <td>0.0</td>\n",
       "      <td>0.0</td>\n",
       "      <td>10.5</td>\n",
       "      <td>9.6</td>\n",
       "      <td>12.2</td>\n",
       "    </tr>\n",
       "    <tr>\n",
       "      <th>2870</th>\n",
       "      <td>Yemen. Rep.</td>\n",
       "      <td>2013.0</td>\n",
       "      <td>Sector</td>\n",
       "      <td>Manufacturing</td>\n",
       "      <td>All</td>\n",
       "      <td>2.2</td>\n",
       "      <td>0.0</td>\n",
       "      <td>0.0</td>\n",
       "      <td>3.3</td>\n",
       "      <td>3.3</td>\n",
       "      <td>4.3</td>\n",
       "    </tr>\n",
       "    <tr>\n",
       "      <th>2887</th>\n",
       "      <td>Zambia</td>\n",
       "      <td>2019.0</td>\n",
       "      <td>Sector</td>\n",
       "      <td>Manufacturing</td>\n",
       "      <td>All</td>\n",
       "      <td>33.9</td>\n",
       "      <td>13.5</td>\n",
       "      <td>7.2</td>\n",
       "      <td>44.9</td>\n",
       "      <td>45.2</td>\n",
       "      <td>41.5</td>\n",
       "    </tr>\n",
       "    <tr>\n",
       "      <th>2908</th>\n",
       "      <td>Zimbabwe</td>\n",
       "      <td>2016.0</td>\n",
       "      <td>Sector</td>\n",
       "      <td>Manufacturing</td>\n",
       "      <td>All</td>\n",
       "      <td>47.1</td>\n",
       "      <td>14.7</td>\n",
       "      <td>9.7</td>\n",
       "      <td>23.3</td>\n",
       "      <td>19.3</td>\n",
       "      <td>33.6</td>\n",
       "    </tr>\n",
       "  </tbody>\n",
       "</table>\n",
       "<p>144 rows × 11 columns</p>\n",
       "</div>"
      ],
      "text/plain": [
       "                  Economy    Year Subgroup Top Subgroup Level Subgroup Level  \\\n",
       "9             Afghanistan  2014.0   Sector      Manufacturing            All   \n",
       "29                Albania  2019.0   Sector      Manufacturing            All   \n",
       "47                 Angola  2010.0   Sector      Manufacturing            All   \n",
       "65    Antigua and Barbuda  2010.0   Sector      Manufacturing            All   \n",
       "80              Argentina  2017.0   Sector      Manufacturing            All   \n",
       "...                   ...     ...      ...                ...            ...   \n",
       "2830              Vietnam  2015.0   Sector      Manufacturing            All   \n",
       "2853   West Bank and Gaza  2019.0   Sector      Manufacturing            All   \n",
       "2870          Yemen. Rep.  2013.0   Sector      Manufacturing            All   \n",
       "2887               Zambia  2019.0   Sector      Manufacturing            All   \n",
       "2908             Zimbabwe  2016.0   Sector      Manufacturing            All   \n",
       "\n",
       "      female participation in ownership  majority female ownership  \\\n",
       "9                                   5.3                        1.4   \n",
       "29                                 22.9                       17.0   \n",
       "47                                 55.6                        8.6   \n",
       "65                                 11.7                        NaN   \n",
       "80                                 59.0                       10.6   \n",
       "...                                 ...                        ...   \n",
       "2830                               43.8                       14.9   \n",
       "2853                                1.0                        0.0   \n",
       "2870                                2.2                        0.0   \n",
       "2887                               33.9                       13.5   \n",
       "2908                               47.1                       14.7   \n",
       "\n",
       "      a female top manager  workers that are female (%)  \\\n",
       "9                      8.2                         29.6   \n",
       "29                    22.1                         99.0   \n",
       "47                    10.6                         58.7   \n",
       "65                     6.0                         27.5   \n",
       "80                     8.2                         21.5   \n",
       "...                    ...                          ...   \n",
       "2830                  16.9                         36.1   \n",
       "2853                   0.0                         10.5   \n",
       "2870                   0.0                          3.3   \n",
       "2887                   7.2                         44.9   \n",
       "2908                   9.7                         23.3   \n",
       "\n",
       "      production workers that are female (%)*  \\\n",
       "9                                        34.3   \n",
       "29                                       99.8   \n",
       "47                                       49.5   \n",
       "65                                        NaN   \n",
       "80                                       13.1   \n",
       "...                                       ...   \n",
       "2830                                     32.5   \n",
       "2853                                      9.6   \n",
       "2870                                      3.3   \n",
       "2887                                     45.2   \n",
       "2908                                     19.3   \n",
       "\n",
       "      non-production workers that are female (%)*  \n",
       "9                                            47.2  \n",
       "29                                           98.4  \n",
       "47                                           58.5  \n",
       "65                                            NaN  \n",
       "80                                           40.1  \n",
       "...                                           ...  \n",
       "2830                                         42.5  \n",
       "2853                                         12.2  \n",
       "2870                                          4.3  \n",
       "2887                                         41.5  \n",
       "2908                                         33.6  \n",
       "\n",
       "[144 rows x 11 columns]"
      ]
     },
     "execution_count": 75,
     "metadata": {},
     "output_type": "execute_result"
    }
   ],
   "source": [
    "gender_manufacturing_data"
   ]
  },
  {
   "cell_type": "code",
   "execution_count": 76,
   "metadata": {},
   "outputs": [
    {
     "data": {
      "image/png": "[encoded data removed]",
      "text/plain": [
       "<Figure size 432x288 with 1 Axes>"
      ]
     },
     "metadata": {},
     "output_type": "display_data"
    },
    {
     "data": {
      "image/png": "[encoded data removed]",
      "text/plain": [
       "<Figure size 432x288 with 1 Axes>"
      ]
     },
     "metadata": {},
     "output_type": "display_data"
    }
   ],
   "source": [
    "#using the means\n",
    "ownership_serv_mean = gender_services_data['female participation in ownership'].mean()\n",
    "ownership_manuf_mean = gender_manufacturing_data['female participation in ownership'].mean()\n",
    "\n",
    "# drawing the pies\n",
    "draw_pie(ownership_serv_mean, \"Female participation in ownership in Services sector (WW average)\")\n",
    "draw_pie(ownership_manuf_mean, \"Female participation in ownership in Manufacturing sector (WW average)\")"
   ]
  },
  {
   "cell_type": "markdown",
   "metadata": {},
   "source": [
    "Obviously, there is nothig hidden here either that can say that there is only one sector that on global average is driving the *gender equality down*."
   ]
  },
  {
   "cell_type": "markdown",
   "metadata": {},
   "source": [
    "Now, for the last, let's see what is the development of the female ownership in time on global average and for Bulgaria. For that I need to go back to `gender_data1` table and do again quickly cleaning of the data."
   ]
  },
  {
   "cell_type": "code",
   "execution_count": 77,
   "metadata": {},
   "outputs": [],
   "source": [
    "# create new variable with data on total economy(country) level\n",
    "ownership_data = gender_data1[gender_data1['Subgroup Level'].isna()].reset_index(drop = True)\n",
    "\n",
    "# use the list for shorter names\n",
    "ownership_data.columns = new_col_names\n",
    "\n",
    "# drop the columns with 0 non-null values\n",
    "ownership_data = ownership_data.drop(['Subgroup', 'Subgroup Level', 'Top Subgroup Level'], axis = 1)"
   ]
  },
  {
   "cell_type": "code",
   "execution_count": 78,
   "metadata": {},
   "outputs": [
    {
     "name": "stdout",
     "output_type": "stream",
     "text": [
      "<class 'pandas.core.frame.DataFrame'>\n",
      "RangeIndex: 298 entries, 0 to 297\n",
      "Data columns (total 8 columns):\n",
      " #   Column                                       Non-Null Count  Dtype  \n",
      "---  ------                                       --------------  -----  \n",
      " 0   Economy                                      298 non-null    object \n",
      " 1   Year                                         290 non-null    float64\n",
      " 2   female participation in ownership            296 non-null    object \n",
      " 3   majority female ownership                    177 non-null    object \n",
      " 4   a female top manager                         246 non-null    object \n",
      " 5   workers that are female (%)                  297 non-null    object \n",
      " 6   production workers that are female (%)*      261 non-null    object \n",
      " 7   non-production workers that are female (%)*  261 non-null    object \n",
      "dtypes: float64(1), object(7)\n",
      "memory usage: 18.8+ KB\n"
     ]
    }
   ],
   "source": [
    "# overall first check of the table\n",
    "ownership_data.info()"
   ]
  },
  {
   "cell_type": "code",
   "execution_count": 79,
   "metadata": {},
   "outputs": [],
   "source": [
    "# replace the 'n.c.', 'n.a.'\n",
    "ownership_data.replace(to_replace = ['n.c.', 'n.a.'], value = np.nan, inplace = True)\n",
    "\n",
    "# for each column starting from column 2 we do the transformation\n",
    "for col in ownership_data.columns[2:]:\n",
    "    ownership_data[col] = ownership_data[col].astype(float)"
   ]
  },
  {
   "cell_type": "code",
   "execution_count": 80,
   "metadata": {},
   "outputs": [],
   "source": [
    "# last check of the data\n",
    "for column in ownership_data.columns[2:]:\n",
    "    assert_equal(ownership_data[column].dtype, 'float64')"
   ]
  },
  {
   "cell_type": "markdown",
   "metadata": {},
   "source": [
    "As we are intersted in the `female participation in ownership` and `Year` there should be no null values (NaN values) there. So, based on `info()` table I define my first next steps as:\n",
    "1. to deal with 2 null values in `female participation in ownership`\n",
    "2. to deal with 8 null values in `Year` - the common *Economies*"
   ]
  },
  {
   "cell_type": "code",
   "execution_count": 81,
   "metadata": {},
   "outputs": [],
   "source": [
    "# deal with 1.\n",
    "ownership_data.dropna(subset = ['female participation in ownership'], inplace = True)\n",
    "# quick test\n",
    "assert_equal(ownership_data['female participation in ownership'].count(), 296)"
   ]
  },
  {
   "cell_type": "code",
   "execution_count": 82,
   "metadata": {},
   "outputs": [],
   "source": [
    "# deal with 2.\n",
    "years_list = sorted(ownership_data.Year.unique().tolist())[1:]"
   ]
  },
  {
   "cell_type": "markdown",
   "metadata": {},
   "source": [
    "After dealing with these 2 points, I will prepare a quick function for ploting the timeline of female ownership development."
   ]
  },
  {
   "cell_type": "code",
   "execution_count": 83,
   "metadata": {},
   "outputs": [],
   "source": [
    "# designing separate function for quick line plot with set x_label\n",
    "def plot_xy(data_x, data_y, label = \"\"):\n",
    "    \"\"\"\n",
    "    ploting a line with data_x (accepting 'Year' values as list) and data_y (respective female ownership in % as list)\n",
    "    \"\"\"\n",
    "    plt.plot(data_x, data_y, label = label)\n",
    "    plt.xlabel(\"Year\")\n",
    "    plt.xticks(data_x)\n",
    "    plt.ylabel(\"Avg global female ownership %\")\n",
    "    plt.title(\"Shares of enterprises with female participation in ownership with years\")\n",
    "    plt.legend()\n",
    "    plt.show()"
   ]
  },
  {
   "cell_type": "markdown",
   "metadata": {},
   "source": [
    "This function will be used next, but in order to prepare the data as input for it,  I will make a list containing each year's mean value. The surveys are not done each year for all countries. Whether it is a question of budget or other, the surveys are made on waves. Each year one wave of surveys is launched for given number of countries. I will accept as representative for average global level the data defined by the mean of at least 10 countries (it is like defining the size of the bins when using histogram). "
   ]
  },
  {
   "cell_type": "code",
   "execution_count": 84,
   "metadata": {},
   "outputs": [
    {
     "name": "stdout",
     "output_type": "stream",
     "text": [
      "Generating list...\n",
      "Appending year 2006 in the list for plot with 27 country surveys\n",
      "Appending year 2007 in the list for plot with 13 country surveys\n",
      "Appending year 2009 in the list for plot with 52 country surveys\n",
      "Appending year 2010 in the list for plot with 35 country surveys\n",
      "Appending year 2013 in the list for plot with 48 country surveys\n",
      "Appending year 2014 in the list for plot with 12 country surveys\n",
      "Appending year 2016 in the list for plot with 18 country surveys\n",
      "Appending year 2017 in the list for plot with 11 country surveys\n",
      "Appending year 2019 in the list for plot with 38 country surveys\n",
      "\n",
      "Jobs DONE!!!\n",
      "Omitted years due to insufficient amount of countries'surveys: 6\n",
      "Appended years: 9\n",
      "---------------\n",
      "Plotting the chart for:\n",
      "x =  [2006, 2007, 2009, 2010, 2013, 2014, 2016, 2017, 2019]\n",
      "y =  [32.52, 25.86, 38.45, 40.26, 30.57, 24.17, 35.32, 47.79, 30.32]\n"
     ]
    },
    {
     "data": {
      "image/png": "[encoded data removed]",
      "text/plain": [
       "<Figure size 576x432 with 1 Axes>"
      ]
     },
     "metadata": {
      "needs_background": "light"
     },
     "output_type": "display_data"
    }
   ],
   "source": [
    "data_x = [] # list accepting year\n",
    "data_y = [] # list accepting female ownership values\n",
    "count = 0 # count of rejected possible values\n",
    "print(\"Generating list...\")\n",
    "for year in years_list:\n",
    "    list_per_year = ownership_data[ownership_data.Year == year]['female participation in ownership']\n",
    "    # appending only the with min 10 countries'suveys\")\n",
    "    if len(list_per_year) > 10:\n",
    "        print(f\"Appending year {int(year)} in the list for plot with {len(list_per_year)} country surveys\")\n",
    "        data_y.append(round(list_per_year.mean(), 2))\n",
    "        data_x.append(int(year))\n",
    "    else:\n",
    "        count += 1\n",
    "print(f\"\\nJobs DONE!!!\\nOmitted years due to insufficient amount of countries'surveys: {count}\\nAppended years: {len(data_y)}\")\n",
    "print(\"-\"*15)\n",
    "print(\"Plotting the chart for:\")\n",
    "\n",
    "print(\"x = \", data_x)\n",
    "print(\"y = \" , data_y)\n",
    "plt.figure(figsize = (8, 6))\n",
    "plot_xy(data_x, data_y, \"global development\")"
   ]
  },
  {
   "cell_type": "markdown",
   "metadata": {},
   "source": [
    "The plotted line looks very unstable. Even if it seems there is some decrease in ownership after the years of the last crisis (2009), we can't say anything definitive for two reasons:\n",
    "\n",
    "1. The plot shows the average share of enterprises with female participation in ownership. Therefore, it is not evident that this drop can be linked with the crisis, because that would mean that all or the majority of bankrupted enterprises would be those with female ownership.\n",
    "2. The number of observations entering for some of the year is close to the minimum defined at 11. For instance, in the 2017 value is literally at that minimum (only 11 surveys).\n",
    "\n",
    "In case the value for 2017 is removed the trend would be even decreasing, but acording to the threshold defined as acceptable (more then 10 surveys) this value (despite questionable) is also acceptable. What hsould be the correct threshold - I do not know.\n",
    "\n",
    "That is why, I will design another, more robust approach. \n",
    "\n",
    "It will calculate the average considering all countries where the survey has been conducted, taking the latest available data for each country for the given year. (If a survey for a country for this year has not been conducted, the value from the past available survey will be considedred in the calculation of the mean, in case it is available at all.)"
   ]
  },
  {
   "cell_type": "code",
   "execution_count": 85,
   "metadata": {},
   "outputs": [
    {
     "name": "stdout",
     "output_type": "stream",
     "text": [
      "Generating lists... DONE\n",
      "Plotting the chart for:\n",
      "x =  [2006, 2007, 2008, 2009, 2010, 2011, 2012, 2013, 2014, 2015, 2016, 2017, 2018, 2019, 2020]\n",
      "y =  [32.52, 30.36, 31.34, 35.03, 36.81, 36.77, 36.98, 35.23, 34.9, 35.04, 34.78, 35.94, 35.85, 35.14, 35.05]\n"
     ]
    },
    {
     "data": {
      "image/png": "[encoded data removed]",
      "text/plain": [
       "<Figure size 720x432 with 1 Axes>"
      ]
     },
     "metadata": {
      "needs_background": "light"
     },
     "output_type": "display_data"
    }
   ],
   "source": [
    "print(\"Generating lists...\", end=\" \")\n",
    "df = ownership_data[ownership_data.Year == years_list[0]][['Economy', 'female participation in ownership']]\n",
    "data_x = [int(years_list[0])] # list accepting year, initialized with the first year a survey has been launched\n",
    "data_y = [round(df['female participation in ownership'].mean(), 2)] # list accepting the mean based on last available surveys\n",
    "for year in years_list[1:]:\n",
    "    df_new = ownership_data[ownership_data.Year == year][['Economy', 'female participation in ownership']]\n",
    "    # merging df with old year and df_new with the new year\n",
    "    df_outer = pd.merge(df, df_new, on='Economy', how='outer', sort = True, suffixes=('_1', '_2'))\n",
    "    # and creating a column 'join' which takes only the latest data for each country\n",
    "    df_outer.loc[df_outer['female participation in ownership_2'].isnull(),'join'] = \\\n",
    "                 df_outer['female participation in ownership_1']\n",
    "    df_outer.loc[df_outer['female participation in ownership_2'].notnull(), 'join'] = \\\n",
    "                 df_outer['female participation in ownership_2']\n",
    "    # appending\n",
    "    data_y.append(round(df_outer['join'].mean(), 2))\n",
    "    data_x.append(int(year))\n",
    "    # transforimg df_outer['join'] to df\n",
    "    df = df_outer[['Economy', 'join']]\n",
    "    df.columns = ['Economy', 'female participation in ownership']\n",
    "print(\"DONE\")\n",
    "print(\"Plotting the chart for:\")\n",
    "\n",
    "print(\"x = \", data_x)\n",
    "print(\"y = \" , data_y)\n",
    "plt.figure(figsize = (10, 6))\n",
    "plot_xy(data_x, data_y, \"global development\")"
   ]
  },
  {
   "cell_type": "markdown",
   "metadata": {},
   "source": [
    "\n",
    "To conclude, we can't say that the development in time is in the direction  that would improve the gener equality. What remained is to check the situation for Bulgaria. This is easy:"
   ]
  },
  {
   "cell_type": "code",
   "execution_count": 86,
   "metadata": {},
   "outputs": [
    {
     "data": {
      "image/png": "[encoded data removed]",
      "text/plain": [
       "<Figure size 720x432 with 1 Axes>"
      ]
     },
     "metadata": {
      "needs_background": "light"
     },
     "output_type": "display_data"
    }
   ],
   "source": [
    "# choosing only the data for Bulgaria\n",
    "bg_ownership = ownership_data[ownership_data.Economy == 'Bulgaria']\n",
    "\n",
    "# ploting both Bulgaria and Global development of share of enterprises with female participation in ownership\n",
    "# just using the plt.plot() before the plot_xy() to have it on the same graph\n",
    "plt.figure(figsize = (10, 6))\n",
    "plt.plot(bg_ownership.Year, bg_ownership['female participation in ownership'], label = 'Bulgaria development')\n",
    "plot_xy(data_x, data_y, \"global development\")"
   ]
  },
  {
   "cell_type": "markdown",
   "metadata": {},
   "source": [
    "Comparing to the global average the development of the share of enterprises with female participation in ownership seem stable. This might be one of the explanation of the good comparative in Bulgaria compared to 'Europe & Central Asia', 'High income: OECD' and 'All' visible in the horizontal bar chart made for all these 'Econimies' above."
   ]
  },
  {
   "cell_type": "markdown",
   "metadata": {},
   "source": [
    "***IV.*** **Conclusions**"
   ]
  },
  {
   "cell_type": "markdown",
   "metadata": {},
   "source": [
    "The initially set problems consisted of:\n",
    "1. Comparing obstacles for development of enterprises worldwide and in Bulgaria.\n",
    "\n",
    "This part consisted of investigation and comparation of Bulgaria with the global average and the group/region where Bulgaria belongs. The identified obstacles as most problematic<a id='*'>[*](#*)</a> compared to these groups were 'practices of the informal sector', 'business licensing and permits' and 'inadequately educated workforce'. They were further compared with the whole set of countries. It became clear that Bulgaria is among the worst performing countries based on these three factors and checking what was their development in the last years explain its bad positionning. Unfortunately, there was no visible improvement there even when it was checked from the perspective of 'sector split' and 'top management gender split'. Any hypothesis that these splitted sub-groups have different opinion for the improvement of these obstacles couldn't be scientifically accepted, nor rejected. There is still possibility for the reader to draw some conclusions if the analysis is based only on the graphical time visualizations."
   ]
  },
  {
   "cell_type": "markdown",
   "metadata": {},
   "source": [
    "2. Gender equality in the enterprises worldwide and Bulgaria.\n",
    "\n",
    "Regarding the 'Gender equality' a prompt check where is Bulgaria compared to global average, the region where Bulgaria belongs and the high income OECD countries showed that the country stand relatively good on all of the predefined in the surveys indicators. Short research what is important to get to the full equality (again using the indicators avalable in the dataset) was conducted. It showed that there should be increase in the 'female participation in ownership', along with improvement in 'majority female ownership' factor in order to keep the correlation level (as the data for the second factor is included in the other). A trial to make a split on pure female and pure male sector could not be confirmed at least from this dataset - at least not regarding the participation of women in the ownership, nor as a definition of the Top managemer gender. \n",
    "\n",
    "At the end a attempt of checking the development of Bulgaria compared to the global average regaring the identified as turnaround factor of 'female participation in ownership' was made. Bulgaria deleloped well in the previous years and it could be one of the reason for the current good results showed in the initial check. The door left open for a debate whether the global average was correctly designed, but I think I took the best out of this dataset."
   ]
  },
  {
   "cell_type": "markdown",
   "metadata": {},
   "source": [
    "### References:\n",
    "\n",
    "The World Bank, The European Bank for Reconstruction and Development, and European Investment Bank. Bulgaria Enterprise Survey (ES) 2019, Ref. BGR_2019_ES_v01_M. Other Coutries Enterprise Surveys, Ref Unknown. Dataset downloaded from [https://www.enterprisesurveys.org/en] on [30.07.2020]."
   ]
  },
  {
   "cell_type": "markdown",
   "metadata": {},
   "source": [
    "[*](#*) I just wanted to point out that these is often in different medias declaration how the 'corruption' and the lack of 'justice' are the main obstacles for the development of the countries' econimies and business, but from the perspective of this survey the identified obstacles were different. That doesn't mean that there is not something else hidden behind the given answers of the survey's questions that can hide this. An analysis with focus on that can be made in another report, and I mention it here as it was one of the possible path to explore in this report."
   ]
  },
  {
   "cell_type": "code",
   "execution_count": null,
   "metadata": {},
   "outputs": [],
   "source": []
  }
 ],
 "metadata": {
  "kernelspec": {
   "display_name": "Python 3",
   "language": "python",
   "name": "python3"
  },
  "language_info": {
   "codemirror_mode": {
    "name": "ipython",
    "version": 3
   },
   "file_extension": ".py",
   "mimetype": "text/x-python",
   "name": "python",
   "nbconvert_exporter": "python",
   "pygments_lexer": "ipython3",
   "version": "3.7.7"
  }
 },
 "nbformat": 4,
 "nbformat_minor": 4
}

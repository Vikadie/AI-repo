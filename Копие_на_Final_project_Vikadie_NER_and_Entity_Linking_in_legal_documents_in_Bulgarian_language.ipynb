{
  "nbformat": 4,
  "nbformat_minor": 0,
  "metadata": {
    "colab": {
      "name": "Копие на Final project Vikadie - NER and Entity Linking in legal documents in Bulgarian language.ipynb",
      "provenance": [],
      "collapsed_sections": [],
      "toc_visible": true,
      "mount_file_id": "1E8OeVj9OXsSZ_oF0iIflDRen_C1BHrZ3",
      "authorship_tag": "ABX9TyMANV5r4L2DmQtsj8qZ/RcA",
      "include_colab_link": true
    },
    "kernelspec": {
      "display_name": "Python 3",
      "name": "python3"
    },
    "accelerator": "GPU"
  },
  "cells": [
    {
      "cell_type": "markdown",
      "metadata": {
        "id": "view-in-github",
        "colab_type": "text"
      },
      "source": [
        "<a href=\"https://colab.research.google.com/github/Vikadie/AI-repo/blob/master/%D0%9A%D0%BE%D0%BF%D0%B8%D0%B5_%D0%BD%D0%B0_Final_project_Vikadie_NER_and_Entity_Linking_in_legal_documents_in_Bulgarian_language.ipynb\" target=\"_parent\"><img src=\"https://colab.research.google.com/assets/colab-badge.svg\" alt=\"Open In Colab\"/></a>"
      ]
    },
    {
      "cell_type": "code",
      "metadata": {
        "id": "zlsqWrBmYiEz"
      },
      "source": [
        "%matplotlib inline\r\n",
        "# Load the TensorBoard notebook extension\r\n",
        "%load_ext tensorboard"
      ],
      "execution_count": 1,
      "outputs": []
    },
    {
      "cell_type": "code",
      "metadata": {
        "id": "pnhWNKNacJMU"
      },
      "source": [
        "import os\r\n",
        "import re\r\n",
        "from time import time\r\n",
        "import json\r\n",
        "from pprint import pprint\r\n",
        "\r\n",
        "import numpy as np\r\n",
        "import pandas as pd\r\n",
        "import matplotlib.pyplot as plt\r\n",
        "\r\n",
        "from numpy.random import seed"
      ],
      "execution_count": 2,
      "outputs": []
    },
    {
      "cell_type": "code",
      "metadata": {
        "id": "gLfOEgGz-N7w"
      },
      "source": [
        "!pip install -q -U tf-models-official\r\n",
        "!pip install -q -U tensorflow-text"
      ],
      "execution_count": 3,
      "outputs": []
    },
    {
      "cell_type": "code",
      "metadata": {
        "id": "BsaasJH4cY9r"
      },
      "source": [
        "import tensorflow as tf\r\n",
        "\r\n",
        "import tensorflow_hub as hub\r\n",
        "import tensorflow_text as text  # A dependency of the preprocessing model\r\n",
        "\r\n",
        "from official.nlp import bert\r\n",
        "from official.nlp.bert.tokenization import FullTokenizer\r\n",
        "\r\n",
        "tf.get_logger().setLevel('ERROR')"
      ],
      "execution_count": 4,
      "outputs": []
    },
    {
      "cell_type": "code",
      "metadata": {
        "id": "7EH92IYXRwRN",
        "colab": {
          "base_uri": "https://localhost:8080/",
          "height": 35
        },
        "outputId": "3b095a5f-19aa-423b-91bb-4e8196f3f167"
      },
      "source": [
        "tf.__version__"
      ],
      "execution_count": 5,
      "outputs": [
        {
          "output_type": "execute_result",
          "data": {
            "application/vnd.google.colaboratory.intrinsic+json": {
              "type": "string"
            },
            "text/plain": [
              "'2.4.1'"
            ]
          },
          "metadata": {
            "tags": []
          },
          "execution_count": 5
        }
      ]
    },
    {
      "cell_type": "code",
      "metadata": {
        "id": "xh7jhwQhkq90",
        "colab": {
          "base_uri": "https://localhost:8080/"
        },
        "outputId": "3814d377-3f55-471e-c06b-817344091998"
      },
      "source": [
        "# GPU availability test\r\n",
        "gpus = tf.config.list_physical_devices('GPU')\r\n",
        "logical_gpus = tf.config.experimental.list_logical_devices('GPU')\r\n",
        "print(gpus)\r\n",
        "print(len(gpus), \"Physical GPUs,\", len(logical_gpus), \"Logical GPU\")\r\n",
        "tf.debugging.set_log_device_placement(True)  \r\n",
        "# should display on which device the operations are assigned to"
      ],
      "execution_count": 6,
      "outputs": [
        {
          "output_type": "stream",
          "text": [
            "[PhysicalDevice(name='/physical_device:GPU:0', device_type='GPU')]\n",
            "1 Physical GPUs, 1 Logical GPU\n"
          ],
          "name": "stdout"
        }
      ]
    },
    {
      "cell_type": "code",
      "metadata": {
        "id": "t7rhmWFXKizg"
      },
      "source": [
        "# # making it the old way - with tf1 and source from original repo\r\n",
        "# import sys\r\n",
        "\r\n",
        "# !test -d bert_repo || git clone https://github.com/google-research/bert bert_repo\r\n",
        "# if not 'bert_repo' in sys.path:\r\n",
        "#   sys.path += ['bert_repo']\r\n",
        "\r\n",
        "# # import python modules defined by BERT\r\n",
        "# import modeling"
      ],
      "execution_count": 7,
      "outputs": []
    },
    {
      "cell_type": "code",
      "metadata": {
        "id": "0-NtMro9h4Se"
      },
      "source": [
        "from tensorflow.keras.preprocessing.sequence import pad_sequences\r\n",
        "\r\n",
        "from official.nlp import optimization\r\n",
        "\r\n",
        "from official.nlp.optimization import AdamWeightDecay, WarmUp\r\n",
        "from tensorflow_addons.metrics import FBetaScore\r\n",
        "from tensorflow_addons.optimizers import AdamW\r\n",
        "\r\n",
        "from seqeval.metrics import f1_score, classification_report, precision_score, recall_score "
      ],
      "execution_count": 8,
      "outputs": []
    },
    {
      "cell_type": "markdown",
      "metadata": {
        "id": "twPwH61fYk9j"
      },
      "source": [
        "# NER and Entity Linking in unstructured legal documents in Bulgarian language"
      ]
    },
    {
      "cell_type": "markdown",
      "metadata": {
        "id": "otloh6UrcelW"
      },
      "source": [
        "##### Final exam report\r\n",
        "\r\n",
        "*Viktor Belchev - student*\r\n",
        "\r\n",
        "*Deep Learning - Software University*\r\n",
        "\r\n",
        "*February 2021*"
      ]
    },
    {
      "cell_type": "markdown",
      "metadata": {
        "id": "04ZAILvGhvbs"
      },
      "source": [
        "## Abstract"
      ]
    },
    {
      "cell_type": "markdown",
      "metadata": {
        "id": "-rR9jyxPiPpb"
      },
      "source": [
        "In all legal documents there are citations of different laws or other juridical terms often hidden behind some abbreviations. While this aims to make the text shorter and clearer it is mostly causing troubles in understanding and translation to simple language not only to regular persons, but sometimes even lawyers and people with juridical background feel lost. Therefore, it often requires an additional research in the legal litterature. At this stage another problem might occur - the correct decoding of abbreviated terms can become obstacle on top of the the overall understanding of the information."
      ]
    },
    {
      "cell_type": "markdown",
      "metadata": {
        "id": "2SDwDTdFmS0a"
      },
      "source": [
        "In this notebook, I will try to use the modern approach of Deep Learning to create a helpful tool that overcomes these problems. Using the state-of-the-art available models in the field of Natual Language Processing like BERT and an abbreviation list available at this stage, I will try to achieve an acceptable accuracy in this task for Bulgarian language that is known as combination of two different tasks: Named Entity Recognition and Entity Linking. "
      ]
    },
    {
      "cell_type": "markdown",
      "metadata": {
        "id": "KC38oPP9iDuY"
      },
      "source": [
        "## I. Introduction"
      ]
    },
    {
      "cell_type": "markdown",
      "metadata": {
        "id": "HysH52mHqc3n"
      },
      "source": [
        "Generally, in Natural Language Processing (further, NLP) the process of disambiguation of terms is known as Entity Linknig (further, EL), which goes hand in hand with another operation called Named Entity Recognition (further, NER). As explained by Iva Marinova in her **\"Reconstructing NER Corpora: a Case Study on Bulgarian\"** while in the field of Deep Learning \r\n",
        "these two related tasks are considered to be well covered in\r\n",
        "NLP for Germanic, Romance and other language groups,\r\n",
        "they are still under-resourced for the Slavic languages. Unfortunately, she is right..."
      ]
    },
    {
      "cell_type": "markdown",
      "metadata": {
        "id": "Tppf-Tke1evN"
      },
      "source": [
        "The usual order of application of both tasks begins with NER. But what is hidden behind this term..."
      ]
    },
    {
      "cell_type": "markdown",
      "metadata": {
        "id": "Yoh_BX7uu4CJ"
      },
      "source": [
        "The purpose of NER is to tag words in a sentences based on some predefined tags, in order to extract some important information of the sentence, like for instanse names, geographical locations, dates, currency and in my specific case some juridical terms or expressions.\r\n",
        "\r\n",
        "In NER, each word/token in the sentence will get tagged with label, that explains the specific meaning of the token. In that way, humans can analyze the sentence with more details and extract some important information.\r\n",
        "\r\n",
        "There are two popular approaches for NER:\r\n",
        "- \"multi-class classification\" based approach where NER is treated as a multi-class classification process, and we can use some text classification method to label the token.\r\n",
        "- the \"Conditional Random Field (CRF)\" based method labels the token taking context into account, then predicts sequences of labels for sequences of sentence token and gets the most reasonable one using some Rule-based methods.\r\n",
        "\r\n",
        "I will attack the NER problem based on the first approach and using the power of Deep Learning."
      ]
    },
    {
      "cell_type": "markdown",
      "metadata": {
        "id": "zy19WENNgfHb"
      },
      "source": [
        "In NER task the identification of named entity mentions (labels) in texts is often implemented using as preffix a sequence tagger, where each token is labeled with a BIO tag, indicating whether the token begins a named entity (B-), whether it is inside of a named entity (I-), or outside of a named entity (O-). This type of annotation has been proposed for the first time at CoNLL-2003 dataset created for NER (Tjong Kim Sang and De Meulder, 2003). \r\n",
        "\r\n",
        "There are other tag notation types. For instance, each token can be predicted with a tag indicated by B-(begin), I-(inside), E-(end), S-(singleton) of a named entity with its type, or O-(outside) of named entities. In this notebook, I will stick to BIO format of representation for simplicity."
      ]
    },
    {
      "cell_type": "markdown",
      "metadata": {
        "id": "O6VoY4TeHPNa"
      },
      "source": [
        "*Entity linking* can be applied rigth after the NER task is performed althought in some papers on this topic there is proposal to do it in parallel (jointly) for each token, so that each subtask benefits from the partial output of the other subtask, and thus alleviate error propagations that are unavoidable in pipeline settings. \r\n",
        "Generally, EL is the task of mapping words from text (e.g. names of persons, locations and organizations) to entities from the target knowledge base."
      ]
    },
    {
      "cell_type": "markdown",
      "metadata": {
        "id": "Ys1iWamN4a1l"
      },
      "source": [
        "Based on the above this notebook will explore the specificity of the NER system created with respect of the given task in Section II. In Section III. it will focus on the Entity Linking applicable for this case. In Section IV. I will briefly draw my conclusions and ideas for future work on the topic."
      ]
    },
    {
      "cell_type": "markdown",
      "metadata": {
        "id": "wuNl8XkxiQ5b"
      },
      "source": [
        "## II. NER"
      ]
    },
    {
      "cell_type": "markdown",
      "metadata": {
        "id": "D7Nzf5h0KOdV"
      },
      "source": [
        "Usually, no matter the specific task, Deep Learning models creation is based on big data for training, validation and test. For Bulgarian language generally such data could be available if we start scraping web pages, which is huge amount of work with doubtful outcome in this concrete case. But this is only one side of the hidden obstacles - the effectiveness of the model created for the task is a real challenge on its own. \r\n",
        "\r\n",
        "Luckily, after the publication of the famous paper called \"Attention is all you need\" by Vaswani and the \"appearance\" of *Transformer*, there is a huge advancement in the model creation compared to previous usage of recurrence (RNN), Bidirectional Lont-Short Term Memory units (BiLSTM), convolutions (CNN) and CRF. Transformer utilizes stacked self-attention and pointwise, fully connected layers to build basic blocks for encoder and decoder.  Experiments on various tasks show Transformers to be superior in quality while requiring significantly less time to train.\r\n",
        "\r\n",
        "Based mostly on transformer, it already exists pre-trained models that provide results pretty close to humans on some general tasks. Some of the most used models are ELMo(Embeddings from Language Models), Open AI GPT (Generative Pre-trained Transformer), BERT (Bidirectional Encoder Representations from Transformers)... \r\n",
        "\r\n",
        "It is important to underline that these state-of-the-art models use specific representation of the text, called embeddings. It is usually a *hybrid representation* of text in low dimensional real-valued dense vectors. The *hybrid* in the term is due to the combination of *Word-level* and *Character-level* representation along with some additional features, where each dimensions represents a latent feature. This way it also captures the semantic and syntactic properties of words, but also the <u>context</u> for each word."
      ]
    },
    {
      "cell_type": "markdown",
      "metadata": {
        "id": "_AlIsgqLVaxN"
      },
      "source": [
        "In recent years, the advancements of NLP in general and NER in particular has been greatly influenced by deep transfer learning methods capable of creating contextual representations of words, to the extent that many of the state-of-the-art NER systems mainly differ one from another on the basis of how these contextual representations are created.\r\n",
        "\r\n",
        "Precisely for the fact of using a cross-sentence context, but also with the advantage to be pre-trained on Bulgarian texts, in this notebook, I focus on the recent BERT deep learning models based on self-attention and the transformer architecture. BERT uses a fixed-size window that limits the amount of text that can be input to the model at one time. The model maximum window size, or maximum sequence length, is fixed during pre-training, with 512 wordpieces a common choice. This window fits dozens of typical sentences of input at a time, allowing the inclusion of extensive sentence context but using this maximum size will create another difficulties in terms of memory overflow and speed of the process."
      ]
    },
    {
      "cell_type": "markdown",
      "metadata": {
        "id": "wejQVdKrgiZT"
      },
      "source": [
        "There are many advantages that pushed me towards usage of BERT. To enumerate some, I would say that it provides:\r\n",
        "1. Quicker development\r\n",
        "2. Overcome the problem of creation of specific models/embedding recognizing the Bulgarian language, which is generally complicated task. Instead Bert is already trained in Bulgarian and possess Cyrillic words in its vocabulary. On top of it, it recognises foreign word and sometimes in the Bulgarian text there are expressions in other languages.\r\n",
        "3. State-of-the-art performance (or close to it) - BERT is built on top of a number of clever ideas considered top in NLP community in latest years – including but not limited to Semi-supervised Sequence Learning (by Andrew Dai and Quoc Le), ELMo (by Matthew Peters and researchers from AI2 and UW CSE), ULMFiT (by fast.ai founder Jeremy Howard and Sebastian Ruder), the OpenAI transformer (by OpenAI researchers Radford, Narasimhan, Salimans, and Sutskever), and the Transformer (Vaswani et al).\r\n",
        "\r\n",
        "What also reassured me, was the fact that BERT is one of the preferred models giving the best results in Ilias Chalkidis et al. research on Large-Scale Multi-Label Text Classification (LMTC) in the <u>legal domain</u> (EU legislation)."
      ]
    },
    {
      "cell_type": "markdown",
      "metadata": {
        "id": "iaxZDnSrGtZ0"
      },
      "source": [
        "On the other hand, with this choice there are some disadvantages that comes along:\r\n",
        "1. It is very large. The LARGE version of BERT would provide better results, but unfortunately that would require bigger computational ability and time that using only Google's Colab I won't have.\r\n",
        "2. Even by using the BASE version, it remains slow for fine-tuning.\r\n",
        "3. The multilingual version that I need to use cannot be disitilled - the vocabulary used for fine-tuning of BERT must remain the original one, while the cylliric words inside are only small portion of it.\r\n",
        "4. It uses a specific and a bit complicated jargon (domain-specific language), meaning that the tokenization with BERT should be done only with BERT Tokenizer.\r\n",
        "\r\n",
        "The last two disadvantages represent in fact the specifity and maybe the strength of BERT. Its vocabulary is indeed fixed, but it has the capability to break down the unknown words into subwords and creates a token out of each subword (if subword exists in the vocabulary). In case the subword do not exist in the vocabulary it can continue spliting it into subwords down to a character level. To recognize the subword it prepends it with \"##\" flag, except for the first subword.\r\n",
        "\r\n",
        "On its turn the subword split would create a problem with labeling. Generally, in the dataset each word is tagged. If an unknown for BERT tokenizer word is splitted to subwords, a specific tag should be used for it, that would indicate that the tag valid for this word (the initial whole word) would be the one given to the first subword (original word) and for the rest a specific tag or same tag should be assigned. I would choose to use specific tag for each subord after the first one, since otherwise in some case there is a risk of breaking the BIO tag logic."
      ]
    },
    {
      "cell_type": "markdown",
      "metadata": {
        "id": "t3Z6ezlroorO"
      },
      "source": [
        "### Dataset creation"
      ]
    },
    {
      "cell_type": "markdown",
      "metadata": {
        "id": "8wzBDQNrAdGS"
      },
      "source": [
        "Before getting to the problem of tags given to subwords, I need a dataset, big enough, that can be used to fine-tune the BERT model. This dataset should implement the following requirements:\r\n",
        "   - it must be created for a NER task;\r\n",
        "   - it must be in Bulgarian;\r\n",
        "   - it must contain special annotations (tags) for recognition of legal expressions;\r\n",
        "   - it must be big enough to train deep network model;\r\n",
        "   - ideally I should have a train, validation and test datasets.\r\n",
        "\r\n",
        "Well, the first four requirements need to be mandatory fulfilled. After all if the dataset is big enough there are ways and methods to make a consise split for train, validation and test datasets. \r\n",
        "\r\n",
        "But it is hard task to implement all four requirements. In fact, I was not able to find such dataset on Internet. Luckily, there is one dataset recently created for NER task, which was in Bulgarian - the dataset done by Iva Marinova et al. pesented in May 2020. The dataset is available at https://github.com/usmiva/bg-ner. Using it, I could cover half of the requirements for my task. Unfortunately, as it was not created for utilization on legal texts, there wasn't specific tag for legal phrases inside. On the opposite, it was created for annotation of locations, personal names etc. Still, it was the best I could find. I need dataset big enough to be able to train a DL model. Therefore, I decided to use it as a base, a starting point, and add to it the required information covering the legal part gathered by me."
      ]
    },
    {
      "cell_type": "markdown",
      "metadata": {
        "id": "swqEl2ZSDprp"
      },
      "source": [
        "But before start adding information, let me reveal what and how is implemented in the found dataset, in order to decide at what level it really suits me, the consequences of this choice and how to add the missing information.\r\n",
        "\r\n",
        "This original Bulgarian corpus consists of 916 text files extracted from various news websites. The training dataset contains information on two topics – Brexit and the trial of the Pakistani Christian Asia Bibi, accused of blasphemy, while the main subjects for the test data are the Nord Stream 2 project and the recent developments in RyanAir’s business history.\r\n",
        "\r\n",
        "The type of annotation used inside followed the format used for the first time at CoNLL-2003. It used only the first and the last column (ommitting the part-of-speech tag and the synctatic chunk tag) - meaning that the input files were segmented into sentences and tokens per line (first column), and each token was combined with its corresponding Named Entity tag (the second column). The NE tags were of type person (PER), organization (ORG), location (LOC), product (PRO), and event (EVT) and each of them had a prefix using the BIO format. As decided to base the learning of a model on this dataset, it seems these tags will learnt and recognised by this model as well. From one side it will be complication of the task, but it will allow the comparison with existing systems from the other, at least on these tasks. \r\n",
        "\r\n",
        "Like in most NER tasks, in these files all \"NEs are considered to be non-recursive, non- overlapping, and whenever one NE is embedded in another NE, only the top-most entity is annotated\"."
      ]
    },
    {
      "cell_type": "markdown",
      "metadata": {
        "id": "hLkW9vyiDgi8"
      },
      "source": [
        "The 2 files available for download were text files (.txt) - one train file with 220 700 lines and one test file with ~65 000 lines.\r\n",
        "\r\n",
        "Well, armed with this information, it was obvious that the missing part was for legal expressions, thus missing tag for them as well. I decided that I could simply add a NE tag LAW. After a quick review there were only few words that could match this new tag in the existing dataset.\r\n",
        "\r\n",
        "Therefore, I added to the training file 117 documents taken from the \"Decision Register\" of [The Administrative Court of Sofia City (ASCS)](http://www.admincourtsofia.bg/Default.aspx?alias=www.admincourtsofia.bg/en) representing  the first 5 working days of year 2021 (from 4.01 to 8.01.2021). Each of these document was transformed to plain text, the sentences containing legal mentions were extracted and transformed in a file following the format of the original dataset using a simple Python script. The tag were then manually reviewed and annotated as correctly as possible not forgeting the initially available tags for person, organization etc. with the BIO prefixes.\r\n",
        "\r\n",
        "In that way the train document grew up to 347 642 lines. \r\n",
        "\r\n",
        "The original test document was splitted in two - one for validation and one for test datasets. 40 documents  from the same source (court decisions published from 11.01.2021) were annotated and splitted the same way it was done for the train part. With that operation the validation file consisted of 56 880 lines and the test file of 56 908 lines.\r\n",
        "\r\n",
        "Thus, the ratio train vs. validation was assured to be at the reasonable 84% / 14% level (or 76%/12%/12% for train/validation/test split)."
      ]
    },
    {
      "cell_type": "markdown",
      "metadata": {
        "id": "CWe3li-eK799"
      },
      "source": [
        "### Selecting and loading the model"
      ]
    },
    {
      "cell_type": "markdown",
      "metadata": {
        "id": "CYUn2cXa7AN5"
      },
      "source": [
        "First, I need to upload the BERT model. Unfortunately, there are many light version of BERT created, but I couldn't find any of these ligther versions appropriate for my case. So, the choosen model by me is:\r\n",
        "- the BERT Multilanguage version (in order to have a pre-trained model that has already seen Bulgarian language and Cyrillic words are part of it vocabulary);\r\n",
        "- the Cased version, where the capital letters matter to the model;\r\n",
        "- BASE version, as using the LARGE model would take too many ressources for training without such significal improvement in the outcome."
      ]
    },
    {
      "cell_type": "markdown",
      "metadata": {
        "id": "jIbmx1xC8ZtW"
      },
      "source": [
        "When using BERT one must be aware that the tokenization with BERT should be done only with BERT Tokenizer. There are also other mandatory requirement for the fine-tunning of BERT - used vocabulary should be exactly the original of the pre-trained model."
      ]
    },
    {
      "cell_type": "markdown",
      "metadata": {
        "id": "YEK3vN_X-J5m"
      },
      "source": [
        "There are many ways to upload the BERT model, but in TensorFlow there are two easy ways.\r\n",
        "\r\n",
        "The first one is by loading the model from TensoFlow Hub. This option provides several advantages, like: \r\n",
        "- easy switch between different models (in case for some reason there is a decision to switch to some other pre-trained model); \r\n",
        "- easy adoption of preprocessing module that can automatically transform an input in the required by BERT inputs. It is an advantage that most probably I will be unable to use.\r\n",
        "\r\n",
        "The selection depends on the choosen model name, placed here in the `bert_model_name` variable:"
      ]
    },
    {
      "cell_type": "code",
      "metadata": {
        "id": "L5JEjEGAu0ES",
        "colab": {
          "base_uri": "https://localhost:8080/"
        },
        "outputId": "42a5e1e1-c9a1-4e4e-9f33-3d387f2a4b49"
      },
      "source": [
        "\r\n",
        "bert_model_name = 'bert_multi_cased_L-12_H-768_A-12' \r\n",
        "map_name_to_handle = {'bert_multi_cased_L-12_H-768_A-12':\r\n",
        "        'https://tfhub.dev/tensorflow/bert_multi_cased_L-12_H-768_A-12/3'}\r\n",
        "\r\n",
        "map_model_to_preprocess = {'bert_multi_cased_L-12_H-768_A-12':\r\n",
        "        'https://tfhub.dev/tensorflow/bert_multi_cased_preprocess/3',}\r\n",
        "\r\n",
        "tfhub_handle_encoder = map_name_to_handle[bert_model_name]\r\n",
        "tfhub_handle_preprocess = map_model_to_preprocess[bert_model_name]\r\n",
        "\r\n",
        "print(f'BERT model selected           : {tfhub_handle_encoder}')\r\n",
        "print(f'Preprocessing model auto-selected: {tfhub_handle_preprocess}')"
      ],
      "execution_count": 9,
      "outputs": [
        {
          "output_type": "stream",
          "text": [
            "BERT model selected           : https://tfhub.dev/tensorflow/bert_multi_cased_L-12_H-768_A-12/3\n",
            "Preprocessing model auto-selected: https://tfhub.dev/tensorflow/bert_multi_cased_preprocess/3\n"
          ],
          "name": "stdout"
        }
      ]
    },
    {
      "cell_type": "markdown",
      "metadata": {
        "id": "c2tr-98HIFgn"
      },
      "source": [
        "As said above to fine-tune a pre-trained model, exactly the same tokenization, vocabulary and index mapping should be used. By using TensoFlow Hub there is the advantage of having its incorporated \"pre-processing\" procedure based on which it can automatically load the required preprocessing model.\r\n",
        "\r\n",
        "This model can be loaded directly into a layer provided via `tensorflow hub` [hub.KerasLayer](https://www.tensorflow.org/hub/api_docs/python/hub/KerasLayer) to compose a fine-tuned model."
      ]
    },
    {
      "cell_type": "code",
      "metadata": {
        "id": "P3YV-TZVv12B",
        "colab": {
          "base_uri": "https://localhost:8080/"
        },
        "outputId": "8f88372c-6e44-4dee-c411-32b86c8a81b2"
      },
      "source": [
        "bert_preprocess_model = hub.KerasLayer(tfhub_handle_preprocess)\r\n",
        "tok = bert_preprocess_model(['Hello TensorFlow!'])\r\n",
        "print(f'Keys       : {list(tok.keys())}')\r\n",
        "print(f'Shape      : {tok[\"input_word_ids\"].shape}')\r\n",
        "print(f'Word Ids   : {tok[\"input_word_ids\"][0, :12]}')\r\n",
        "print(f'Input Mask : {tok[\"input_mask\"][0, :12]}')\r\n",
        "print(f'Type Ids   : {tok[\"input_type_ids\"][0, :12]}')"
      ],
      "execution_count": 10,
      "outputs": [
        {
          "output_type": "stream",
          "text": [
            "Keys       : ['input_word_ids', 'input_mask', 'input_type_ids']\n",
            "Shape      : (1, 128)\n",
            "Word Ids   : [  101 31178 16411 28919 11565 27863   106   102     0     0     0     0]\n",
            "Input Mask : [1 1 1 1 1 1 1 1 0 0 0 0]\n",
            "Type Ids   : [0 0 0 0 0 0 0 0 0 0 0 0]\n"
          ],
          "name": "stdout"
        }
      ]
    },
    {
      "cell_type": "markdown",
      "metadata": {
        "id": "-F_Uo8gbABzC"
      },
      "source": [
        "On the other hand, there is an option to load the specific tokenizer, but the one proposed by `tensorflow hub` outputs a ragged tensor as input:"
      ]
    },
    {
      "cell_type": "code",
      "metadata": {
        "id": "vx2z_kK791MC",
        "colab": {
          "base_uri": "https://localhost:8080/"
        },
        "outputId": "b1054925-49e8-4788-d5d5-fdd81b808e76"
      },
      "source": [
        "tokenizer = hub.load(tfhub_handle_preprocess)\r\n",
        "tokenized = tokenizer.tokenize(['Hello TensorFlow!'])\r\n",
        "print(tokenized)"
      ],
      "execution_count": 11,
      "outputs": [
        {
          "output_type": "stream",
          "text": [
            "<tf.RaggedTensor [[[31178], [16411, 28919, 11565, 27863], [106]]]>\n"
          ],
          "name": "stdout"
        }
      ]
    },
    {
      "cell_type": "markdown",
      "metadata": {
        "id": "76rmrViBJQ-4"
      },
      "source": [
        "After loading it, either using the layer option, either via `bert_pack_inputs` and conducting a trial on a brief sentence, it is visible that it outputs a dictionary containing all the three mandatory inputs: *'input_word_ids', 'input_mask'* and *'input_type_ids'*. It seems this is the required by hub model input.\r\n",
        "\r\n",
        "It is important to note also that the input is truncated to 128 tokens. The number of tokens can be customized by using the `bert_pack_inputs`. Also, to the `input_word_ids` we can see automatical append of other required tags at the beginning and at the end of the sentence. Further details for those tags and their respective ids, I will provide while reading my datasets. It is interesting to note as well that the `input_type_ids` have only zeros (0). It is an input required for multi-sentence tasks. NER is a single sentence input. For other tasks where there are multiple sentence input, it would have one number for each input."
      ]
    },
    {
      "cell_type": "markdown",
      "metadata": {
        "id": "Xdgt-TIN9eDV"
      },
      "source": [
        "This \"preprocessing\" model simplifies a lot the work required by the model, but <u>unfortunately, along with the pre-process of the 'attribute' part, in NER task I have to make the appropriate transformations on the 'label' part as well</u>.\r\n",
        "\r\n",
        "This is what led me to the second possibility, which consists in downloading the required version to a directory from where it can be directly loaded. It can be done with few line of codes.\r\n",
        "\r\n",
        "I did that in my Google Disk drive:"
      ]
    },
    {
      "cell_type": "code",
      "metadata": {
        "id": "3EjrcRxhryqy",
        "colab": {
          "base_uri": "https://localhost:8080/"
        },
        "outputId": "6edaa020-6599-4698-c5cd-78d3bfc126ab"
      },
      "source": [
        "gs_folder_bert = '/content/drive/MyDrive/Colab Notebooks/bert_model/'\r\n",
        "\r\n",
        "tf.io.gfile.listdir(gs_folder_bert)"
      ],
      "execution_count": 12,
      "outputs": [
        {
          "output_type": "execute_result",
          "data": {
            "text/plain": [
              "['.ipynb_checkpoints',\n",
              " 'bert_model.ckpt.data-00000-of-00001',\n",
              " 'bert_config.json',\n",
              " 'bert_model.ckpt.index',\n",
              " 'bert_model.ckpt.meta',\n",
              " 'vocab.txt']"
            ]
          },
          "metadata": {
            "tags": []
          },
          "execution_count": 12
        }
      ]
    },
    {
      "cell_type": "markdown",
      "metadata": {
        "id": "7EmNuM7yNQcL"
      },
      "source": [
        "The original function `FullTokenizer` taken from the `official.nlp` module used to create a tokenizer can perfectly serve the purpose I need. To prepare it, it needs the vocabulary file, as well as setting the parameter `do_lower_case` to `False`."
      ]
    },
    {
      "cell_type": "code",
      "metadata": {
        "id": "5IGZmswUrlNG",
        "colab": {
          "base_uri": "https://localhost:8080/"
        },
        "outputId": "e346f516-7012-40b9-acf1-5f9ddcf9a99f"
      },
      "source": [
        "# Set up tokenizer to generate Tensorflow dataset\r\n",
        "tokenizer = FullTokenizer(\r\n",
        "    vocab_file=os.path.join(gs_folder_bert, \"vocab.txt\"),\r\n",
        "     do_lower_case=False)\r\n",
        "\r\n",
        "print(\"Vocab size:\", len(tokenizer.vocab))"
      ],
      "execution_count": 13,
      "outputs": [
        {
          "output_type": "stream",
          "text": [
            "Vocab size: 119547\n"
          ],
          "name": "stdout"
        }
      ]
    },
    {
      "cell_type": "markdown",
      "metadata": {
        "id": "E1m8OeaD-uCx"
      },
      "source": [
        "I can use the same example as above (a simple sentence) that is transformed to a simply Python list just to see with my proper eyes that the upper case matters to the tokenizer as well:"
      ]
    },
    {
      "cell_type": "code",
      "metadata": {
        "id": "WOIr3_1n-tm_",
        "colab": {
          "base_uri": "https://localhost:8080/"
        },
        "outputId": "fe7a93f5-38c9-4474-ed11-f8a9e35afbda"
      },
      "source": [
        "tokens = tokenizer.tokenize(\"Hello TensorFlow!\")\r\n",
        "print(tokens)\r\n",
        "ids = tokenizer.convert_tokens_to_ids(tokens)\r\n",
        "print(ids)"
      ],
      "execution_count": 14,
      "outputs": [
        {
          "output_type": "stream",
          "text": [
            "['Hello', 'Ten', '##sor', '##F', '##low', '!']\n",
            "[31178, 16411, 28919, 11565, 27863, 106]\n"
          ],
          "name": "stdout"
        }
      ]
    },
    {
      "cell_type": "markdown",
      "metadata": {
        "id": "nZKkmEPELVIp"
      },
      "source": [
        "Now, it is easy to verify that the ids given to the same words corresponds one-to-one to the ids provided by `tensorflow hub`'s  `preprocess_model`."
      ]
    },
    {
      "cell_type": "markdown",
      "metadata": {
        "id": "hQYKlNarASK5"
      },
      "source": [
        "### Constants"
      ]
    },
    {
      "cell_type": "markdown",
      "metadata": {
        "id": "PeOafYlWM1LY"
      },
      "source": [
        "I will position the \"*Constants*\" section here as some of the constants will be used in the next sections soon. As things progress I will add below all *constant values* that I will use further in the notebook with some explanation as well."
      ]
    },
    {
      "cell_type": "code",
      "metadata": {
        "id": "wez32z_oIU4-"
      },
      "source": [
        "EPOCHS = 3  # Total number of training epochs to perform\r\n",
        "MAX_SEQ_LENGTH = 256  # the length of the biggest sentence\r\n",
        "BATCH_SIZE = 16  # Total batch size for training.\r\n",
        "LEARNING_RATE = 1e-4  # 5e-5  # The initial learning rate for Adam.\r\n",
        "WARM_UP_PROPORTION = 0.1  # Proportion of training to perform linear learning rate warmup for. e.g., 0.1 = 10% of training.\r\n",
        "WEIGHT_DECAY = 0.01  # Weight decay if we apply some\r\n",
        "ADAM_EPSILON = 0.01  # Epsilon for AdamW optimizer\r\n",
        "SEED = seed(42)  # will be used for local seed\r\n",
        "tf.random.set_seed(42)  # sets the global seed\r\n",
        "AUTOTUNE = tf.data.AUTOTUNE  # used to tune the number of elements to prefetch "
      ],
      "execution_count": 15,
      "outputs": []
    },
    {
      "cell_type": "markdown",
      "metadata": {
        "id": "d_iment_7NcZ"
      },
      "source": [
        "The `EPOCHS`'s number is decided by me. It is small number since fine-tuning a model generally requires few trainings epochs. Initially I started with two epochs that I increased to three as more suitable for my project, according to me.\r\n",
        "\r\n",
        "As \"prescribed\" on the official [GitHub page of BERT](https://github.com/google-research/bert) in order to avoid any out-of-memory issues when using BERT model `MAX_SEQ_LENGTH` should be up to `512`. Having in mind the numerous splits of the specific `tokenizer` of BERT and the maximum tokens length found during the creation of the dataset, I fix the maximum sequence length to `256`. It might not be enough as we have additional split of words to subwords due to BERT specificity, but making it bigger will require too much memory and will decrease the speed of the process. In the case of maximum sequence set on `256`, the benchmark for the `BATCH_SIZE` found in the same documentation is `16`.\r\n",
        "\r\n",
        "For the initial learning rate (`LEARNING_RATE`), in line with the BERT paper, it should be smaller for fine-tuning (best of `5e-5`, `3e-5`, `2e-5`). I used initially `5e-5`, but I doubled it afterwords when trying to tune this hyperparameter. \r\n",
        "\r\n",
        "During the BERT pre-training, the learning rate is a linear warm-up phase over the first `10% of training steps`, meaning the the `WARM-UP PROPOTION` should be set the same. \r\n",
        "\r\n",
        "As I used `prefetch` method for the dataset, there should be a constant provided to it. This constant should be equal to (or possibly greater than) the number of batches consumed by a single training step. It can be manually set or it can be set to `tf.data.AUTOTUNE` which changes its value dynamically runtime."
      ]
    },
    {
      "cell_type": "code",
      "metadata": {
        "id": "n1vPizjArq0k",
        "colab": {
          "base_uri": "https://localhost:8080/"
        },
        "outputId": "ca85c251-db31-4e3c-f185-3e5bbb45eca6"
      },
      "source": [
        "label_list = [\"O\", \"X\", \"B-LAW\", \"I-LAW\", \"B-PER\", \"I-PER\", \"B-ORG\", \"I-ORG\", \r\n",
        "              \"B-LOC\", \"I-LOC\", \"B-PRO\", \"I-PRO\", \"B-EVT\", \"I-EVT\", \"[CLS]\", \"[SEP]\"]\r\n",
        "\r\n",
        "label_map = {label: i for i, label in enumerate(label_list, 1)}\r\n",
        "\r\n",
        "decode_label_map = {i: label for label, i in label_map.items()}\r\n",
        "\r\n",
        "# defining another constant from label_list: NUMBER OF OUTPUTS/CLASSES or OUT_UNITS\r\n",
        "OUT_UNITS = len(label_list) + 1\r\n",
        "OUT_UNITS"
      ],
      "execution_count": 16,
      "outputs": [
        {
          "output_type": "execute_result",
          "data": {
            "text/plain": [
              "17"
            ]
          },
          "metadata": {
            "tags": []
          },
          "execution_count": 16
        }
      ]
    },
    {
      "cell_type": "markdown",
      "metadata": {
        "id": "rekNui_0ewjR"
      },
      "source": [
        "Another really important constant to be set is the number of classes, or the number of units that the model should output (`OUT_UNITS`). This constant depends on the number of possible tags, used in the train/validation/test datasets. To this number I decided to keep '0' (zero) for the padding, meaning that the classes should be increased by 1.\r\n",
        "\r\n",
        "Along with enumerating the possible tags, as the model should preferably be fueled by numbers only, I use a dictionary `label_map` mapping all the tags with their respective position in the initial list. Padding should not play a role here, so the dictionairy should be build starting from '1'.\r\n",
        "\r\n",
        "In order to translate back the encoding that uses `label_map`, it needs a `decode_label_map` parameter, that is just a reverse position of dictionarie's keys and values."
      ]
    },
    {
      "cell_type": "code",
      "metadata": {
        "id": "fcBJvNrkjCpq",
        "colab": {
          "base_uri": "https://localhost:8080/"
        },
        "outputId": "d5649484-d014-435e-861f-a2b93992b02f"
      },
      "source": [
        "decode_label_map"
      ],
      "execution_count": 17,
      "outputs": [
        {
          "output_type": "execute_result",
          "data": {
            "text/plain": [
              "{1: 'O',\n",
              " 2: 'X',\n",
              " 3: 'B-LAW',\n",
              " 4: 'I-LAW',\n",
              " 5: 'B-PER',\n",
              " 6: 'I-PER',\n",
              " 7: 'B-ORG',\n",
              " 8: 'I-ORG',\n",
              " 9: 'B-LOC',\n",
              " 10: 'I-LOC',\n",
              " 11: 'B-PRO',\n",
              " 12: 'I-PRO',\n",
              " 13: 'B-EVT',\n",
              " 14: 'I-EVT',\n",
              " 15: '[CLS]',\n",
              " 16: '[SEP]'}"
            ]
          },
          "metadata": {
            "tags": []
          },
          "execution_count": 17
        }
      ]
    },
    {
      "cell_type": "markdown",
      "metadata": {
        "id": "XYRJWwDf_XSD"
      },
      "source": [
        "### Reading the datasets"
      ]
    },
    {
      "cell_type": "markdown",
      "metadata": {
        "id": "dTlgRkwlLEog"
      },
      "source": [
        "After loading the model, it is time to read the documents in order to prepare the train, validation and test datasets. For that, first I need to create a function (`read_data`) that will read the data sentence by sentence. The output will be transformed afterwords to features using another function(`convert_to_features`)."
      ]
    },
    {
      "cell_type": "code",
      "metadata": {
        "id": "YIiGhmobLjeD"
      },
      "source": [
        "def read_data(filename):\r\n",
        "  \"\"\"\"reading the file and returning for each sentence a tuple of \r\n",
        "  a list of attributes and a list of corresponding labels\r\n",
        "  \r\n",
        "  side-effects: printing the full path to the file\r\n",
        "                printing the number of sentences inside the set\r\n",
        "                printing the size of longest sentence of the set\r\n",
        "  \"\"\"\r\n",
        "  data, sentence, label = [], [], []\r\n",
        "  num_sentense, longest_sentence_length = 0, 0\r\n",
        "  sen = ''\r\n",
        "  with open(filename, 'r', encoding='utf-8') as f:\r\n",
        "    for line in f:\r\n",
        "      if len(line) == 0 or line[0] == '\\n':\r\n",
        "        if len(sentence) > 0:\r\n",
        "          data.append((sentence, label))\r\n",
        "          if len(sentence) > longest_sentence_length:\r\n",
        "            longest_sentence_length = len(sentence)\r\n",
        "            sen = sentence\r\n",
        "          sentence, label = [], []\r\n",
        "          num_sentense += 1\r\n",
        "        continue\r\n",
        "      word, lab = line.rstrip('\\n').split('\\t')\r\n",
        "      sentence.append(word)\r\n",
        "      label.append(lab)\r\n",
        "\r\n",
        "    if len(sentence) > 0:\r\n",
        "      data.append((sentence, label))\r\n",
        "      num_sentense += 1\r\n",
        "      if len(sentence) > longest_sentence_length:\r\n",
        "            longest_sentence_length = len(sentence)\r\n",
        "\r\n",
        "    print(\"Full path to the filename:\", filename)\r\n",
        "    print(\"Number of sentences:\", num_sentense)\r\n",
        "    print(\"Maximum token lenght of a sentence:\", longest_sentence_length)\r\n",
        "  return data  # [tuple(attributes, labels)]"
      ],
      "execution_count": 18,
      "outputs": []
    },
    {
      "cell_type": "markdown",
      "metadata": {
        "id": "41QFFFxmQYAC"
      },
      "source": [
        "For all the functions used in this section I will conduct visualization tests using the validation dataset."
      ]
    },
    {
      "cell_type": "code",
      "metadata": {
        "id": "1QzJIUSeQL4o",
        "colab": {
          "base_uri": "https://localhost:8080/"
        },
        "outputId": "8e0a916f-b171-4e73-ac35-061d4590c3a0"
      },
      "source": [
        "path = '/content/drive/MyDrive/Colab Notebooks/data/'\r\n",
        "\r\n",
        "val_file = os.path.join(path, 'val_NER_BG.txt')\r\n",
        "\r\n",
        "val_read_data = read_data(val_file)\r\n",
        "\r\n",
        "# printing of the first 5 values\r\n",
        "for sen, lab in val_read_data[:5]:\r\n",
        "  print(f'\\n{sen}\\n{lab}')  "
      ],
      "execution_count": 19,
      "outputs": [
        {
          "output_type": "stream",
          "text": [
            "Full path to the filename: /content/drive/MyDrive/Colab Notebooks/data/val_NER_BG.txt\n",
            "Number of sentences: 1695\n",
            "Maximum token lenght of a sentence: 240\n",
            "\n",
            "['Газопроводът', 'Северен', 'поток', '2', ',', 'който', 'по', 'план', 'ще', 'пренася', 'ежегодно', '55', 'милиарда', 'кубични', 'метра', 'природен', 'газ', 'от', 'Русия', 'към', 'ЕС', 'през', 'Балтийско', 'море', ',', 'вече', 'бе', 'одобрен', 'от', 'Германия', 'и', 'Финландия', '.']\n",
            "['O', 'B-PRO', 'I-PRO', 'I-PRO', 'O', 'O', 'O', 'O', 'O', 'O', 'O', 'O', 'O', 'O', 'O', 'O', 'O', 'O', 'B-LOC', 'O', 'B-ORG', 'O', 'B-LOC', 'I-LOC', 'O', 'O', 'O', 'O', 'O', 'B-LOC', 'O', 'B-LOC', 'O']\n",
            "\n",
            "['САЩ', ',', 'в', 'отговор', 'заявиха', ',', 'че', 'тръбопроводът', 'ще', 'повиши', 'зависимостта', 'на', 'Европа', 'от', 'руския', 'газ', '.']\n",
            "['B-LOC', 'O', 'O', 'O', 'O', 'O', 'O', 'O', 'O', 'O', 'O', 'O', 'B-LOC', 'O', 'O', 'O', 'O']\n",
            "\n",
            "['Списание', '\"', 'Foreign', 'policy', '\"', 'цитира', 'три', 'източника', 'близки', 'до', 'въпроса', ',', 'които', 'твърдят', 'че', 'администрацията', 'на', 'САЩ', 'е', 'близо', 'до', 'налагането', 'на', 'санкции', 'върху', 'енергийни', 'компании', 'от', 'Германия', 'и', 'други', 'държави', 'от', 'ЕС', ',', 'които', 'са', 'замесени', 'в', 'изграждането', 'на', 'проекта', 'за', 'руски', 'газов', 'тръбопровод', 'Северен', 'поток', '2', '.']\n",
            "['O', 'O', 'B-PRO', 'I-PRO', 'O', 'O', 'O', 'O', 'O', 'O', 'O', 'O', 'O', 'O', 'O', 'O', 'O', 'B-LOC', 'O', 'O', 'O', 'O', 'O', 'O', 'O', 'O', 'O', 'O', 'B-LOC', 'O', 'O', 'O', 'O', 'B-ORG', 'O', 'O', 'O', 'O', 'O', 'O', 'O', 'O', 'O', 'O', 'O', 'O', 'B-PRO', 'I-PRO', 'I-PRO', 'O']\n",
            "\n",
            "['Ключови', 'фигури', 'в', 'администрацията', 'на', 'президента', 'Доналд', 'Тръмп', ',', 'които', 'виждат', 'санкциите', 'като', '\"', 'много', 'вероятна', 'опция', '\"', ',', 'няма', 'да', 'се', 'спрат', 'пред', 'нищо', ',', 'за_да', 'блокират', 'Северен', 'поток', ',', 'заявява', 'един', 'от', 'източниците', 'на', 'списанието', '.']\n",
            "['O', 'O', 'O', 'O', 'O', 'O', 'B-PER', 'I-PER', 'O', 'O', 'O', 'O', 'O', 'O', 'O', 'O', 'O', 'O', 'O', 'O', 'O', 'O', 'O', 'O', 'O', 'O', 'O', 'O', 'B-PRO', 'I-PRO', 'O', 'O', 'O', 'O', 'O', 'O', 'O', 'O']\n",
            "\n",
            "['Източник', 'от', 'Държавния', 'департамент', 'е', 'заявил', ',', 'че', '\"', 'бяхме', 'ясни', ',', 'че', 'компании', 'работещи', 'в', 'руския', 'енергиен', 'сектор', 'и', 'сектора', 'за', 'износ', 'на', 'тръбопроводи', 'навлизат', 'в', 'бизнес', 'посока', ',', 'която', 'носи', 'опасност', 'от', 'санкции', '\"', '.']\n",
            "['O', 'O', 'B-ORG', 'I-ORG', 'O', 'O', 'O', 'O', 'O', 'O', 'O', 'O', 'O', 'O', 'O', 'O', 'O', 'O', 'O', 'O', 'O', 'O', 'O', 'O', 'O', 'O', 'O', 'O', 'O', 'O', 'O', 'O', 'O', 'O', 'O', 'O', 'O']\n"
          ],
          "name": "stdout"
        }
      ]
    },
    {
      "cell_type": "markdown",
      "metadata": {
        "id": "Gz-kvAiXvsez"
      },
      "source": [
        "In the meantime, this first function `read_data`offers good opportunity to explore the freshly created data regarding the counts of labels. This can be checked quickly using the code below on the data already read for validation dataset:\r\n",
        "```\r\n",
        "d = dict()\r\n",
        "for sen, lab in val_read_data:\r\n",
        "  for label in lab:\r\n",
        "    d[label] = d.get(label, 0) + 1\r\n",
        "```\r\n",
        "Adding to this the data for the train and the test dataset the figures can be summarized in the following table:\r\n",
        "\r\n",
        "| Label   | Validation | Train | Test |\r\n",
        "| :------ | ---------: | ----: | ---: |\r\n",
        "| 'B-EVT':|    5 |  2107|  140\r\n",
        "| 'B-LAW':|   739|  3224|  736\r\n",
        "| 'B-LOC':|   896|  5551| 1017\r\n",
        "| 'B-ORG':|   685|  5511|  707\r\n",
        "| 'B-PER':|   352|  4378|  410\r\n",
        "| 'B-PRO':|   398|  1242|  389\r\n",
        "| 'I-EVT':|    12|   235|   11\r\n",
        "| 'I-LAW':|  5528| 26062| 5842\r\n",
        "| 'I-LOC':|    85|   890|  116\r\n",
        "| 'I-ORG':|   623|  3538|  552\r\n",
        "| 'I-PER':|   351|  3025|  356\r\n",
        "| 'I-PRO':|   534|  1289|  570\r\n",
        "| 'O':    | 42071|265717|42131\r\n",
        "\r\n",
        "It is obvious that I will have to deal with highly imbalanced data - the 'O' tag accounts for approx. 80% of all the tags, 'I-LAW' - around 10% and none of the rest get more than 2%. Compensation of the problems resulting from this will be one of the challenges when training and evaluating the model."
      ]
    },
    {
      "cell_type": "markdown",
      "metadata": {
        "id": "cQYwbtNIpAZp"
      },
      "source": [
        "Keeping this information in mind for further usage, after the initial reading of the data, all these sentences need to be transformed in features that BERT understands using the BERT tokenization.\r\n",
        "\r\n",
        "Tokenizing a sentence is in fact encoding the sentence. There is one special requirement for that tokenization that we saw appearing before when discussing the ids of tokenized word - 2 additional labels must be added to the list of words representing each sentence: `['CLS']` and `['SEP']`. These 2 additional labels are required by BERT. `['CLS']` indicates that we will talk about \"classification problem\", so `['CLS']` token will be put at the beginning of each phrase, and each sentence and its corresponding label list should end with a `['SEP']` - \"separator\" token. Converted to ids they will be presented respectively with `[101]` and `[102]`. This on its turn should be reflected in the label part as well. For that reason it appears in the `label_list` shown in the '*Constants*' section above.\r\n",
        "\r\n",
        "The feature required by BERT, apart from the ids of the tokenized sentence, is the `input mask`. `Input mask` allows the model to cleanly differentiate between content and the padding applied to all the inputs. And padding is required in order to be able to use GPU/TPU. Same padding is indeed applied for the labels as well."
      ]
    },
    {
      "cell_type": "markdown",
      "metadata": {
        "id": "BMjO3d3m8C6H"
      },
      "source": [
        "The most specific part that I will be using here is the creation and consequently usage of the variable `valid_ids`. This variable will be a list which will be responsible for the replication of the logic of subwords to the `label_id` list. As previously said when BERT meets a word that is not available in its *vocabulary*, this word is divided into subwords. Inside `valid_ids` only the first subword's label will be marked as valid, appending '1' to this list. The remaining subwords will have '0' as corresponding `valid_id`. In that way the label becomes \"responsible\" for the whole word. For the remaining subwords, as this will change the length of the tokens, another specific label will be used in the list of labels and consequently in the `label_list` constant. This specific label will be marked as `'X'`. So the id of `'X'` label will be added in the `label_id` list for each subword after the first one.\r\n",
        "\r\n",
        "Let me illustrate this with example taking the word `TensorFlow` from the sentence we used above. Initially, let's say that the corresponding label would be `B-PRO`. The tokenization will divide it in the subwords `['Ten', '##sor', '##F', '##low']`, so the corresponding labels will become `['B-PRO', 'X', 'X', 'X']` and in  the valid ids it will be reflected as `[1, 0, 0, 0]`."
      ]
    },
    {
      "cell_type": "code",
      "metadata": {
        "id": "JgvBm2MZ8Cet",
        "colab": {
          "base_uri": "https://localhost:8080/"
        },
        "outputId": "3be65aba-9d35-4d59-8543-e32d74acf597"
      },
      "source": [
        "print(\"Subwords:\", tokenizer.tokenize(\"TensorFlow\"))\r\n",
        "print(\"Labels:\", ['B-PRO', 'X', 'X', 'X'])\r\n",
        "print(\"Valid_ids:\", [1, 0, 0, 0])"
      ],
      "execution_count": 20,
      "outputs": [
        {
          "output_type": "stream",
          "text": [
            "Subwords: ['Ten', '##sor', '##F', '##low']\n",
            "Labels: ['B-PRO', 'X', 'X', 'X']\n",
            "Valid_ids: [1, 0, 0, 0]\n"
          ],
          "name": "stdout"
        }
      ]
    },
    {
      "cell_type": "markdown",
      "metadata": {
        "id": "TYPC5eub8CuZ"
      },
      "source": [
        "There are different ways to provide all features to the model. Most examples on this topic use dictionnaries, but a simple class will be more easy to deal with when using it further, in order to stack all the lists together."
      ]
    },
    {
      "cell_type": "code",
      "metadata": {
        "id": "KJ5Yflqymacj"
      },
      "source": [
        "class InputFeatures:\r\n",
        "    \"\"\"A single set of features of data.\"\"\"\r\n",
        "\r\n",
        "    def __init__(self, ntokens, input_ids, input_mask, segment_ids, label_id, valid_ids=None, label_mask=None):\r\n",
        "      self.ntokens = ntokens  # only for representatinal purpose\r\n",
        "      self.input_ids = input_ids  # encoded words\r\n",
        "      self.input_mask = input_mask  # mask indicating padding or not\r\n",
        "      self.segment_ids = segment_ids  # we talk about NER task, so the segment_ids will be just '0's\r\n",
        "      self.label_id = label_id  # encoded label\r\n",
        "      self.valid_ids = valid_ids  # when the word is split to subwords, it indicates only the first id as valid '1', next subwords as '0'\r\n",
        "      # self.label_mask = label_mask  # mask indicating padding or not - input_mask can be used as well\r\n"
      ],
      "execution_count": 21,
      "outputs": []
    },
    {
      "cell_type": "code",
      "metadata": {
        "id": "1OvpzX9nmRlD"
      },
      "source": [
        "def convert_to_features(read_data, label_map, tokenizer, max_seq_length=MAX_SEQ_LENGTH):\r\n",
        "    \"\"\"\r\n",
        "    Loads a data file into a list of `InputFeatures`s.\r\n",
        "    Reflects subwords split in `valid_ids` and `label_ids` variables.\r\n",
        "    Applies padding to all features. Stack the features all together.\r\n",
        "    \"\"\"\r\n",
        "\r\n",
        "    features = []  # the list of `InputFeatures` to be returned\r\n",
        "    for line in read_data:\r\n",
        "        textlist = line[0]  # sentence\r\n",
        "        labellist = line[1]  # labels\r\n",
        "        ntokens = []\r\n",
        "        label_ids = []\r\n",
        "        valid_ids = []\r\n",
        "        for i, word in enumerate(textlist):\r\n",
        "            token = tokenizer.tokenize(word)\r\n",
        "            ntokens.extend(token)\r\n",
        "            label_1 = labellist[i]\r\n",
        "            for m in range(len(token)):\r\n",
        "                if m == 0:\r\n",
        "                    label_ids.append(label_map[label_1])\r\n",
        "                    valid_ids.append(1)\r\n",
        "                else:\r\n",
        "                    label_ids.append(label_map[\"X\"])\r\n",
        "                    valid_ids.append(0)\r\n",
        "        \r\n",
        "        # checking if a sentence is longer than max_seq_length, if yes -> cut it\r\n",
        "        if len(ntokens) >= max_seq_length - 1:\r\n",
        "            ntokens = ntokens[0:(max_seq_length - 2)]\r\n",
        "            label_ids = label_ids[:(max_seq_length - 2)]\r\n",
        "            valid_ids = valid_ids[:(max_seq_length - 2)]\r\n",
        "\r\n",
        "        # adding the mandatory ['CLS'] at the beginning\r\n",
        "        ntokens.insert(0, \"[CLS]\")\r\n",
        "        valid_ids.insert(0, 0)\r\n",
        "        label_ids.insert(0, label_map[\"[CLS]\"])\r\n",
        "\r\n",
        "        # adding the mandatory ['SEP'] at the end of each sentence\r\n",
        "        ntokens.append(\"[SEP]\")\r\n",
        "        valid_ids.append(0)\r\n",
        "        label_ids.append(label_map[\"[SEP]\"])\r\n",
        "\r\n",
        "        # transforming `ntokens` to BERT's tokenizer ids\r\n",
        "        input_ids = tokenizer.convert_tokens_to_ids(ntokens)\r\n",
        "        input_mask = [1] * len(input_ids) # creation of input_mask of size input_ids\r\n",
        "\r\n",
        "        # padding\r\n",
        "        input_ids = pad_sequences([input_ids], padding='post', maxlen=max_seq_length)\r\n",
        "        input_mask = pad_sequences([input_mask], padding='post', maxlen=max_seq_length)\r\n",
        "        segment_ids = np.zeros_like(input_mask, dtype='int32')\r\n",
        "        label_ids = pad_sequences([label_ids], padding='post', maxlen=max_seq_length)\r\n",
        "        valid_ids = pad_sequences([valid_ids], padding='post', maxlen=max_seq_length)\r\n",
        "\r\n",
        "        # last check - all lengths should correspond to max_seq_length,\r\n",
        "        # dtype should be 'int32' and of type 'numpy'\r\n",
        "        assert input_ids.shape[1] == max_seq_length\r\n",
        "        assert input_mask.dtype == 'int32'\r\n",
        "        assert segment_ids.dtype == 'int32'\r\n",
        "        assert type(input_mask) == type(segment_ids)\r\n",
        "\r\n",
        "        # adding to the list\r\n",
        "        features.append(\r\n",
        "            InputFeatures(ntokens=ntokens,\r\n",
        "                          input_ids=input_ids,\r\n",
        "                          input_mask=input_mask,\r\n",
        "                          segment_ids=segment_ids,\r\n",
        "                          label_id=label_ids,\r\n",
        "                          valid_ids=valid_ids))\r\n",
        "    return features"
      ],
      "execution_count": 22,
      "outputs": []
    },
    {
      "cell_type": "markdown",
      "metadata": {
        "id": "0MkxTDgvGMqw"
      },
      "source": [
        "Here is an example of the outcome of this function on the first sentence from the validation set."
      ]
    },
    {
      "cell_type": "code",
      "metadata": {
        "id": "nVullaray4sI",
        "colab": {
          "base_uri": "https://localhost:8080/"
        },
        "outputId": "b8590e43-cad8-422c-c58b-99017ed25130"
      },
      "source": [
        "val_features = convert_to_features(read_data=val_read_data, label_map=label_map, max_seq_length=MAX_SEQ_LENGTH, tokenizer=tokenizer)\r\n",
        "\r\n",
        "print(val_features[0])\r\n",
        "print(\"ntokens =\", val_features[0].ntokens)\r\n",
        "print(\"input_ids =\", val_features[0].input_ids)\r\n",
        "print(\"input_mask =\", val_features[0].input_mask)\r\n",
        "print(\"segment_ids =\", val_features[0].segment_ids)\r\n",
        "print(\"label_id =\", val_features[0].label_id)\r\n",
        "print(\"valid_ids =\", val_features[0].valid_ids)"
      ],
      "execution_count": 23,
      "outputs": [
        {
          "output_type": "stream",
          "text": [
            "<__main__.InputFeatures object at 0x7fe151b98588>\n",
            "ntokens = ['[CLS]', 'Г', '##аз', '##оп', '##рово', '##д', '##ът', 'Се', '##вер', '##ен', 'по', '##ток', '2', ',', 'който', 'по', 'план', 'ще', 'пре', '##нася', 'ежегодно', '55', 'ми', '##ли', '##арда', 'к', '##уб', '##ични', 'метра', 'природе', '##н', 'газ', 'от', 'Русия', 'към', 'ЕС', 'през', 'Ба', '##лт', '##ий', '##ско', 'море', ',', 'вече', 'б', '##е', 'од', '##об', '##рен', 'от', 'Германия', 'и', 'Ф', '##ин', '##ландия', '.', '[SEP]']\n",
            "input_ids = [[   101    512  26313  58056  55048  10746  13368  52203  32418  10928\n",
            "   10297  20422    123    117  16362  10297  35718  16892  38494  87280\n",
            "   84167  11358  37140  10783  72123    551  40124  53928  41921  93710\n",
            "   10267  44352  10332  13014  15977 109795  12112 101086  33262  11550\n",
            "   13566  27165    117  45721    542  10205  10430  33276  27332  10332\n",
            "   20823    549    529  12029  68103    119    102      0      0      0\n",
            "       0      0      0      0      0      0      0      0      0      0\n",
            "       0      0      0      0      0      0      0      0      0      0\n",
            "       0      0      0      0      0      0      0      0      0      0\n",
            "       0      0      0      0      0      0      0      0      0      0\n",
            "       0      0      0      0      0      0      0      0      0      0\n",
            "       0      0      0      0      0      0      0      0      0      0\n",
            "       0      0      0      0      0      0      0      0      0      0\n",
            "       0      0      0      0      0      0      0      0      0      0\n",
            "       0      0      0      0      0      0      0      0      0      0\n",
            "       0      0      0      0      0      0      0      0      0      0\n",
            "       0      0      0      0      0      0      0      0      0      0\n",
            "       0      0      0      0      0      0      0      0      0      0\n",
            "       0      0      0      0      0      0      0      0      0      0\n",
            "       0      0      0      0      0      0      0      0      0      0\n",
            "       0      0      0      0      0      0      0      0      0      0\n",
            "       0      0      0      0      0      0      0      0      0      0\n",
            "       0      0      0      0      0      0      0      0      0      0\n",
            "       0      0      0      0      0      0      0      0      0      0\n",
            "       0      0      0      0      0      0      0      0      0      0\n",
            "       0      0      0      0      0      0]]\n",
            "input_mask = [[1 1 1 1 1 1 1 1 1 1 1 1 1 1 1 1 1 1 1 1 1 1 1 1 1 1 1 1 1 1 1 1 1 1 1 1\n",
            "  1 1 1 1 1 1 1 1 1 1 1 1 1 1 1 1 1 1 1 1 1 0 0 0 0 0 0 0 0 0 0 0 0 0 0 0\n",
            "  0 0 0 0 0 0 0 0 0 0 0 0 0 0 0 0 0 0 0 0 0 0 0 0 0 0 0 0 0 0 0 0 0 0 0 0\n",
            "  0 0 0 0 0 0 0 0 0 0 0 0 0 0 0 0 0 0 0 0 0 0 0 0 0 0 0 0 0 0 0 0 0 0 0 0\n",
            "  0 0 0 0 0 0 0 0 0 0 0 0 0 0 0 0 0 0 0 0 0 0 0 0 0 0 0 0 0 0 0 0 0 0 0 0\n",
            "  0 0 0 0 0 0 0 0 0 0 0 0 0 0 0 0 0 0 0 0 0 0 0 0 0 0 0 0 0 0 0 0 0 0 0 0\n",
            "  0 0 0 0 0 0 0 0 0 0 0 0 0 0 0 0 0 0 0 0 0 0 0 0 0 0 0 0 0 0 0 0 0 0 0 0\n",
            "  0 0 0 0]]\n",
            "segment_ids = [[0 0 0 0 0 0 0 0 0 0 0 0 0 0 0 0 0 0 0 0 0 0 0 0 0 0 0 0 0 0 0 0 0 0 0 0\n",
            "  0 0 0 0 0 0 0 0 0 0 0 0 0 0 0 0 0 0 0 0 0 0 0 0 0 0 0 0 0 0 0 0 0 0 0 0\n",
            "  0 0 0 0 0 0 0 0 0 0 0 0 0 0 0 0 0 0 0 0 0 0 0 0 0 0 0 0 0 0 0 0 0 0 0 0\n",
            "  0 0 0 0 0 0 0 0 0 0 0 0 0 0 0 0 0 0 0 0 0 0 0 0 0 0 0 0 0 0 0 0 0 0 0 0\n",
            "  0 0 0 0 0 0 0 0 0 0 0 0 0 0 0 0 0 0 0 0 0 0 0 0 0 0 0 0 0 0 0 0 0 0 0 0\n",
            "  0 0 0 0 0 0 0 0 0 0 0 0 0 0 0 0 0 0 0 0 0 0 0 0 0 0 0 0 0 0 0 0 0 0 0 0\n",
            "  0 0 0 0 0 0 0 0 0 0 0 0 0 0 0 0 0 0 0 0 0 0 0 0 0 0 0 0 0 0 0 0 0 0 0 0\n",
            "  0 0 0 0]]\n",
            "label_id = [[15  1  2  2  2  2  2 11  2  2 12  2 12  1  1  1  1  1  1  2  1  1  1  2\n",
            "   2  1  2  2  1  1  2  1  1  9  1  7  1  9  2  2  2 10  1  1  1  2  1  2\n",
            "   2  1  9  1  9  2  2  1 16  0  0  0  0  0  0  0  0  0  0  0  0  0  0  0\n",
            "   0  0  0  0  0  0  0  0  0  0  0  0  0  0  0  0  0  0  0  0  0  0  0  0\n",
            "   0  0  0  0  0  0  0  0  0  0  0  0  0  0  0  0  0  0  0  0  0  0  0  0\n",
            "   0  0  0  0  0  0  0  0  0  0  0  0  0  0  0  0  0  0  0  0  0  0  0  0\n",
            "   0  0  0  0  0  0  0  0  0  0  0  0  0  0  0  0  0  0  0  0  0  0  0  0\n",
            "   0  0  0  0  0  0  0  0  0  0  0  0  0  0  0  0  0  0  0  0  0  0  0  0\n",
            "   0  0  0  0  0  0  0  0  0  0  0  0  0  0  0  0  0  0  0  0  0  0  0  0\n",
            "   0  0  0  0  0  0  0  0  0  0  0  0  0  0  0  0  0  0  0  0  0  0  0  0\n",
            "   0  0  0  0  0  0  0  0  0  0  0  0  0  0  0  0]]\n",
            "valid_ids = [[0 1 0 0 0 0 0 1 0 0 1 0 1 1 1 1 1 1 1 0 1 1 1 0 0 1 0 0 1 1 0 1 1 1 1 1\n",
            "  1 1 0 0 0 1 1 1 1 0 1 0 0 1 1 1 1 0 0 1 0 0 0 0 0 0 0 0 0 0 0 0 0 0 0 0\n",
            "  0 0 0 0 0 0 0 0 0 0 0 0 0 0 0 0 0 0 0 0 0 0 0 0 0 0 0 0 0 0 0 0 0 0 0 0\n",
            "  0 0 0 0 0 0 0 0 0 0 0 0 0 0 0 0 0 0 0 0 0 0 0 0 0 0 0 0 0 0 0 0 0 0 0 0\n",
            "  0 0 0 0 0 0 0 0 0 0 0 0 0 0 0 0 0 0 0 0 0 0 0 0 0 0 0 0 0 0 0 0 0 0 0 0\n",
            "  0 0 0 0 0 0 0 0 0 0 0 0 0 0 0 0 0 0 0 0 0 0 0 0 0 0 0 0 0 0 0 0 0 0 0 0\n",
            "  0 0 0 0 0 0 0 0 0 0 0 0 0 0 0 0 0 0 0 0 0 0 0 0 0 0 0 0 0 0 0 0 0 0 0 0\n",
            "  0 0 0 0]]\n"
          ],
          "name": "stdout"
        }
      ]
    },
    {
      "cell_type": "markdown",
      "metadata": {
        "id": "9wOtyK-8Oo6d"
      },
      "source": [
        "As for each sentence and its respective labels there are the required ids and masks, in order to be proceeded by BERT, it should be transformed to acceptable tensors. This will allow also the backed by accelerator memory (like GPU, TPU).\r\n",
        "\r\n",
        "For that I will use the function `tf.data.Dataset.from_tensor_slices()`. But when using the function `pad_sequences` all the padded lists were transformed into features representing list in a list. This is not needed, so only the first element will be used to create the dataset. The transformation into dataset will also allow to apply  `shuffle` and `batch` functions.\r\n",
        "\r\n",
        "As we saw above, the BERT model expects a dictionary with keys *input_word_ids*, *input_mask* and *input_type_ids* to get as input dictionary, so I will use this moment to create this dict using a simple function `model_input_preprocess` for each batch."
      ]
    },
    {
      "cell_type": "code",
      "metadata": {
        "id": "g_4uT_t9nv5O"
      },
      "source": [
        "def model_input_preprocess(input_word_i, input_m, input_type_i):\r\n",
        "  \"\"\"function transforming the required three inputs by the bert model\r\n",
        "  to a single dictionary with the respective key names\"\"\"\r\n",
        "\r\n",
        "  return dict(\r\n",
        "      input_word_ids=input_word_i, \r\n",
        "      input_mask=input_m, \r\n",
        "      input_type_ids=input_type_i,\r\n",
        "  )"
      ],
      "execution_count": 24,
      "outputs": []
    },
    {
      "cell_type": "code",
      "metadata": {
        "id": "9XvCYjc3RJ4x"
      },
      "source": [
        "def transform_to_dataset(features, training_dataset=False):\r\n",
        "  \"\"\"function converting InputFeatures to a Dataset, imitating the pre-process output:\r\n",
        "  1. prefetched, cached, batched (and shuffled) tuples consisting of:\r\n",
        "    - dictionary with keys ['input_word_ids', 'input_mask', 'input_type_ids'] as inputs\r\n",
        "    - respective labels\r\n",
        "    all above tensors the required dtype = 'int32' and size [BATCH_SIZE, MAX_SEQ_LENGTH]\r\n",
        "  2. 'valid_ids' parameter as output - this is additional to the official pre-process output\r\n",
        "  3. with number of features (sentences)\"\"\"\r\n",
        "\r\n",
        "  all_input_ids = tf.data.Dataset.from_tensor_slices(\r\n",
        "      ([f.input_ids[0] for f in features]))\r\n",
        "  all_input_mask = tf.data.Dataset.from_tensor_slices(\r\n",
        "      ([f.input_mask[0] for f in features]))\r\n",
        "  all_segment_ids = tf.data.Dataset.from_tensor_slices(\r\n",
        "      ([f.segment_ids[0] for f in features]))\r\n",
        "  all_valid_ids = tf.convert_to_tensor(\r\n",
        "      [f.valid_ids[0] for f in features])\r\n",
        "  all_label_ids = tf.data.Dataset.from_tensor_slices(\r\n",
        "      ([f.label_id[0] for f in features]))\r\n",
        "\r\n",
        "  # Dataset using tf.data\r\n",
        "  data = tf.data.Dataset.zip(\r\n",
        "      (all_input_ids, all_input_mask, all_segment_ids, all_label_ids ))\r\n",
        "  \r\n",
        "  number_features = len(features)\r\n",
        "\r\n",
        "  if training_dataset:\r\n",
        "      data = data.shuffle(buffer_size=number_features // 10, reshuffle_each_iteration=True)\r\n",
        "\r\n",
        "  batched_data = data.batch(BATCH_SIZE)\r\n",
        "\r\n",
        "  dataset = batched_data.map(lambda input_ids, input_mask, type_ids, label_ids: \r\n",
        "                             (model_input_preprocess(input_ids, input_mask, type_ids),\r\n",
        "                              label_ids)\r\n",
        "                             )\r\n",
        "  dataset = dataset.cache().prefetch(buffer_size = AUTOTUNE)\r\n",
        "\r\n",
        "  return dataset, all_valid_ids, number_features"
      ],
      "execution_count": 25,
      "outputs": []
    },
    {
      "cell_type": "code",
      "metadata": {
        "id": "EKuziyKhTiRa"
      },
      "source": [
        "validation, val_valid_ids, val_num_f = transform_to_dataset(features=val_features)"
      ],
      "execution_count": 26,
      "outputs": []
    },
    {
      "cell_type": "markdown",
      "metadata": {
        "id": "mXdYpyaKjcCZ"
      },
      "source": [
        "Few test lines are always welcome to check the correct transformation of the data. "
      ]
    },
    {
      "cell_type": "code",
      "metadata": {
        "id": "xMdQ3JB3XPWa",
        "colab": {
          "base_uri": "https://localhost:8080/"
        },
        "outputId": "ce34abf6-ac68-4492-c651-a9d79ef7fef8"
      },
      "source": [
        "assert val_num_f == val_valid_ids.shape[0]\r\n",
        "assert validation.__class__.__name__ == 'PrefetchDataset'\r\n",
        "assert next(iter(validation))[0].__class__.__name__ == 'dict'\r\n",
        "validation.element_spec"
      ],
      "execution_count": 27,
      "outputs": [
        {
          "output_type": "execute_result",
          "data": {
            "text/plain": [
              "({'input_mask': TensorSpec(shape=(None, 256), dtype=tf.int32, name=None),\n",
              "  'input_type_ids': TensorSpec(shape=(None, 256), dtype=tf.int32, name=None),\n",
              "  'input_word_ids': TensorSpec(shape=(None, 256), dtype=tf.int32, name=None)},\n",
              " TensorSpec(shape=(None, 256), dtype=tf.int32, name=None))"
            ]
          },
          "metadata": {
            "tags": []
          },
          "execution_count": 27
        }
      ]
    },
    {
      "cell_type": "markdown",
      "metadata": {
        "id": "1hJEx3eiommI"
      },
      "source": [
        "To reassure we can come back easily from here to the original labels without any mistake, instead of unittest I will use the following code for the first 5 sentences of first batch:"
      ]
    },
    {
      "cell_type": "code",
      "metadata": {
        "id": "qRGYg1-VlK68",
        "colab": {
          "base_uri": "https://localhost:8080/"
        },
        "outputId": "88f8b168-76e3-42a5-90f8-2725fce7e269"
      },
      "source": [
        "i = next(iter(validation))\r\n",
        "for num_feature, l in enumerate(i[1]):\r\n",
        "  sen_coded = (tf.boolean_mask(l, val_valid_ids[num_feature]))\r\n",
        "  decoded = []\r\n",
        "  for code in sen_coded.numpy():\r\n",
        "    decoded.append(decode_label_map[code])\r\n",
        "  print(val_read_data[num_feature][0])\r\n",
        "  print(decoded)\r\n",
        "  assert decoded == val_read_data[num_feature][1]\r\n",
        "  if num_feature == 4: break"
      ],
      "execution_count": 28,
      "outputs": [
        {
          "output_type": "stream",
          "text": [
            "['Газопроводът', 'Северен', 'поток', '2', ',', 'който', 'по', 'план', 'ще', 'пренася', 'ежегодно', '55', 'милиарда', 'кубични', 'метра', 'природен', 'газ', 'от', 'Русия', 'към', 'ЕС', 'през', 'Балтийско', 'море', ',', 'вече', 'бе', 'одобрен', 'от', 'Германия', 'и', 'Финландия', '.']\n",
            "['O', 'B-PRO', 'I-PRO', 'I-PRO', 'O', 'O', 'O', 'O', 'O', 'O', 'O', 'O', 'O', 'O', 'O', 'O', 'O', 'O', 'B-LOC', 'O', 'B-ORG', 'O', 'B-LOC', 'I-LOC', 'O', 'O', 'O', 'O', 'O', 'B-LOC', 'O', 'B-LOC', 'O']\n",
            "['САЩ', ',', 'в', 'отговор', 'заявиха', ',', 'че', 'тръбопроводът', 'ще', 'повиши', 'зависимостта', 'на', 'Европа', 'от', 'руския', 'газ', '.']\n",
            "['B-LOC', 'O', 'O', 'O', 'O', 'O', 'O', 'O', 'O', 'O', 'O', 'O', 'B-LOC', 'O', 'O', 'O', 'O']\n",
            "['Списание', '\"', 'Foreign', 'policy', '\"', 'цитира', 'три', 'източника', 'близки', 'до', 'въпроса', ',', 'които', 'твърдят', 'че', 'администрацията', 'на', 'САЩ', 'е', 'близо', 'до', 'налагането', 'на', 'санкции', 'върху', 'енергийни', 'компании', 'от', 'Германия', 'и', 'други', 'държави', 'от', 'ЕС', ',', 'които', 'са', 'замесени', 'в', 'изграждането', 'на', 'проекта', 'за', 'руски', 'газов', 'тръбопровод', 'Северен', 'поток', '2', '.']\n",
            "['O', 'O', 'B-PRO', 'I-PRO', 'O', 'O', 'O', 'O', 'O', 'O', 'O', 'O', 'O', 'O', 'O', 'O', 'O', 'B-LOC', 'O', 'O', 'O', 'O', 'O', 'O', 'O', 'O', 'O', 'O', 'B-LOC', 'O', 'O', 'O', 'O', 'B-ORG', 'O', 'O', 'O', 'O', 'O', 'O', 'O', 'O', 'O', 'O', 'O', 'O', 'B-PRO', 'I-PRO', 'I-PRO', 'O']\n",
            "['Ключови', 'фигури', 'в', 'администрацията', 'на', 'президента', 'Доналд', 'Тръмп', ',', 'които', 'виждат', 'санкциите', 'като', '\"', 'много', 'вероятна', 'опция', '\"', ',', 'няма', 'да', 'се', 'спрат', 'пред', 'нищо', ',', 'за_да', 'блокират', 'Северен', 'поток', ',', 'заявява', 'един', 'от', 'източниците', 'на', 'списанието', '.']\n",
            "['O', 'O', 'O', 'O', 'O', 'O', 'B-PER', 'I-PER', 'O', 'O', 'O', 'O', 'O', 'O', 'O', 'O', 'O', 'O', 'O', 'O', 'O', 'O', 'O', 'O', 'O', 'O', 'O', 'O', 'B-PRO', 'I-PRO', 'O', 'O', 'O', 'O', 'O', 'O', 'O', 'O']\n",
            "['Източник', 'от', 'Държавния', 'департамент', 'е', 'заявил', ',', 'че', '\"', 'бяхме', 'ясни', ',', 'че', 'компании', 'работещи', 'в', 'руския', 'енергиен', 'сектор', 'и', 'сектора', 'за', 'износ', 'на', 'тръбопроводи', 'навлизат', 'в', 'бизнес', 'посока', ',', 'която', 'носи', 'опасност', 'от', 'санкции', '\"', '.']\n",
            "['O', 'O', 'B-ORG', 'I-ORG', 'O', 'O', 'O', 'O', 'O', 'O', 'O', 'O', 'O', 'O', 'O', 'O', 'O', 'O', 'O', 'O', 'O', 'O', 'O', 'O', 'O', 'O', 'O', 'O', 'O', 'O', 'O', 'O', 'O', 'O', 'O', 'O', 'O']\n"
          ],
          "name": "stdout"
        }
      ]
    },
    {
      "cell_type": "markdown",
      "metadata": {
        "id": "6xJdvTsQHSeM"
      },
      "source": [
        "I used the `validation` dataset preparation as example, but I'll need to do the same for the `train` and `test` datasets. For additional simplification I will create a single function that includes all these required transformative functions inside. This function will have the option to output the result of `read_data` function if asked depending on the additional parameter `training`:"
      ]
    },
    {
      "cell_type": "code",
      "metadata": {
        "id": "GYVEfkCqI6rL"
      },
      "source": [
        "def data_preprocess(dataset_type, path, label_map, tokenizer=tokenizer, training=True):\r\n",
        "  \"\"\"\r\n",
        "  function englobelling the customized bert pre-process of data for a NER task\r\n",
        "  params: dataset_type: string with possible dataset_types: 'train', 'val', 'test'\r\n",
        "          path: the directory where the datasets are situated\r\n",
        "          label_map: desired mapping of all the available labels + including '[SEP]' and '[CLS]'\r\n",
        "          training: defaults to True. If False, the function returns the output \r\n",
        "                    of 'readed_data' function as well\r\n",
        "  returns: tuple of zipped dataset and batched dataset\r\n",
        "  \"\"\"\r\n",
        "  filename = f\"{dataset_type}_NER_BG.txt\" \r\n",
        "  \r\n",
        "  file = os.path.join(path, filename)\r\n",
        "\r\n",
        "  read_d = read_data(file)\r\n",
        "\r\n",
        "  features = convert_to_features(read_data=read_d, label_map=label_map, tokenizer=tokenizer)\r\n",
        "\r\n",
        "  training_dataset = True if dataset_type == 'train' else False\r\n",
        "\r\n",
        "  to_return = transform_to_dataset(features=features, training_dataset=training_dataset)\r\n",
        "  if not training:\r\n",
        "      return (read_d, to_return)\r\n",
        "  return to_return"
      ],
      "execution_count": 29,
      "outputs": []
    },
    {
      "cell_type": "code",
      "metadata": {
        "colab": {
          "base_uri": "https://localhost:8080/"
        },
        "id": "8KTHtA2uHf9w",
        "outputId": "a0d4ac7d-91fa-441d-fb92-179eba24a831"
      },
      "source": [
        "# training dataset\r\n",
        "train_data, train_valid_ids, train_size = data_preprocess(dataset_type='train', path=path, label_map=label_map)\r\n",
        "\r\n",
        "# validation dataset\r\n",
        "val_data, val_valid_ids, val_size = data_preprocess(dataset_type='val', path=path, label_map=label_map)\r\n",
        "\r\n",
        "# test dataset\r\n",
        "test_data, test_valid_ids, test_size = data_preprocess(dataset_type='test', path=path, label_map=label_map)"
      ],
      "execution_count": 30,
      "outputs": [
        {
          "output_type": "stream",
          "text": [
            "Full path to the filename: /content/drive/MyDrive/Colab Notebooks/data/train_NER_BG.txt\n",
            "Number of sentences: 8785\n",
            "Maximum token lenght of a sentence: 245\n"
          ],
          "name": "stdout"
        },
        {
          "output_type": "stream",
          "text": [
            "Exception ignored in: <bound method CapturableResourceDeleter.__del__ of <tensorflow.python.training.tracking.tracking.CapturableResourceDeleter object at 0x7fe154c1af98>>\n",
            "Traceback (most recent call last):\n",
            "  File \"/usr/local/lib/python3.6/dist-packages/tensorflow/python/training/tracking/tracking.py\", line 208, in __del__\n",
            "    self._destroy_resource()\n",
            "  File \"/usr/local/lib/python3.6/dist-packages/tensorflow/python/eager/def_function.py\", line 828, in __call__\n",
            "    result = self._call(*args, **kwds)\n",
            "  File \"/usr/local/lib/python3.6/dist-packages/tensorflow/python/eager/def_function.py\", line 871, in _call\n",
            "    self._initialize(args, kwds, add_initializers_to=initializers)\n",
            "  File \"/usr/local/lib/python3.6/dist-packages/tensorflow/python/eager/def_function.py\", line 726, in _initialize\n",
            "    *args, **kwds))\n",
            "  File \"/usr/local/lib/python3.6/dist-packages/tensorflow/python/eager/function.py\", line 2969, in _get_concrete_function_internal_garbage_collected\n",
            "    graph_function, _ = self._maybe_define_function(args, kwargs)\n",
            "  File \"/usr/local/lib/python3.6/dist-packages/tensorflow/python/eager/function.py\", line 3361, in _maybe_define_function\n",
            "    graph_function = self._create_graph_function(args, kwargs)\n",
            "  File \"/usr/local/lib/python3.6/dist-packages/tensorflow/python/eager/function.py\", line 3206, in _create_graph_function\n",
            "    capture_by_value=self._capture_by_value),\n",
            "  File \"/usr/local/lib/python3.6/dist-packages/tensorflow/python/framework/func_graph.py\", line 990, in func_graph_from_py_func\n",
            "    func_outputs = python_func(*func_args, **func_kwargs)\n",
            "  File \"/usr/local/lib/python3.6/dist-packages/tensorflow/python/eager/def_function.py\", line 634, in wrapped_fn\n",
            "    out = weak_wrapped_fn().__wrapped__(*args, **kwds)\n",
            "  File \"/usr/local/lib/python3.6/dist-packages/tensorflow/python/saved_model/function_deserialization.py\", line 253, in restored_function_body\n",
            "    return _call_concrete_function(function, inputs)\n",
            "  File \"/usr/local/lib/python3.6/dist-packages/tensorflow/python/saved_model/function_deserialization.py\", line 75, in _call_concrete_function\n",
            "    result = function._call_flat(tensor_inputs, function._captured_inputs)  # pylint: disable=protected-access\n",
            "  File \"/usr/local/lib/python3.6/dist-packages/tensorflow/python/saved_model/load.py\", line 116, in _call_flat\n",
            "    cancellation_manager)\n",
            "  File \"/usr/local/lib/python3.6/dist-packages/tensorflow/python/eager/function.py\", line 1932, in _call_flat\n",
            "    flat_outputs = forward_function.call(ctx, args_with_tangents)\n",
            "  File \"/usr/local/lib/python3.6/dist-packages/tensorflow/python/eager/function.py\", line 589, in call\n",
            "    executor_type=executor_type)\n",
            "  File \"/usr/local/lib/python3.6/dist-packages/tensorflow/python/ops/functional_ops.py\", line 1206, in partitioned_call\n",
            "    f.add_to_graph(graph)\n",
            "  File \"/usr/local/lib/python3.6/dist-packages/tensorflow/python/eager/function.py\", line 505, in add_to_graph\n",
            "    g._add_function(self)\n",
            "  File \"/usr/local/lib/python3.6/dist-packages/tensorflow/python/framework/ops.py\", line 3396, in _add_function\n",
            "    gradient)\n",
            "tensorflow.python.framework.errors_impl.InvalidArgumentError: 'func' argument to TF_GraphCopyFunction cannot be null\n"
          ],
          "name": "stderr"
        },
        {
          "output_type": "stream",
          "text": [
            "Full path to the filename: /content/drive/MyDrive/Colab Notebooks/data/val_NER_BG.txt\n",
            "Number of sentences: 1695\n",
            "Maximum token lenght of a sentence: 240\n",
            "Full path to the filename: /content/drive/MyDrive/Colab Notebooks/data/test_NER_BG.txt\n",
            "Number of sentences: 1461\n",
            "Maximum token lenght of a sentence: 285\n"
          ],
          "name": "stdout"
        }
      ]
    },
    {
      "cell_type": "markdown",
      "metadata": {
        "id": "Nq_GJGWwQohj"
      },
      "source": [
        "**NB!!!** *A warning message might appear. It seems connected with https://github.com/tensorflow/tensorflow/issues/44403, where it is said that \"the error message is annoying, but harmless\". So, please disregard it!*"
      ]
    },
    {
      "cell_type": "markdown",
      "metadata": {
        "id": "RJkRQQu9_npF"
      },
      "source": [
        "### Building the BERT model"
      ]
    },
    {
      "cell_type": "markdown",
      "metadata": {
        "id": "x87d-g7M87nr"
      },
      "source": [
        "Unfortunately, it is impossible to use the newly created module `bert-for-tf2` created for the implementation of the GLUE tasks. Using it for GLUE task is really very user-friendly. But as it doesn't accept all the usual \"inputs\", skipping the `input_mask`, it is not suitable at this moment for NER task.\r\n",
        "\r\n",
        "Using the BERT model as a layer with this module is really easy task:"
      ]
    },
    {
      "cell_type": "code",
      "metadata": {
        "id": "aveAC5n98inF"
      },
      "source": [
        "# !pip import bert-for-tf2\r\n",
        "# import bert\r\n",
        "\r\n",
        "# bert_params = bert.params_from_pretrained_ckpt(gs_folder_bert)\r\n",
        "# print(\"bert_params:\")\r\n",
        "# pprint(bert_params)"
      ],
      "execution_count": 31,
      "outputs": []
    },
    {
      "cell_type": "code",
      "metadata": {
        "id": "i3bVmsK1KS33"
      },
      "source": [
        "# creation of BERT as a layer\r\n",
        "# l_bert = bert.BertModelLayer.from_params(bert_params, name=\"bert\")\r\n",
        "# model_ckpt = os.path.join(gs_folder_bert, \"bert_model.ckpt\")"
      ],
      "execution_count": 32,
      "outputs": []
    },
    {
      "cell_type": "markdown",
      "metadata": {
        "id": "qUGvVLJC_tPq"
      },
      "source": [
        "Unfortunately, I unsderstood the problem the hard way and after losing quite lot of time in debugging I decided to change the approach for using BERT as a layer in my model. \r\n",
        "\r\n",
        "The original [BERT model](https://github.com/google-research/bert) created by Jacob Devlin unfortunately uses lots of old and already modified modules, so it is also unconvinient for my case."
      ]
    },
    {
      "cell_type": "markdown",
      "metadata": {
        "id": "3iGSOfS5_yZD"
      },
      "source": [
        "No matter the way in general, after the model is already selected, the configuration of the pretrained model should be downloaded. I will use the `official.nlp` BERT model, based on which I can make visualizations of the classifier and encoder parts of BERT:"
      ]
    },
    {
      "cell_type": "code",
      "metadata": {
        "colab": {
          "base_uri": "https://localhost:8080/",
          "height": 610
        },
        "id": "mtbZSUnIAECB",
        "outputId": "fcd82af6-f23b-4084-ad49-248a8fa72ba7"
      },
      "source": [
        "bert_config_file = os.path.join(gs_folder_bert, \"bert_config.json\")\r\n",
        "config_dict = json.loads(tf.io.gfile.GFile(bert_config_file).read())\r\n",
        "\r\n",
        "# importing at this stage is not \"good-practice\" but it is done here \r\n",
        "# only for illustrational purposes\r\n",
        "import official.nlp.bert.configs\r\n",
        "\r\n",
        "bert_config = bert.configs.BertConfig.from_dict(config_dict)\r\n",
        "\r\n",
        "print(\"config_dict:\")\r\n",
        "pprint(config_dict)\r\n",
        "\r\n",
        "import official.nlp.bert.bert_models\r\n",
        "\r\n",
        "bert_classifier, bert_encoder = bert.bert_models.classifier_model(\r\n",
        "    bert_config, num_labels=OUT_UNITS)\r\n",
        "\r\n",
        "print(\"Classifier plot:\")\r\n",
        "tf.keras.utils.plot_model(bert_classifier, show_shapes=True, dpi=64)"
      ],
      "execution_count": 33,
      "outputs": [
        {
          "output_type": "stream",
          "text": [
            "config_dict:\n",
            "{'attention_probs_dropout_prob': 0.1,\n",
            " 'directionality': 'bidi',\n",
            " 'hidden_act': 'gelu',\n",
            " 'hidden_dropout_prob': 0.1,\n",
            " 'hidden_size': 768,\n",
            " 'initializer_range': 0.02,\n",
            " 'intermediate_size': 3072,\n",
            " 'max_position_embeddings': 512,\n",
            " 'num_attention_heads': 12,\n",
            " 'num_hidden_layers': 12,\n",
            " 'pooler_fc_size': 768,\n",
            " 'pooler_num_attention_heads': 12,\n",
            " 'pooler_num_fc_layers': 3,\n",
            " 'pooler_size_per_head': 128,\n",
            " 'pooler_type': 'first_token_transform',\n",
            " 'type_vocab_size': 2,\n",
            " 'vocab_size': 119547}\n",
            "Classifier plot:\n"
          ],
          "name": "stdout"
        },
        {
          "output_type": "execute_result",
          "data": {
            "image/png": "[encoded data removed]",
            "text/plain": [
              "<IPython.core.display.Image object>"
            ]
          },
          "metadata": {
            "tags": []
          },
          "execution_count": 33
        }
      ]
    },
    {
      "cell_type": "code",
      "metadata": {
        "colab": {
          "base_uri": "https://localhost:8080/",
          "height": 1000
        },
        "id": "nOLbaggVNnvN",
        "outputId": "af56f8b1-67fb-43ad-dd7b-bd0d0436842c"
      },
      "source": [
        "print(\"Encoder plot:\")\r\n",
        "tf.keras.utils.plot_model(bert_encoder, show_shapes=True, dpi=48)"
      ],
      "execution_count": 34,
      "outputs": [
        {
          "output_type": "stream",
          "text": [
            "Encoder plot:\n"
          ],
          "name": "stdout"
        },
        {
          "output_type": "execute_result",
          "data": {
            "image/png": "[encoded data removed]",
            "text/plain": [
              "<IPython.core.display.Image object>"
            ]
          },
          "metadata": {
            "tags": []
          },
          "execution_count": 34
        }
      ]
    },
    {
      "cell_type": "markdown",
      "metadata": {
        "id": "Delh16sS0lFF"
      },
      "source": [
        "I am not going to use this downloaded from `official.nlp` version into my future work since some of the parameters names are modified by updates. In order to be 100% reassured that I am using the final version of BERT, fully compatible with `tensorflow`, I will stick to whatever is available in `tensorflow_hub`."
      ]
    },
    {
      "cell_type": "markdown",
      "metadata": {
        "id": "SuwguV-9xsvQ"
      },
      "source": [
        "Before putting BERT into my model, I'll demonstrate its outputs and how the input can be simulate using my customized preprocess. It will also show the usual way of using BERT via same TensorFlow Hub model already chosen in section \"*Selecting and loading the model*\" above."
      ]
    },
    {
      "cell_type": "code",
      "metadata": {
        "id": "-2X-0x9vVYEc"
      },
      "source": [
        "bert_enc_model = hub.KerasLayer(tfhub_handle_encoder)"
      ],
      "execution_count": 35,
      "outputs": []
    },
    {
      "cell_type": "markdown",
      "metadata": {
        "id": "F-FUYZ5GzA-h"
      },
      "source": [
        "The test will be done again on the `validation` dataset used for visualization before as well:"
      ]
    },
    {
      "cell_type": "code",
      "metadata": {
        "colab": {
          "base_uri": "https://localhost:8080/"
        },
        "id": "x9MTQ74obTlh",
        "outputId": "f5410c6f-0758-43df-a2e3-ffe0c875bf0d"
      },
      "source": [
        "# choosing the first sentence from batched validation set\r\n",
        "for (inputs, label_id) in validation: \r\n",
        "  print('Keys           : ', list(inputs.keys()))\r\n",
        "  print('Shape Word Ids : ', inputs['input_word_ids'].shape)\r\n",
        "  print('Word Ids       : ', inputs['input_word_ids'][0, :12])\r\n",
        "  print('Shape Mask     : ', inputs['input_mask'].shape)\r\n",
        "  print('Input Mask     : ', inputs['input_mask'][0, :12])\r\n",
        "  print('Shape Type Ids : ', inputs['input_type_ids'].shape)\r\n",
        "  print('Type Ids       : ', inputs['input_type_ids'][0, :12])\r\n",
        "  print('#'*90)\r\n",
        "  bert_results = bert_enc_model(inputs)\r\n",
        "  print(f'Loaded BERT: {tfhub_handle_encoder}')\r\n",
        "  print(f'Pooled Outputs Shape:{bert_results[\"pooled_output\"].shape}')\r\n",
        "  print(f'Pooled Outputs Values:{bert_results[\"pooled_output\"][0, :12]}')\r\n",
        "  print(f'Sequence Outputs Shape:{bert_results[\"sequence_output\"].shape}')\r\n",
        "  print(f'Sequence Outputs Values:{bert_results[\"sequence_output\"][0, :12]}')\r\n",
        "  print(f'Encoder Outputs Shape:{bert_results[\"encoder_outputs\"][0].shape}')\r\n",
        "  print(f'Encoder Outputs Values:{bert_results[\"encoder_outputs\"][0][0, :12]}')\r\n",
        "  break"
      ],
      "execution_count": 36,
      "outputs": [
        {
          "output_type": "stream",
          "text": [
            "Keys           :  ['input_word_ids', 'input_mask', 'input_type_ids']\n",
            "Shape Word Ids :  (16, 256)\n",
            "Word Ids       :  tf.Tensor([  101   512 26313 58056 55048 10746 13368 52203 32418 10928 10297 20422], shape=(12,), dtype=int32)\n",
            "Shape Mask     :  (16, 256)\n",
            "Input Mask     :  tf.Tensor([1 1 1 1 1 1 1 1 1 1 1 1], shape=(12,), dtype=int32)\n",
            "Shape Type Ids :  (16, 256)\n",
            "Type Ids       :  tf.Tensor([0 0 0 0 0 0 0 0 0 0 0 0], shape=(12,), dtype=int32)\n",
            "##########################################################################################\n",
            "Loaded BERT: https://tfhub.dev/tensorflow/bert_multi_cased_L-12_H-768_A-12/3\n",
            "Pooled Outputs Shape:(16, 768)\n",
            "Pooled Outputs Values:[ 0.12184808 -0.0163886   0.203754   -0.18777439 -0.10683946  0.06027573\n",
            "  0.17212023  0.0979872  -0.22828776 -0.04825079 -0.01181884 -0.06624751]\n",
            "Sequence Outputs Shape:(16, 256, 768)\n",
            "Sequence Outputs Values:[[-0.12188576 -0.16414413 -0.37376097 ...  0.13160148  0.13240221\n",
            "  -0.2742458 ]\n",
            " [-0.01606957 -0.28604206  0.18511228 ...  0.6063422  -0.11062267\n",
            "  -0.7212991 ]\n",
            " [ 0.00533088 -0.38949755  0.5003082  ...  0.6275553  -0.49391478\n",
            "  -0.31647617]\n",
            " ...\n",
            " [-0.0694323   0.07602486  0.31742582 ...  0.38349953  0.39283466\n",
            "   0.04019697]\n",
            " [-0.12340717 -0.20836657 -0.56615543 ...  0.4071741  -0.23659927\n",
            "  -0.08806048]\n",
            " [-0.01703591 -0.7220667   0.34950417 ...  0.85474     0.33502135\n",
            "  -0.74006414]]\n",
            "Encoder Outputs Shape:(16, 256, 768)\n",
            "Encoder Outputs Values:[[-0.08864605 -0.03023656 -0.05646037 ...  0.06766584 -0.19885315\n",
            "   0.10505591]\n",
            " [-1.5488887   0.38121593  1.227031   ... -0.02830777 -0.16188714\n",
            "  -0.8764744 ]\n",
            " [ 0.03052079  0.64804906  0.779373   ...  0.38004103 -0.8068428\n",
            "  -0.2511574 ]\n",
            " ...\n",
            " [ 0.45039874  0.97274655 -0.234805   ...  0.40180868 -0.04346803\n",
            "  -0.27750117]\n",
            " [-0.13116044  0.67733335 -0.41029203 ...  1.1952648  -1.0869412\n",
            "  -0.826793  ]\n",
            " [ 1.4840587  -0.30291584 -1.6300993  ...  2.5867653   0.9226339\n",
            "  -0.423246  ]]\n"
          ],
          "name": "stdout"
        }
      ]
    },
    {
      "cell_type": "markdown",
      "metadata": {
        "id": "9Po4mcBB10BR"
      },
      "source": [
        "As demonstrated the BERT model returns a map(dictionary) with 3 important keys: `pooled_output`, `sequence_output`, `encoder_outputs`:\r\n",
        "\r\n",
        "- `pooled_output` represents each input sequence as a whole. The shape is `[batch_size, H]`. It may be looked at as an abstraction of embedding on sentences level.\r\n",
        "- `sequence_output` represents each input token in the context. The shape is `[batch_size, seq_length, H]`. It represents something as a contextual embedding for every token in a sentence. In fact this what interest us most.\r\n",
        "- `encoder_outputs` are the intermediate activations of the **L** Transformer blocks. `outputs[\"encoder_outputs\"][i]` is a Tensor of shape `[batch_size, seq_length, H]` with the outputs of the `i`-th Transformer block, for `0 <= i < L`. The last value of the list is equal to `sequence_output`."
      ]
    },
    {
      "cell_type": "markdown",
      "metadata": {
        "id": "v-loo6yP4rxm"
      },
      "source": [
        "In Allamar's blog post called [The illustrated BERT, ELMo and co.](http://jalammar.github.io/illustrated-bert/) from 2018 a comparison and improvement in the f1 score is shown for the NER task depending on the way these outputs are used and especially from last four layers:"
      ]
    },
    {
      "cell_type": "markdown",
      "metadata": {
        "id": "4MPZLgm_zETo"
      },
      "source": [
        "![image.png](data:image/png;base64,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)"
      ]
    },
    {
      "cell_type": "markdown",
      "metadata": {
        "id": "8cXfKCe2zEG-"
      },
      "source": [
        "Where these difference comes from? BERT has the capability that each token embedded in a embedding vector is transformed progressively every time it traverse one of the Encoder layers. So at each layer the embedding layer shows different aspects of how the tokens interact with each other due to the specific construction of Bert layers shown on this 3D image taken from [Peltarion tutorials](https://peltarion.com/knowledge-center/documentation/modeling-view/build-an-ai-model/blocks/multilingual-bert-encoder):\r\n"
      ]
    },
    {
      "cell_type": "markdown",
      "metadata": {
        "id": "vbm_yGEH1ObO"
      },
      "source": [
        "<img src=https://peltarion.com/static/bert_encoder_block_cls_only.svg width = 700>"
      ]
    },
    {
      "cell_type": "markdown",
      "metadata": {
        "id": "gLippDrQsAaF"
      },
      "source": [
        "Based on the above information , after numerous changes in the architecture of my `classifier_model` that are decribed later in the \"*Loading and testing the model*\" section below, the final version of the model is done with the following function:"
      ]
    },
    {
      "cell_type": "code",
      "metadata": {
        "id": "xmDDPzjs8KkV"
      },
      "source": [
        "def build_classifier_model(num_classes=OUT_UNITS):\r\n",
        "  inp = dict(\r\n",
        "      input_word_ids=tf.keras.layers.Input(shape=(None,), dtype=tf.int32),\r\n",
        "      input_mask=tf.keras.layers.Input(shape=(None,), dtype=tf.int32),\r\n",
        "      input_type_ids=tf.keras.layers.Input(shape=(None,), dtype=tf.int32),\r\n",
        "  )\r\n",
        "\r\n",
        "  encoder = hub.KerasLayer(tfhub_handle_encoder, trainable=True, name='BERT_encoder')\r\n",
        "  outputs = encoder(inp)['encoder_outputs']\r\n",
        "\r\n",
        "  x1 = tf.keras.layers.Dense(1024, activation='relu', name='dense_1')(outputs[-1])\r\n",
        "  x1 = tf.keras.layers.Dropout(rate=0.1)(x1)\r\n",
        "  # x1 = tf.keras.layers.Dense(1024, activation='relu', name='dense_1_1')(x1)\r\n",
        "  x1 = tf.keras.layers.Dense(544, activation='relu', name='dense_last_1')(x1)\r\n",
        "  # x1 = tf.keras.layers.Dropout(rate=0.1)(x1)\r\n",
        "\r\n",
        "  x2 = tf.keras.layers.Dense(768, activation='relu', name='dense_2')(outputs[-2])\r\n",
        "  x2 = tf.keras.layers.Dropout(rate=0.1)(x2)\r\n",
        "  x2 = tf.keras.layers.Dense(544, activation='relu', name='dense_last_2')(x2)\r\n",
        "  x2 = tf.keras.layers.Dropout(rate=0.2)(x2)\r\n",
        "  \r\n",
        "  x3 = tf.keras.layers.Dense(768, activation='relu', name='dense_3')(outputs[-3])\r\n",
        "  x3 = tf.keras.layers.Dropout(rate=0.1)(x3)\r\n",
        "  x3 = tf.keras.layers.Dense(544, activation='relu', name='dense_last_3')(x3)\r\n",
        "  x3 = tf.keras.layers.Dropout(rate=0.2)(x3)\r\n",
        "\r\n",
        "  x4 = tf.keras.layers.Dense(768, activation='relu', name='dense_4')(outputs[-4])\r\n",
        "  x4 = tf.keras.layers.Dropout(rate=0.1)(x4)\r\n",
        "  x4 = tf.keras.layers.Dense(544, activation='relu', name='dense_last_4')(x4)\r\n",
        "  x4 = tf.keras.layers.Dropout(rate=0.2)(x4)\r\n",
        "\r\n",
        "  concat_1 = tf.keras.layers.Concatenate(name = 'concat_1')([x1, x2, x3, x4])\r\n",
        "  # concat_1 = tf.keras.layers.Dropout(rate=0.05)(concat_1)\r\n",
        "\r\n",
        "  dense_output = tf.keras.layers.Dense(544, activation='relu', name='dense_last_0')(concat_1)\r\n",
        "  dense_output = tf.keras.layers.Dropout(rate=0.1)(dense_output)\r\n",
        "\r\n",
        "  # x_1 = tf.keras.layers.BatchNormalization()(x1)\r\n",
        "  # dense_output = tf.keras.layers.BatchNormalization()(dense_output)\r\n",
        "  added_1 = tf.keras.layers.Add(name = 'added_1')([x1, dense_output])\r\n",
        "  dense_output_1 = tf.keras.layers.Dense(1024, activation='relu', name='dense_last')(added_1)\r\n",
        "\r\n",
        "  bn_output = tf.keras.layers.BatchNormalization()(dense_output_1)\r\n",
        "  final_output = tf.keras.layers.Dense(num_classes, activation='softmax', name='classifier')(bn_output)\r\n",
        "\r\n",
        "  return tf.keras.Model(inputs=inp, outputs=final_output, name='predictions')"
      ],
      "execution_count": 37,
      "outputs": []
    },
    {
      "cell_type": "code",
      "metadata": {
        "id": "FcA_EeoUcrUG"
      },
      "source": [
        "classifier_model = build_classifier_model()"
      ],
      "execution_count": 38,
      "outputs": []
    },
    {
      "cell_type": "markdown",
      "metadata": {
        "id": "7-EmeX72s_x9"
      },
      "source": [
        "The layers can be graphically represented with the plot below."
      ]
    },
    {
      "cell_type": "code",
      "metadata": {
        "colab": {
          "base_uri": "https://localhost:8080/",
          "height": 554
        },
        "id": "qQETWafw815B",
        "outputId": "1cf2ffce-5a49-4ba0-e7a8-6970d3af2c2f"
      },
      "source": [
        "tf.keras.utils.plot_model(classifier_model, show_shapes=True, dpi=64)"
      ],
      "execution_count": 39,
      "outputs": [
        {
          "output_type": "execute_result",
          "data": {
            "image/png": "[encoded data removed]",
            "text/plain": [
              "<IPython.core.display.Image object>"
            ]
          },
          "metadata": {
            "tags": []
          },
          "execution_count": 39
        }
      ]
    },
    {
      "cell_type": "markdown",
      "metadata": {
        "id": "bpNwREetFETv"
      },
      "source": [
        "There is an option for cases when we search for more flexibility with the inputs and the outputs, but it's far more complex. This option uses a class that inherits `tf.keras.Model` (so called *Model Subclassing*). Below you can see its implementation with the additional option of using the `valid_ids` to clear out the outcomes for the subwords. In that case the addition of `'X'` label won't be needed.\r\n",
        "\r\n",
        "It is valid for cases where `valid_ids` is used inside the model itself. In such case a `Lambda` layer is added with the respective logic to it that would provide only the labels corresponding to the main words or first subwords. This `Lambda` function requires the respective implementation of the function `_check_valid_output` also demonstrated below. \r\n",
        "\r\n",
        "Currently, it is not \"straightforwardly\" applicable, since a slight modification in the way the inputs are created, specifically `valid_ids` variable, should be implemented in preparation of the data as well - it should be slices as well, as well as the `[SEP` and `[CLS]` tokens should be marked with '1' inside:"
      ]
    },
    {
      "cell_type": "code",
      "metadata": {
        "id": "aMggil-bCyi8"
      },
      "source": [
        "class BertNer(tf.keras.Model):\r\n",
        "\r\n",
        "    def __init__(self, num_labels, max_seq_length, bert_model=tfhub_handle_encoder):\r\n",
        "        '''\r\n",
        "        bert_model : tfhub_handle_encoder\r\n",
        "        num_labels : num of tags in NER task\r\n",
        "        max_seq_length : max_seq_length of tokens\r\n",
        "        final_layer_initializer : default:  tf.keras.initializers.TruncatedNormal\r\n",
        "        '''\r\n",
        "        super(BertNer, self).__init__()\r\n",
        "        \r\n",
        "        # defining the Input of the BERT layer\r\n",
        "        inp = dict(\r\n",
        "            input_word_ids = tf.keras.layers.Input(shape=(max_seq_length,), dtype=tf.int32, name='input_word_ids'),\r\n",
        "            input_mask = tf.keras.layers.Input(shape=(max_seq_length,), dtype=tf.int32, name='input_mask'),\r\n",
        "            input_type_ids = tf.keras.layers.Input(shape=(max_seq_length, ), dtype=tf.int32, name='input_type_ids'),\r\n",
        "        )\r\n",
        "\r\n",
        "        # defining the BERT model encoder\r\n",
        "        encoder = hub.KerasLayer(tfhub_handle_encoder, name='BERT_encoder', trainable=True)\r\n",
        "\r\n",
        "        # BERT model as a layer, based on the last layer 4 layers outcome ('encoder_outputs')\r\n",
        "        outputs = encoder(inp)[\"encoder_outputs\"][-4:]\r\n",
        "        self.bert = tf.keras.Model(inputs=inp, outputs=outputs, name=\"BERT_last_layer\")\r\n",
        "        \r\n",
        "        # layer adding last 4 BERT layers\r\n",
        "        self.added = tf.keras.layers.Add()\r\n",
        "\r\n",
        "        # BERT initializer_range = 0.02\r\n",
        "        initializer = tf.keras.initializers.TruncatedNormal(stddev=0.02)\r\n",
        "        \r\n",
        "        # adding Lambda function (in case the valid_ids is included as part of the model)\r\n",
        "        # self.valid_output = tf.keras.layers.Lambda(self._check_valid_otput)\r\n",
        "\r\n",
        "        # adding default DROPOUT Layer\r\n",
        "        self.dropout = tf.keras.layers.Dropout(rate=0.1)\r\n",
        "        \r\n",
        "        # defining the output Layer\r\n",
        "        self.classifier = tf.keras.layers.Dense(\r\n",
        "            num_labels, kernel_initializer=initializer, activation='softmax',name='softmax_output', dtype=tf.float32)\r\n",
        "\r\n",
        "    def __call__(self, input_dict, **kwargs):\r\n",
        "        enc_outputs = self.bert(input_dict, **kwargs)\r\n",
        "        # valid_output = self.valid_output((sequence_output, valid_mask))\r\n",
        "        added_output = self.added([enc_outputs[-1], enc_outputs[-2], enc_outputs[-3], enc_outputs[-4]])\r\n",
        "        dropout_output = self.dropout(added_output, training=kwargs.get('training', False))\r\n",
        "        logits = self.classifier(dropout_output)\r\n",
        "        return logits\r\n",
        "\r\n",
        "    @staticmethod\r\n",
        "    def _check_valid_output(params):\r\n",
        "        sequence_output, valid_mask = params\r\n",
        "        valid_output = []\r\n",
        "        for i in range(sequence_output.shape[0]):  # shape[0] is batch_size\r\n",
        "            empty = 0\r\n",
        "            _temp = []\r\n",
        "            for j in range(sequence_output.shape[1]):  # shape[1] is max_seq_len\r\n",
        "                if (valid_mask[i][j] == 1): \r\n",
        "                    _temp.append(sequence_output[i, j])\r\n",
        "                else: \r\n",
        "                    empty += 1\r\n",
        "            _temp.extend(empty * [tf.zeros_like(sequence_output[i, j])])\r\n",
        "            valid_output.extend([_temp])\r\n",
        "        return tf.reshape(tf.stack(valid_output), sequence_output.shape)"
      ],
      "execution_count": 40,
      "outputs": []
    },
    {
      "cell_type": "code",
      "metadata": {
        "id": "BZhzjzz8F_9T"
      },
      "source": [
        "# ner = BertNer(OUT_UNITS, MAX_SEQ_LENGTH)"
      ],
      "execution_count": 41,
      "outputs": []
    },
    {
      "cell_type": "markdown",
      "metadata": {
        "id": "s3xorHTuUx5l"
      },
      "source": [
        "### Set up the optimizer"
      ]
    },
    {
      "cell_type": "markdown",
      "metadata": {
        "id": "MUdXW6hI4lNP"
      },
      "source": [
        "For fine-tuning, let's use the same optimizer that BERT was originally trained with: the \"Adaptive Moments\" (Adam). As described in the prodecure of [Fine-Tuning Bert in Tensorflow Tutorials](https://www.tensorflow.org/official_models/fine_tuning_bert#set_up_the_optimizer): \"BERT adopts the Adam optimizer with weight decay (aka \"AdamW\"). It also employs a learning rate schedule that firstly warms up from 0 and then decays to 0.\"\r\n",
        "\r\n",
        "To set the optimizer first the following calculations must be made:"
      ]
    },
    {
      "cell_type": "code",
      "metadata": {
        "colab": {
          "base_uri": "https://localhost:8080/"
        },
        "id": "IhTFM4hEVXd9",
        "outputId": "0d4e1158-98da-4021-d5a4-0ebf0e7428eb"
      },
      "source": [
        "# set_up steps\r\n",
        "\r\n",
        "steps_per_epoch = (train_size // BATCH_SIZE) + 1  # operation should be ceiling\r\n",
        "\r\n",
        "num_train_steps = steps_per_epoch * EPOCHS\r\n",
        "\r\n",
        "warmup_steps = int(WARM_UP_PROPORTION * num_train_steps)\r\n",
        "\r\n",
        "print(f\"Number of training steps: {num_train_steps},\")\r\n",
        "print(\"out of which warm-up steps:\", warmup_steps)"
      ],
      "execution_count": 42,
      "outputs": [
        {
          "output_type": "stream",
          "text": [
            "Number of training steps: 1650,\n",
            "out of which warm-up steps: 165\n"
          ],
          "name": "stdout"
        }
      ]
    },
    {
      "cell_type": "code",
      "metadata": {
        "colab": {
          "base_uri": "https://localhost:8080/"
        },
        "id": "wj3Yk_Yn6FWl",
        "outputId": "17a187c8-e039-40d7-cb3e-50dff7812144"
      },
      "source": [
        "validation_steps = val_size // BATCH_SIZE\r\n",
        "\r\n",
        "print(\"And validation steps\", validation_steps)"
      ],
      "execution_count": 43,
      "outputs": [
        {
          "output_type": "stream",
          "text": [
            "And validation steps 105\n"
          ],
          "name": "stdout"
        }
      ]
    },
    {
      "cell_type": "markdown",
      "metadata": {
        "id": "0q1Cryrra5au"
      },
      "source": [
        "It is commonly observed that a monotonically decreasing learning rate, whose degree of change is carefully chosen, results in a better performing model (source [TensorFlow documentation](https://www.tensorflow.org/api_docs/python/tf/keras/optimizers/schedules/PolynomialDecay)). The PolynomialDecay schedule applies a polynomial decay function to an optimizer step, given a provided `initial_learning_rate`, to reach an `end_learning_rate` in the given `decay_steps`. \r\n",
        "\r\n",
        "The base learning rate schedule used here is a linear decay to zero over the training run, visible also on the graph below :"
      ]
    },
    {
      "cell_type": "code",
      "metadata": {
        "colab": {
          "base_uri": "https://localhost:8080/",
          "height": 295
        },
        "id": "C2vbNw8PaFlM",
        "outputId": "65a9d184-07d9-47fd-800a-4786a9e61b83"
      },
      "source": [
        "decay_schedule  = tf.keras.optimizers.schedules.PolynomialDecay(initial_learning_rate=LEARNING_RATE,\r\n",
        "                                                                 decay_steps=num_train_steps,\r\n",
        "                                                                 end_learning_rate=0.0)\r\n",
        "\r\n",
        "plt.plot([decay_schedule(n) for n in range(num_train_steps)])\r\n",
        "plt.xlabel('number of training steps')\r\n",
        "plt.ylabel('learning rate')\r\n",
        "plt.title('learning rate decay schedule')\r\n",
        "plt.show()"
      ],
      "execution_count": 44,
      "outputs": [
        {
          "output_type": "display_data",
          "data": {
            "image/png": "[encoded data removed]",
            "text/plain": [
              "<Figure size 432x288 with 1 Axes>"
            ]
          },
          "metadata": {
            "tags": [],
            "needs_background": "light"
          }
        }
      ]
    },
    {
      "cell_type": "markdown",
      "metadata": {
        "id": "qDAQNTfdpbj3"
      },
      "source": [
        "Using `nlp.optimization` `WarmUp` class, the definition of the warm-up schedule can be demostrated on the following figure:"
      ]
    },
    {
      "cell_type": "code",
      "metadata": {
        "colab": {
          "base_uri": "https://localhost:8080/",
          "height": 290
        },
        "id": "bKLedlUkIN0X",
        "outputId": "bf9ada5d-89df-4e82-e050-55ab21694961"
      },
      "source": [
        "warmup_schedule = WarmUp(initial_learning_rate=decay_schedule(warmup_steps),\r\n",
        "                         decay_schedule_fn=decay_schedule,\r\n",
        "                         warmup_steps=warmup_steps)\r\n",
        "  \r\n",
        "plt.plot([warmup_schedule(n) for n in range(num_train_steps)])\r\n",
        "plt.xlabel('number of training steps')\r\n",
        "plt.ylabel('learning rate with warm-up and decay schedule')\r\n",
        "plt.show()"
      ],
      "execution_count": 45,
      "outputs": [
        {
          "output_type": "display_data",
          "data": {
            "image/png": "[encoded data removed]",
            "text/plain": [
              "<Figure size 432x288 with 1 Axes>"
            ]
          },
          "metadata": {
            "tags": [],
            "needs_background": "light"
          }
        }
      ]
    },
    {
      "cell_type": "markdown",
      "metadata": {
        "id": "fGxrmrY_pw8a"
      },
      "source": [
        "It warms up to the `initial_learning_rate` following the learning rate level at the moment the decay schedule calculates it depending on the number of training steps."
      ]
    },
    {
      "cell_type": "markdown",
      "metadata": {
        "id": "hpCtnDtyAwbR"
      },
      "source": [
        "Based on the above calculations, the optimizer can be created using three equal ways: \r\n",
        "- using `optimization.create_optimizer` function,\r\n",
        "- using `AdamWeightDecay` class from same `official.nlp` module,\r\n",
        "- using `AdamW` class from `tensorflow_addons` module.\r\n",
        "\r\n",
        "I will use the `create_optimizer` function despite it doesn't really matter, but it is the most simple option in terms of parameters provided."
      ]
    },
    {
      "cell_type": "code",
      "metadata": {
        "id": "ps5qPnAk4zJ6"
      },
      "source": [
        "optimizer_f = optimization.create_optimizer(\r\n",
        "      init_lr=LEARNING_RATE,\r\n",
        "      num_train_steps=num_train_steps,\r\n",
        "      num_warmup_steps=warmup_steps,\r\n",
        "      optimizer_type='adamw')"
      ],
      "execution_count": 46,
      "outputs": []
    },
    {
      "cell_type": "code",
      "metadata": {
        "colab": {
          "base_uri": "https://localhost:8080/"
        },
        "id": "4yyMkZnndaKT",
        "outputId": "03ab322e-17af-4789-ce27-9ced3262f215"
      },
      "source": [
        "type(optimizer_f)  # official.nlp.optimization.AdamWeightDecay"
      ],
      "execution_count": 47,
      "outputs": [
        {
          "output_type": "execute_result",
          "data": {
            "text/plain": [
              "official.nlp.optimization.AdamWeightDecay"
            ]
          },
          "metadata": {
            "tags": []
          },
          "execution_count": 47
        }
      ]
    },
    {
      "cell_type": "code",
      "metadata": {
        "id": "OaUPJZjLnClB"
      },
      "source": [
        "optimizer = AdamWeightDecay(\r\n",
        "            learning_rate=warmup_schedule,\r\n",
        "            weight_decay_rate=WEIGHT_DECAY,\r\n",
        "            epsilon=ADAM_EPSILON,\r\n",
        "            exclude_from_weight_decay=['LayerNorm', 'layer_norm', 'bias'])\r\n",
        "# default values: beta_1=0.9, beta_2=0.999,"
      ],
      "execution_count": 48,
      "outputs": []
    },
    {
      "cell_type": "code",
      "metadata": {
        "colab": {
          "base_uri": "https://localhost:8080/"
        },
        "id": "7J3vnfOBnGt3",
        "outputId": "55e06502-21df-4f1b-b48a-2dae43cc5bbe"
      },
      "source": [
        "type(optimizer)  # official.nlp.optimization.AdamWeightDecay"
      ],
      "execution_count": 49,
      "outputs": [
        {
          "output_type": "execute_result",
          "data": {
            "text/plain": [
              "official.nlp.optimization.AdamWeightDecay"
            ]
          },
          "metadata": {
            "tags": []
          },
          "execution_count": 49
        }
      ]
    },
    {
      "cell_type": "code",
      "metadata": {
        "id": "UEDAPbQDSxtS"
      },
      "source": [
        "optimizer_ = AdamW(weight_decay=WEIGHT_DECAY,\r\n",
        "                   learning_rate=decay_schedule(warmup_steps),\r\n",
        "                   epsilon=ADAM_EPSILON)"
      ],
      "execution_count": 50,
      "outputs": []
    },
    {
      "cell_type": "code",
      "metadata": {
        "colab": {
          "base_uri": "https://localhost:8080/"
        },
        "id": "PyS2V362UVdX",
        "outputId": "cf48953d-a047-4c02-f616-665585840b0e"
      },
      "source": [
        "type(optimizer_)  # tensorflow_addons.optimizers.weight_decay_optimizers.AdamW"
      ],
      "execution_count": 51,
      "outputs": [
        {
          "output_type": "execute_result",
          "data": {
            "text/plain": [
              "tensorflow_addons.optimizers.weight_decay_optimizers.AdamW"
            ]
          },
          "metadata": {
            "tags": []
          },
          "execution_count": 51
        }
      ]
    },
    {
      "cell_type": "markdown",
      "metadata": {
        "id": "1dbwhrdzl7bR"
      },
      "source": [
        "### Select loss and metrics"
      ]
    },
    {
      "cell_type": "markdown",
      "metadata": {
        "id": "nwePPs-RmBwD"
      },
      "source": [
        "Selection of metrics to measure the loss and the accuracy of the model is the next step. \r\n",
        "\r\n",
        "In general the NER task is always dealing with highly imbalanced data - it is a fact that in such datasets most tokens are backgrounded with tagging class 'O'. It was visible in the short analysis made in the beginning for datasets used here as well (right after reading the datasets). It is not that surprising. In very popular datasets in English the number of tokens with tagging class 'O' is from 5 times as many as those with entity labels (for the CoNLL03 dataset) up to 8 times (for the OntoNotes5.0 dataset).\r\n",
        "\r\n",
        "Without balancing the labels, the learning process tends to converge to a point that strongly biases towards class with the majority label. The huge number of easy examples tends to overwhelm the training, making the model not sufficiently learn to distinguish between positive examples and hard-negative examples."
      ]
    },
    {
      "cell_type": "markdown",
      "metadata": {
        "id": "xt29A8Z2pi1q"
      },
      "source": [
        "For all the reasons enumerated above, the performance of the NER system is commonly measured by the F1-score. At the end both false negatives and false poitives are important. F1-score provides some balance between precision and recall. The output range is between `[0, 1]`.\r\n",
        "$$F_1 = 2 * \\frac{\\textrm{precision} * \\textrm{recall}}{\\textrm{precision} + \\textrm{recall}}$$\r\n",
        "\r\n",
        "The more general F-score is $F_{\\beta}$ where $\\beta$ determines the weigth given to the precision and recall and is equal to F1 when $\\beta = 1$:\r\n",
        "$$F_{\\beta} = (1 + \\beta^2) * \\frac{\\textrm{precision} * \\textrm{recall}}{\\beta^2 \\cdot \\textrm{precision} + \\textrm{recall}}$$\r\n",
        "\r\n",
        "In the `tensorflow_addons.metrics` module `F1Score` exists as ready-to-use option. In this module, similar to others, there is a parameter which defines its behaviour, called `average`, which can have the following states:\r\n",
        "\r\n",
        "- `micro`: True positivies, false positives and\r\n",
        "    false negatives are computed globally.`\r\n",
        "\r\n",
        "- `macro`: True positivies, false positives and\r\n",
        "    false negatives are computed for each class\r\n",
        "    and their unweighted mean is returned.\r\n",
        "\r\n",
        "- `weighted`: Metrics are computed for each class\r\n",
        "    and returns the mean weighted by the\r\n",
        "    number of true instances in each class.\r\n",
        "\r\n",
        "Unfortunately, this F1-score taken from `tensorflow_addons.metrics` is unable to deal with '*sparced*' outcome coming from the last layer which uses 'softmax' activation. It accepts only outcome with similar shape as the input. For that I will need to create a specific training function or I could create a custom specific metric instead. I opt for the custom metric."
      ]
    },
    {
      "cell_type": "markdown",
      "metadata": {
        "id": "0idk9Cq1pmjj"
      },
      "source": [
        "This custom F1-score will compute using `average = 'micro'`. It is not a big problem. In general, the results will be higher that averaging of type `'macro'`, but the trend for f1-scores will be similar. It is not ideal situation, but there is another specificity that makes it directly uncomaparable with the *F1-score* found in  papers even though it is on `micro` averaging there as well. At this stage the custom F1 will include the correctness also for the `'X'`, `'[CLS]'` and `'[SEP]'` classes, as well as for the 'padding' parts. This is not the case in the papers. Lately, on the test set for instance, by using the `valid_ids` variable as mask, it will be possible to check the final and comparable f1-score. For the moment this custom score will serve only as orientation, since the `accuracy` metric might show too high number misleaded by the biggest class."
      ]
    },
    {
      "cell_type": "code",
      "metadata": {
        "id": "nQ4fTxqSOMqI"
      },
      "source": [
        "# class CustomF1Score(FBetaScore):  # tf.keras.metrics.Metric):\r\n",
        "#     \"\"\"\r\n",
        "#     F_beta = (1 + beta^2) * precision * recall / (beta^2 * precision + recall)\r\n",
        "    \r\n",
        "#     Args: num_classes: number of unique classes\r\n",
        "#           average: Type of averaging to be performed on data. Acceptable values \r\n",
        "#                    are micro, macro and weighted and None. Default value is 'micro'.\r\n",
        "#           beta: Determines the weight of precision and recall\r\n",
        "#                 in harmonic mean. Default value is 1.0.\r\n",
        "#           name: (Optional) String name of the metric instance.\r\n",
        "#           dtype: (Optional) Data type of the metric result.\r\n",
        "#     \"\"\"\r\n",
        "\r\n",
        "#     def __init__(self, num_classes=OUT_UNITS, name=\"custom_f1_score\", beta=1.0, average='micro', dtype = None):\r\n",
        "#         FBetaScore.__init__(self, num_classes=num_classes, average=average, beta=beta, name=name, dtype=dtype)\r\n",
        "\r\n",
        "#     def update_state(self, y_true, y_pred, sample_weight=None):\r\n",
        "#         y_pred = tf.cast(tf.argmax(y_pred, -1), tf.float32)\r\n",
        "#         y_true = tf.cast(y_true, tf.int32) \r\n",
        "#         FBetaScore.update_state(self, y_true, y_pred)"
      ],
      "execution_count": 52,
      "outputs": []
    },
    {
      "cell_type": "code",
      "metadata": {
        "id": "mSnaLg5dNR2r"
      },
      "source": [
        "class CustomF1Score(tf.keras.metrics.Metric):\r\n",
        "    \"\"\"\r\n",
        "    F_beta = (1 + beta^2) * precision * recall / (beta^2 * precision + recall)\r\n",
        "    \r\n",
        "    The function is implemented in a way to perform only 'micro' averaging \r\n",
        "    on the data as it doesn't take into account the number of classes, nor their weight.\r\n",
        "\r\n",
        "    Args:\r\n",
        "        beta: Determines the weight of precision and recall\r\n",
        "            in harmonic mean. Default value is 1.0.\r\n",
        "        name: (Optional) String name of the metric instance.\r\n",
        "        dtype: (Optional) Data type of the metric result.\r\n",
        "    \"\"\"\r\n",
        "\r\n",
        "    def __init__(self, name=\"custom_f1_score\", beta = 1.0, dtype = None):\r\n",
        "        super(CustomF1Score, self).__init__(name=name, dtype=dtype)\r\n",
        "        self.beta = beta\r\n",
        "        self.true_positives = self.add_weight(\"true_positives\", initializer=\"zeros\")\r\n",
        "        self.false_positives = self.add_weight(\"false_positives\", initializer=\"zeros\")\r\n",
        "        self.false_negatives = self.add_weight(\"false_negatives\", initializer=\"zeros\")\r\n",
        "        # self.average = 'micro'\r\n",
        "\r\n",
        "    def update_state(self, y_true, y_pred, sample_weight=None):\r\n",
        "        y_pred = tf.cast(tf.argmax(y_pred, -1), tf.int32)\r\n",
        "        y_true = tf.cast(y_true, tf.int32)\r\n",
        "        \r\n",
        "        yx = y_true == y_pred  # True for all true_positives\r\n",
        "        not_yx = tf.logical_not(yx) # True for all true_negatives\r\n",
        "\r\n",
        "        # casting booleans to float to make the computations with 1.0\r\n",
        "        yx = tf.cast(yx, tf.float32)\r\n",
        "        not_yx = tf.cast(not_yx, tf.float32)\r\n",
        "\r\n",
        "        #calculations of TP, FP, FN\r\n",
        "        true_positives = yx\r\n",
        "        false_positives = (1. - yx)\r\n",
        "        false_negatives = (1. - yx)\r\n",
        "        \r\n",
        "        if sample_weight is not None:\r\n",
        "            sample_weight = tf.cast(sample_weight, \"float32\")\r\n",
        "            true_positives = tf.multiply(true_positives, sample_weight)\r\n",
        "            false_positives = tf.multiply(false_positives, sample_weight)\r\n",
        "            false_negatives = tf.multiply(false_negatives, sample_weight)\r\n",
        "\r\n",
        "        self.true_positives.assign(0.0)\r\n",
        "        self.false_positives.assign(0.0)\r\n",
        "        self.false_negatives.assign(0.0)\r\n",
        "        \r\n",
        "        self.true_positives.assign_add(tf.reduce_sum(true_positives))\r\n",
        "        self.false_positives.assign_add(tf.reduce_sum(false_positives))\r\n",
        "        self.false_negatives.assign_add(tf.reduce_sum(false_negatives))        \r\n",
        "\r\n",
        "    def result(self):\r\n",
        "        # calculation of precision, recall and f_beta\r\n",
        "        precision = tf.math.divide_no_nan(\r\n",
        "            self.true_positives, self.true_positives + self.false_positives\r\n",
        "        )\r\n",
        "        recall = tf.math.divide_no_nan(\r\n",
        "            self.true_positives, self.true_positives + self.false_negatives\r\n",
        "        )\r\n",
        "\r\n",
        "        mul_value = precision * recall\r\n",
        "        add_value = (tf.square(self.beta) * precision) + recall\r\n",
        "        mean = tf.math.divide_no_nan(mul_value, add_value)\r\n",
        "        f1_score = mean * (1 + tf.math.square(self.beta))\r\n",
        "\r\n",
        "        return f1_score\r\n",
        "\r\n",
        "    def reset_states(self):\r\n",
        "        # The state of the metric will be reset at the start of each epoch.\r\n",
        "        self.true_positives.assign(0.0)\r\n",
        "        self.false_positives.assign(0.0)\r\n",
        "        self.false_negatives.assign(0.0)"
      ],
      "execution_count": 53,
      "outputs": []
    },
    {
      "cell_type": "markdown",
      "metadata": {
        "id": "xBeUfVxi88U3"
      },
      "source": [
        "When using the `softmax` activation for the last layer of our model, the objective loss that could be applied directly from the `tensorflow.keras.losses` module is the `'sparse_categorical_crossentropy'`:"
      ]
    },
    {
      "cell_type": "code",
      "metadata": {
        "id": "a2Ww8ekymFzT"
      },
      "source": [
        "loss_obj = tf.keras.losses.SparseCategoricalCrossentropy(reduction=tf.keras.losses.Reduction.NONE)\r\n",
        "# train_loss = tf.keras.metrics.Mean(name='loss')\r\n",
        "# train_f1_metric = F1Score(OUT_UNITS, average='macro')\r\n",
        "\r\n",
        "# eval_loss = tf.keras.metrics.Mean(name='loss')\r\n",
        "# eval_f1_metric = F1Score(OUT_UNITS, average='macro')"
      ],
      "execution_count": 54,
      "outputs": []
    },
    {
      "cell_type": "markdown",
      "metadata": {
        "id": "lVZ1uCQooGXO"
      },
      "source": [
        "Based on relatively recent studies found in [**Dice Loss for Data-imbalanced NLP Task**](https://arxiv.org/pdf/1911.02855v3.pdf), it turns out that using a dice loss instead of space categorical cross-entropy loss used in such multi-class problems I could achieve a bit better score. \r\n",
        "\r\n",
        "From one side the dice loss is a soft version of F1-score - it is the harmonic mean of precision and recall. It attaches equal importance to false positives (FPs) and false negatives (FNs) and is thus more immune to data-imbalanced datasets. But it is also inspired by the focal loss, from where it takes each training example with a weight in proportion to (1 − p). At the end of same paper the recommended implementation of the dice loss follow the equation:\r\n",
        "\r\n",
        "$$DSC(x_i) = \\frac{2(1 - p_i)^\\alpha p_i \\cdot y_i + \\gamma}{(1-p_i)^\\alpha p_i + y_i + \\gamma}$$\r\n",
        "\r\n",
        "Below is the implementation of this equation:"
      ]
    },
    {
      "cell_type": "code",
      "metadata": {
        "id": "Rw3Rdnor4XCp"
      },
      "source": [
        "# adaptive Dice Loss\r\n",
        "class ComputeDscLoss(tf.keras.losses.Loss):\r\n",
        "    def __init__(self, alpha=0.6, reduction='auto', gamma=1.0, name='compute_dsc_loss'):\r\n",
        "        \"\"\"\r\n",
        "        Creates a criterion that optimizes a multi-class Self-adjusting Dice Loss\r\n",
        "        (\"Dice Loss for Data-imbalanced NLP Tasks\" paper)\r\n",
        "        params:\r\n",
        "            y_true: shape `(batch_size)` where each value is in [0, C - 1]\r\n",
        "            y_pred: shape `(batch_size, max_seq_len, C)` where `C` is the number of classes.\r\n",
        "            alpha (float): a factor to push down the weight of easy examples, in the range [0, 1], default to 0.6\r\n",
        "            gamma (float): a factor added to both the nominator and the denominator for smoothing purposes\r\n",
        "            reduction (string): Specifies the reduction to apply to the output:\r\n",
        "                ``'none'``: the unreduced vector loss is passed to the optimizer\r\n",
        "                        but the reported loss will be a scalar value;\r\n",
        "                ``'auto'``: defaults to SUM_OVER_BATCH_SIZE, which is scalar SUM\r\n",
        "                        divided by number of elements in losses, default value; \r\n",
        "                ``'sum'``: scalar sum of weighted losses.\r\n",
        "        \"\"\"\r\n",
        "        super().__init__(name=name)\r\n",
        "        self.alpha = alpha\r\n",
        "        self.gamma = gamma\r\n",
        "\r\n",
        "        if reduction == 'none':\r\n",
        "          self.reduction == tf.keras.losses.Reduction.NONE\r\n",
        "        elif reduction == 'auto':\r\n",
        "          self.reduction == tf.keras.losses.Reduction.AUTO\r\n",
        "        elif self.reduction == 'sum':\r\n",
        "          self.reduction == tf.keras.losses.Reduction.SUM\r\n",
        "        else:\r\n",
        "          raise NotImplementedError(f\"Reduction `{reduction}` is not supported.\")\r\n",
        "\r\n",
        "    def call(self, y_true, y_pred):\r\n",
        "        y_pred = tf.reshape(y_pred, [-1, y_pred.shape[-1]])  # shape=(4096, 17)\r\n",
        "        y = tf.expand_dims(tf.reshape(y_true, shape=(-1, )), axis=1)  # shape=(4096, 1), dtype should be int\r\n",
        "        # additional check\r\n",
        "        y = tf.cast(y, dtype=tf.int32)\r\n",
        "        # using `tf.gather_nd` on `batch_dims = 1` should take only the probabilities for the correct labels\r\n",
        "        probabilities = tf.gather_nd(y_pred, y, batch_dims=1)  # tf.Tensor: shape=(4096,), dtype=dtype of y_pred\r\n",
        "        probabilities_with_factor = tf.pow(1 - probabilities, self.alpha) * probabilities  #  shape=(4096,)\r\n",
        "        dsc_loss = 1 - (2 * probabilities_with_factor + self.gamma) / (probabilities_with_factor + 1.0 + self.gamma)  # shape=(4096,)\r\n",
        "        return dsc_loss"
      ],
      "execution_count": 55,
      "outputs": []
    },
    {
      "cell_type": "code",
      "metadata": {
        "id": "LUAqR5XpJo_u"
      },
      "source": [
        "# # unsuccesfull trial with Tversky index calculation and function\r\n",
        "# def dice_coef(y_true, y_pred, loss_type):\r\n",
        "\r\n",
        "#     y_pred_f = tf.cast(tf.argmax(y_pred, axis=-1), dtype=float)\r\n",
        "#     y_true = tf.cast(y_true, dtype=float)\r\n",
        "#     intersection = tf.reduce_sum(y_true * y_pred_f)\r\n",
        "\r\n",
        "#     if loss_type == 'jaccard':\r\n",
        "#         union = tf.reduce_sum(tf.square(y_pred_f)) + tf.reduce_sum(tf.square(y_true))\r\n",
        "\r\n",
        "#     elif loss_type == 'sorensen':\r\n",
        "#         union = tf.reduce_sum(y_pred_f) + tf.reduce_sum(y_true)\r\n",
        "    \r\n",
        "#     return (2. * intersection + tf.keras.backend.epsilon()) / (union + tf.keras.backend.epsilon())\r\n",
        "\r\n",
        "# # loss functions must only take (y_true, y_pred) as parameters. So we need a separate function that returns another function\r\n",
        "# def dice_loss(loss_type='sorensen'):\r\n",
        "#     def dice(y_true, y_pred):\r\n",
        "#         return 1 - dice_coef(y_true, y_pred, loss_type)\r\n",
        "#     return dice\r\n",
        "\r\n",
        "# d_loss = dice_loss()"
      ],
      "execution_count": 56,
      "outputs": []
    },
    {
      "cell_type": "markdown",
      "metadata": {
        "id": "6PmYSx5z_IDq"
      },
      "source": [
        "Unfortunately, after many experiments with this loss function, as it can be seen in the \"*Loading and testing the model*\" section, the results were more than disappointing. It might be linked with an error in the calculation, despite the formulas inside the paper were strictly followed. It might be possible to use in a version where there is no additional \"easy\" label as the artificially added 'X' on top... Nevertheless, no matter the hyperparameters tuned, with this loss, the outcome of f1_score was below 0.5, which automatically removed it as an option and the `'sparse_categorical_cressentropy'` loss remained the only option."
      ]
    },
    {
      "cell_type": "markdown",
      "metadata": {
        "id": "EOwWJKAcFzme"
      },
      "source": [
        "### Training the model"
      ]
    },
    {
      "cell_type": "markdown",
      "metadata": {
        "id": "4depsPIBDekT"
      },
      "source": [
        "When training the model usign the *Model Subclassing* - class `BertNer` it can be done 2 ways - either by overriding the function `train_step(self, data)` inside the class itself, or creating a separate function. The advancement for the first option is that consequently, I could use `.fit()` as usual. Instead, I have left below the code for the second option and as the same is used for the validation, I called it `train_eval_step`."
      ]
    },
    {
      "cell_type": "markdown",
      "metadata": {
        "id": "F-t8De6u_fZn"
      },
      "source": [
        "This `train_eval_step` function will be responsible on each epoch to:\r\n",
        "1. iterate over each example in the training Dataset grabbing its features (x) and label (y).\r\n",
        "2. Using the example's features, make a prediction and compare it with the label. To be able to compare it correctly the label_mask should be applied.\r\n",
        "3. Measure the inaccuracy of the prediction and use that to calculate the model's loss and gradients.\r\n",
        "4. Use the optimizer to update the model's variables."
      ]
    },
    {
      "cell_type": "code",
      "metadata": {
        "id": "aaevRo3dXex9"
      },
      "source": [
        "# def train_eval_step(input_dict, \r\n",
        "#                     label_ids, \r\n",
        "#                     loss_obj=loss_obj,\r\n",
        "#                     loss=train_loss,\r\n",
        "#                     score=train_f1_metric, \r\n",
        "#                     training=False):\r\n",
        "\r\n",
        "#   with tf.GradientTape() as tape:\r\n",
        "#     logits = ner(input_dict, training=training)\r\n",
        "#     # logits.shape = batchsize, max_seq_length, num_labels\r\n",
        "#     scce_loss = loss_obj(label_ids, logits)\r\n",
        "\r\n",
        "#   if training:\r\n",
        "#     gradients = tape.gradient(scce_loss, ner.trainable_variables)\r\n",
        "#     optimizer_f.apply_gradients(zip(gradients, ner.trainable_variables))\r\n",
        "\r\n",
        "#   loss(scce_loss)\r\n",
        "#   print(\"Loss :\", loss.result(), \"Training:\", training)\r\n",
        "#   # score.update_state(label_ids, tf.argmax(logits, -1))"
      ],
      "execution_count": 57,
      "outputs": []
    },
    {
      "cell_type": "markdown",
      "metadata": {
        "id": "-A0-7Q3tFx2c"
      },
      "source": [
        "After creating it, the real training starts using a for loop for each `EPOCHS`. The loss and metric results are printed at the end of each epoch."
      ]
    },
    {
      "cell_type": "code",
      "metadata": {
        "id": "rrGLX3FbF6at"
      },
      "source": [
        "# for epoch in range(EPOCHS):\r\n",
        "#   train_loss.reset_states()\r\n",
        "#   train_f1_metric.reset_states()\r\n",
        "#   eval_loss.reset_states()\r\n",
        "#   eval_f1_metric.reset_states()\r\n",
        "  \r\n",
        "#   # Training loop - using batches\r\n",
        "#   print(\"=========================Training step:==============================\")\r\n",
        "#   for input_dict, label_ids in train_data:\r\n",
        "#     train_eval_step(input_dict, label_ids, training=True)\r\n",
        "\r\n",
        "#   print(\"========================Evaluation step:=============================\")\r\n",
        "#   for input_dict, label_ids in val_data:\r\n",
        "#     train_eval_step(input_dict, label_ids, loss=eval_loss, score=eval_f1_metric)\r\n",
        "      \r\n",
        "#   print(\r\n",
        "#       f'Epoch {epoch + 1}, '\r\n",
        "#       f'loss : {train_loss.result()}, '\r\n",
        "#       # f'f1-score: {train_f1_metric.result():.4f}, '\r\n",
        "#       f'Validation loss: {eval_loss.result()}, ')\r\n",
        "#       # f'Validation f1-score: {eval_f1_metric.result()}')"
      ],
      "execution_count": 58,
      "outputs": []
    },
    {
      "cell_type": "code",
      "metadata": {
        "id": "bzXu2rV_P0uS"
      },
      "source": [
        "# tf.keras.backend.clear_session()"
      ],
      "execution_count": 59,
      "outputs": []
    },
    {
      "cell_type": "markdown",
      "metadata": {
        "id": "e3pJmRWfEmn_"
      },
      "source": [
        "in order to use more advanced option, the main experiments were conducted based on the `classifier_model` created earlier. It compiles using `.compile()` function. I will use as metric both `accuracy` and my `CustomF1Score`."
      ]
    },
    {
      "cell_type": "code",
      "metadata": {
        "id": "OYSQkwcT9L4Z"
      },
      "source": [
        "classifier_model.compile(optimizer=optimizer_f,\n",
        "                         loss=loss_obj,\n",
        "                        #  loss=ComputeDscLoss(),\n",
        "                        #  loss=d_loss,\n",
        "                         metrics=[\n",
        "                                  tf.keras.metrics.SparseCategoricalAccuracy(name='accuracy', dtype=tf.float32), \n",
        "                                  CustomF1Score(),\n",
        "                                  ],\n",
        "                         )"
      ],
      "execution_count": 60,
      "outputs": []
    },
    {
      "cell_type": "markdown",
      "metadata": {
        "id": "GTjKu3x7Eqgv"
      },
      "source": [
        "Below is the summary of the final `classifier_model`:"
      ]
    },
    {
      "cell_type": "code",
      "metadata": {
        "colab": {
          "base_uri": "https://localhost:8080/"
        },
        "id": "vI1P4YvgKq2W",
        "outputId": "b0136fad-d559-4554-d2a2-c1c14093c99c"
      },
      "source": [
        "classifier_model.summary()"
      ],
      "execution_count": 61,
      "outputs": [
        {
          "output_type": "stream",
          "text": [
            "Model: \"predictions\"\n",
            "__________________________________________________________________________________________________\n",
            "Layer (type)                    Output Shape         Param #     Connected to                     \n",
            "==================================================================================================\n",
            "input_2 (InputLayer)            [(None, None)]       0                                            \n",
            "__________________________________________________________________________________________________\n",
            "input_3 (InputLayer)            [(None, None)]       0                                            \n",
            "__________________________________________________________________________________________________\n",
            "input_1 (InputLayer)            [(None, None)]       0                                            \n",
            "__________________________________________________________________________________________________\n",
            "BERT_encoder (KerasLayer)       {'encoder_outputs':  177853441   input_2[0][0]                    \n",
            "                                                                 input_3[0][0]                    \n",
            "                                                                 input_1[0][0]                    \n",
            "__________________________________________________________________________________________________\n",
            "dense_2 (Dense)                 (None, None, 768)    590592      BERT_encoder[0][11]              \n",
            "__________________________________________________________________________________________________\n",
            "dense_3 (Dense)                 (None, None, 768)    590592      BERT_encoder[0][10]              \n",
            "__________________________________________________________________________________________________\n",
            "dense_4 (Dense)                 (None, None, 768)    590592      BERT_encoder[0][9]               \n",
            "__________________________________________________________________________________________________\n",
            "dense_1 (Dense)                 (None, None, 1024)   787456      BERT_encoder[0][12]              \n",
            "__________________________________________________________________________________________________\n",
            "dropout_3 (Dropout)             (None, None, 768)    0           dense_2[0][0]                    \n",
            "__________________________________________________________________________________________________\n",
            "dropout_5 (Dropout)             (None, None, 768)    0           dense_3[0][0]                    \n",
            "__________________________________________________________________________________________________\n",
            "dropout_7 (Dropout)             (None, None, 768)    0           dense_4[0][0]                    \n",
            "__________________________________________________________________________________________________\n",
            "dropout_2 (Dropout)             (None, None, 1024)   0           dense_1[0][0]                    \n",
            "__________________________________________________________________________________________________\n",
            "dense_last_2 (Dense)            (None, None, 544)    418336      dropout_3[0][0]                  \n",
            "__________________________________________________________________________________________________\n",
            "dense_last_3 (Dense)            (None, None, 544)    418336      dropout_5[0][0]                  \n",
            "__________________________________________________________________________________________________\n",
            "dense_last_4 (Dense)            (None, None, 544)    418336      dropout_7[0][0]                  \n",
            "__________________________________________________________________________________________________\n",
            "dense_last_1 (Dense)            (None, None, 544)    557600      dropout_2[0][0]                  \n",
            "__________________________________________________________________________________________________\n",
            "dropout_4 (Dropout)             (None, None, 544)    0           dense_last_2[0][0]               \n",
            "__________________________________________________________________________________________________\n",
            "dropout_6 (Dropout)             (None, None, 544)    0           dense_last_3[0][0]               \n",
            "__________________________________________________________________________________________________\n",
            "dropout_8 (Dropout)             (None, None, 544)    0           dense_last_4[0][0]               \n",
            "__________________________________________________________________________________________________\n",
            "concat_1 (Concatenate)          (None, None, 2176)   0           dense_last_1[0][0]               \n",
            "                                                                 dropout_4[0][0]                  \n",
            "                                                                 dropout_6[0][0]                  \n",
            "                                                                 dropout_8[0][0]                  \n",
            "__________________________________________________________________________________________________\n",
            "dense_last_0 (Dense)            (None, None, 544)    1184288     concat_1[0][0]                   \n",
            "__________________________________________________________________________________________________\n",
            "dropout_9 (Dropout)             (None, None, 544)    0           dense_last_0[0][0]               \n",
            "__________________________________________________________________________________________________\n",
            "added_1 (Add)                   (None, None, 544)    0           dense_last_1[0][0]               \n",
            "                                                                 dropout_9[0][0]                  \n",
            "__________________________________________________________________________________________________\n",
            "dense_last (Dense)              (None, None, 1024)   558080      added_1[0][0]                    \n",
            "__________________________________________________________________________________________________\n",
            "batch_normalization (BatchNorma (None, None, 1024)   4096        dense_last[0][0]                 \n",
            "__________________________________________________________________________________________________\n",
            "classifier (Dense)              (None, None, 17)     17425       batch_normalization[0][0]        \n",
            "==================================================================================================\n",
            "Total params: 183,989,170\n",
            "Trainable params: 183,987,121\n",
            "Non-trainable params: 2,049\n",
            "__________________________________________________________________________________________________\n"
          ],
          "name": "stdout"
        }
      ]
    },
    {
      "cell_type": "markdown",
      "metadata": {
        "id": "IaZ5uSh_E6n2"
      },
      "source": [
        "Using `BatchNormalization()` increases the number of non-trainable parameters. The number of trainable parameters is still huge. When processing a '*fine-tunning*' all the BERT's parameters are also participating actively in the training. In general all these params are part of around 220 variable (as shown below), out of which 200 belong to BERT itself."
      ]
    },
    {
      "cell_type": "code",
      "metadata": {
        "colab": {
          "base_uri": "https://localhost:8080/"
        },
        "id": "EsyXQjMzJpRt",
        "outputId": "7f341e77-a9e8-412f-d3d7-1c085043631d"
      },
      "source": [
        "len(classifier_model.trainable_variables)"
      ],
      "execution_count": 62,
      "outputs": [
        {
          "output_type": "execute_result",
          "data": {
            "text/plain": [
              "223"
            ]
          },
          "metadata": {
            "tags": []
          },
          "execution_count": 62
        }
      ]
    },
    {
      "cell_type": "markdown",
      "metadata": {
        "id": "TEyuaOCHFzTj"
      },
      "source": [
        "Before proceeding with `.fit()` I need to decide on few parameters. Now having only 3 epochs of fine-tuning and the `learning rate` using a decay schedule endong at 0.0, I expect that at some points there will be no visible improvements.  To stop the training at this point I could use the `EarlyStopping` callback. Unfortunately, this callback is done in a way to observe only the epochs. That is why if I want to use it, I will have to create my own class that implements `on_batch_end` function (as the name of one of the function to be overwritten indicates). It is possible to find ready-to-use code as an answer on the question in [StackOverflow](https://stackoverflow.com/questions/57618220/how-we-can-define-early-stopping-for-keras-to-check-after-each-batch-not-entire). It copycats the original `EarlyStopping` with all its params monitoring the batches.\r\n",
        "\r\n",
        "Using this custom `EarlyStopping` callback based on training metrics is a very sensitive topic, since the decreasing `learning rate` can simply push my loss to the extreme of the local or hopefully global minumum, and any rush in stopping the process earlier can result in drawback instead of improvement."
      ]
    },
    {
      "cell_type": "markdown",
      "metadata": {
        "id": "O5xKdr9WIcyE"
      },
      "source": [
        "There are two other callbacks that I will use instead:\r\n",
        "- `TensorBoard` callback writing the metrics each 25 mini-batches, and\r\n",
        "- `ModelCheckpoint` to save the weights as I am working in Google Colab after all."
      ]
    },
    {
      "cell_type": "code",
      "metadata": {
        "id": "JL-A-Lh70xmq"
      },
      "source": [
        "# removing old tensorboard logs before new training\r\n",
        "!rm -rf '/content/drive/MyDrive/Colab Notebooks/logs_copy'"
      ],
      "execution_count": 63,
      "outputs": []
    },
    {
      "cell_type": "code",
      "metadata": {
        "id": "7PU7cXT7bMgX"
      },
      "source": [
        "checkpoint_filepath = '/content/drive/MyDrive/Colab Notebooks/tmp/checkpoint'\r\n",
        "\r\n",
        "my_callbacks = [\r\n",
        "    # tf.keras.callbacks.ModelCheckpoint(filepath=checkpoint_filepath,\r\n",
        "    #                                    save_weights_only=True,\r\n",
        "    #                                    monitor='accuracy',\r\n",
        "    #                                    mode='max',\r\n",
        "    #                                    save_freq=100),\r\n",
        "    tf.keras.callbacks.TensorBoard(log_dir='/content/drive/MyDrive/Colab Notebooks/logs_copy', \r\n",
        "                                   write_graph=True,\r\n",
        "                                   update_freq=25),\r\n",
        "]"
      ],
      "execution_count": 64,
      "outputs": []
    },
    {
      "cell_type": "code",
      "metadata": {
        "id": "oZLF_mgbKqnM",
        "colab": {
          "base_uri": "https://localhost:8080/"
        },
        "outputId": "4dd3b6c3-ccce-4468-c0f4-be096eeefc1f"
      },
      "source": [
        "print(f'Fine tuning {tfhub_handle_encoder} model')\r\n",
        "\r\n",
        "history = classifier_model.fit( train_data,\r\n",
        "                                # steps_per_epoch=(steps_per_epoch + 1)//2,  # without it I go through the whole training set\r\n",
        "                                epochs=EPOCHS,\r\n",
        "                                validation_data=val_data,\r\n",
        "                                # validation_steps=validation_steps,  # without it I go through the whole validation set\r\n",
        "                                callbacks=my_callbacks\r\n",
        "                               )"
      ],
      "execution_count": 65,
      "outputs": [
        {
          "output_type": "stream",
          "text": [
            "Fine tuning https://tfhub.dev/tensorflow/bert_multi_cased_L-12_H-768_A-12/3 model\n",
            "Epoch 1/3\n",
            "550/550 [==============================] - 677s 1s/step - loss: 0.6796 - accuracy: 0.8170 - custom_f1_score: 0.9500 - val_loss: 0.0129 - val_accuracy: 0.9967 - val_custom_f1_score: 0.9966\n",
            "Epoch 2/3\n",
            "550/550 [==============================] - 659s 1s/step - loss: 0.0068 - accuracy: 0.9983 - custom_f1_score: 0.9978 - val_loss: 0.0102 - val_accuracy: 0.9978 - val_custom_f1_score: 0.9974\n",
            "Epoch 3/3\n",
            "550/550 [==============================] - 660s 1s/step - loss: 0.0031 - accuracy: 0.9993 - custom_f1_score: 0.9988 - val_loss: 0.0108 - val_accuracy: 0.9978 - val_custom_f1_score: 0.9974\n"
          ],
          "name": "stdout"
        }
      ]
    },
    {
      "cell_type": "code",
      "metadata": {
        "colab": {
          "base_uri": "https://localhost:8080/",
          "height": 163
        },
        "id": "9WNyLikCcECI",
        "outputId": "abe7840a-9536-429d-dd89-a85c68f1a467"
      },
      "source": [
        "raise NotImplementedError()"
      ],
      "execution_count": 66,
      "outputs": [
        {
          "output_type": "error",
          "ename": "NotImplementedError",
          "evalue": "ignored",
          "traceback": [
            "\u001b[0;31m---------------------------------------------------------------------------\u001b[0m",
            "\u001b[0;31mNotImplementedError\u001b[0m                       Traceback (most recent call last)",
            "\u001b[0;32m<ipython-input-66-03b9be105f74>\u001b[0m in \u001b[0;36m<module>\u001b[0;34m()\u001b[0m\n\u001b[0;32m----> 1\u001b[0;31m \u001b[0;32mraise\u001b[0m \u001b[0mNotImplementedError\u001b[0m\u001b[0;34m(\u001b[0m\u001b[0;34m)\u001b[0m\u001b[0;34m\u001b[0m\u001b[0;34m\u001b[0m\u001b[0m\n\u001b[0m",
            "\u001b[0;31mNotImplementedError\u001b[0m: "
          ]
        }
      ]
    },
    {
      "cell_type": "code",
      "metadata": {
        "id": "KVe7V299yneK"
      },
      "source": [
        "%tensorboard --logdir '/content/drive/MyDrive/Colab Notebooks/logs_copy'"
      ],
      "execution_count": null,
      "outputs": []
    },
    {
      "cell_type": "code",
      "metadata": {
        "id": "aHAQvPVKjKn1"
      },
      "source": [
        "for k, v in history.history.items():\r\n",
        "  print(k, v)"
      ],
      "execution_count": null,
      "outputs": []
    },
    {
      "cell_type": "markdown",
      "metadata": {
        "id": "xMd7oZTXiCiL"
      },
      "source": [
        "No I can perform the test of the model on the prepared pre-processed test dataset."
      ]
    },
    {
      "cell_type": "code",
      "metadata": {
        "id": "LMXRjiw7h_nr"
      },
      "source": [
        "print(\"Evaluate on test data\")\r\n",
        "result_test = classifier_model.evaluate(test_data)\r\n",
        "dict(zip(classifier_model.metrics_names, result_test))"
      ],
      "execution_count": null,
      "outputs": []
    },
    {
      "cell_type": "markdown",
      "metadata": {
        "id": "eJM1LPRw2KW-"
      },
      "source": [
        "Same operation on the validation set will provide the final results we saw before:"
      ]
    },
    {
      "cell_type": "code",
      "metadata": {
        "id": "xJ4UBB9z-wcS"
      },
      "source": [
        "print(\"Evaluate on validation data\")\r\n",
        "result_val = classifier_model.evaluate(val_data)\r\n",
        "dict(zip(classifier_model.metrics_names, result_val))"
      ],
      "execution_count": null,
      "outputs": []
    },
    {
      "cell_type": "markdown",
      "metadata": {
        "id": "AhXcOcUlbcs4"
      },
      "source": [
        "### Saving the model"
      ]
    },
    {
      "cell_type": "markdown",
      "metadata": {
        "id": "tfhN2fPpib67"
      },
      "source": [
        "After saving the model, the best version of all the experiments based on \"real\" f1-score shown below is saved by first defining the `path + desired name`. I have recorder best two versions on the same location in two different sub-folders."
      ]
    },
    {
      "cell_type": "code",
      "metadata": {
        "id": "wr0wftMHquih"
      },
      "source": [
        "model_save_path = '/content/drive/MyDrive/Colab Notebooks/trained_model/'\r\n",
        "\r\n",
        "bert_type = tfhub_handle_encoder.split('/')[-2]\r\n",
        "saved_model_name = f'trained_{bert_type}'\r\n",
        "# saved_model_name = f'trainedv2_{bert_type}'\r\n",
        "\r\n",
        "saved_model_path = os.path.join(model_save_path, saved_model_name)"
      ],
      "execution_count": null,
      "outputs": []
    },
    {
      "cell_type": "markdown",
      "metadata": {
        "id": "3yfgEzWsck02"
      },
      "source": [
        "The actual saving can easily happen with the following lines."
      ]
    },
    {
      "cell_type": "code",
      "metadata": {
        "id": "Itbhe99Aj0WV"
      },
      "source": [
        "# print(f'Saving {saved_model_path}')\r\n",
        "\r\n",
        "# !mkdir -p model_save_path\r\n",
        "\r\n",
        "# # Save everything \r\n",
        "# # save_options = tf.saved_model.SaveOptions(experimental_io_device='/job:localhost')  # save even the variables from TPU memory\r\n",
        "# classifier_model.save(saved_model_path)  # , options=save_options)"
      ],
      "execution_count": null,
      "outputs": []
    },
    {
      "cell_type": "markdown",
      "metadata": {
        "id": "7ZRGnl_ydp-K"
      },
      "source": [
        "### Loading and testing the model"
      ]
    },
    {
      "cell_type": "markdown",
      "metadata": {
        "id": "XEX2z_K9pPxo"
      },
      "source": [
        "To restore the model we use the same `path + saved model name` where the best model is saved and then load it in new model variable."
      ]
    },
    {
      "cell_type": "code",
      "metadata": {
        "id": "CO4I42O9-W2w"
      },
      "source": [
        "new_model = tf.saved_model.load(saved_model_path)  # tf.keras.models.load_model(saved_model_path)"
      ],
      "execution_count": null,
      "outputs": []
    },
    {
      "cell_type": "markdown",
      "metadata": {
        "id": "QNa-2F-0c8H2"
      },
      "source": [
        "Now, I need make a visualization on the test dataset. To use it I'll have to create a function that I'll name `predictions_postprocess`. (Maybe the name is not the perfect name, but as this stage is \"post-\"training, it will do the job.) \r\n",
        "\r\n",
        "Unfortunately our predictions are not 100% precise, so this function will rely on other functions for decoding the predicted ids, which will also remove any residual errors in the predictions which is the case of wrongly predicted padding (with id of 0), or \"service\" labels like 'X', '[CLS]' or '[SEP]' that should not appear in final version of prediction after the valid_ids mask is applied."
      ]
    },
    {
      "cell_type": "code",
      "metadata": {
        "id": "47-zgULLC72t"
      },
      "source": [
        "def transf_x_to_oth(predictions, tag='O'):\r\n",
        "  \"\"\"\r\n",
        "  manual transformation of 'X' to 'O' or other previous tag in labels\r\n",
        "  params: \r\n",
        "        predictions: list with predicted tags\r\n",
        "        to_tag: default 'O', but could be some other tag\r\n",
        "                if 'previous' than assigns ths tag that preceeds the tag\r\n",
        "                changing the prefix to 'I-' if needed\r\n",
        "  \"\"\"\r\n",
        "  for y in predictions:\r\n",
        "    while 'X' in y:\r\n",
        "      idx = y.index('X')\r\n",
        "      if tag == 'previous' and idx > 0:\r\n",
        "          to_tag = y[idx - 1]\r\n",
        "          if to_tag.startswith('B'):\r\n",
        "              to_tag = 'I' + to_tag[1:]\r\n",
        "      else:\r\n",
        "          to_tag = 'O'\r\n",
        "      y[idx] = to_tag\r\n",
        "  return predictions"
      ],
      "execution_count": 67,
      "outputs": []
    },
    {
      "cell_type": "code",
      "metadata": {
        "id": "AboSBHyU9lOd"
      },
      "source": [
        "def decode_tags(nd_array, valid_ids, decode_label_map=decode_label_map, tag='O'):\r\n",
        "  \"\"\"\r\n",
        "  decoding function using the dictionary translating numbers to valid labels\r\n",
        "  by removing all subwords and padding based on the inserted valid_ids\r\n",
        "  if still padding met -> automatic translation as 'O'\r\n",
        "  params:\r\n",
        "          nd_array: array in format ndarray with labels/prediction\r\n",
        "          valid_ids: tensor, containing the valid_ids\r\n",
        "          decode_label_map: dictionary with correct mapping of labels vs index\r\n",
        "          to_tag: ['O', 'previous'] Replace errors in predictions: 'X', 0 (padding)\r\n",
        "                  '[SEP]', '[CLS]' with 'O' or previous tag. Default to previous\r\n",
        "  \"\"\"\r\n",
        "  if tag not in ['O', 'previous']:\r\n",
        "    raise ValueError(f'\"to_tag\" value of {to_tag} not supported. \\\r\n",
        "                        You have to choose between \"O\" and \"previous\"')\r\n",
        "  if tag == 'previous':\r\n",
        "    temp = [\r\n",
        "            [decode_label_map[i] if i not in [0, 15, 16] else 'X' \r\n",
        "              for i in tf.boolean_mask(tag_id, valid_id).numpy()] \r\n",
        "              for tag_id, valid_id in zip(nd_array, valid_ids)\r\n",
        "            ]\r\n",
        "    return transf_x_to_oth(temp, tag='previous')\r\n",
        "  return [\r\n",
        "          [decode_label_map[i] if i not in [0, 2, 15, 16] else 'O' \r\n",
        "           for i in tf.boolean_mask(tag_id, valid_id).numpy()] \r\n",
        "           for tag_id, valid_id in zip(nd_array, valid_ids)\r\n",
        "          ]"
      ],
      "execution_count": 68,
      "outputs": []
    },
    {
      "cell_type": "code",
      "metadata": {
        "id": "7yNDiuUJFvII"
      },
      "source": [
        "def predictions_postprocess(model, dataset, valid_ids, return_decoded=True):\r\n",
        "  \"\"\"\r\n",
        "  preparing the labels and predictions, based on the inserted model,\r\n",
        "  in same shape as valid_ids\r\n",
        "  Returns: labels and predictions as ndarrays when 'return_decoded' is False\r\n",
        "           or decoded labels and prediction when 'return decoded' is True\r\n",
        "  \"\"\"\r\n",
        "  labs , preds = None, None\r\n",
        "  for batch, (test_inp, test_labels) in enumerate(dataset):\r\n",
        "    predictions = model(test_inp)\r\n",
        "    pred = tf.argmax(predictions, axis=2)\r\n",
        "    if batch == 0:\r\n",
        "      labs = test_labels\r\n",
        "      preds = pred\r\n",
        "    else:\r\n",
        "      labs = tf.experimental.numpy.append(labs, test_labels, axis=0)\r\n",
        "      preds = tf.experimental.numpy.append(preds, pred, axis=0)\r\n",
        "    assert labs.shape == preds.shape\r\n",
        "  assert labs.shape == valid_ids.shape\r\n",
        "\r\n",
        "  if return_decoded:\r\n",
        "    # decoding ids to true labels\r\n",
        "    y_true = decode_tags(labs, valid_ids, tag='previous')\r\n",
        "    y_pred = decode_tags(preds, valid_ids, tag='previous')\r\n",
        "    return y_true, y_pred\r\n",
        "\r\n",
        "  return labs, preds"
      ],
      "execution_count": 69,
      "outputs": []
    },
    {
      "cell_type": "markdown",
      "metadata": {
        "id": "b9ZIbDVemebY"
      },
      "source": [
        "I have prepared an optional parameter, thanks to which, I can visualize what comes out as prediction and as original labels to compare:"
      ]
    },
    {
      "cell_type": "code",
      "metadata": {
        "id": "Rr8NmTy-wFo0"
      },
      "source": [
        "labs, preds = predictions_postprocess(classifier_model, test_data, test_valid_ids, return_decoded=False)\r\n",
        "\r\n",
        "for label, pred, valid_id in zip(labs, preds, test_valid_ids):\r\n",
        "  sent_coded = tf.boolean_mask(label, valid_id)\r\n",
        "  pred_coded = tf.boolean_mask(pred, valid_id)\r\n",
        "  sent_coded = [decode_label_map[i] for i in sent_coded.numpy()]\r\n",
        "  pred_coded = [decode_label_map[i] for i in pred_coded.numpy()]\r\n",
        "  print(\"Original labels: \", sent_coded)\r\n",
        "  print(\"Predicted labels:\", pred_coded)\r\n",
        "  break"
      ],
      "execution_count": null,
      "outputs": []
    },
    {
      "cell_type": "markdown",
      "metadata": {
        "id": "vbk9UdXAhx-1"
      },
      "source": [
        "Using the advantage of having correct labels for each word in the initial file 'test_NER_BG.txt' and consquently in the dataset, here I can show the `f1-score`, `precision_score`, `recall_score` and the whole `classification_report` taken from [`seqeval.metrics`](https://github.com/chakki-works/seqeval) module. The f1-score is now comparable with those found in papers."
      ]
    },
    {
      "cell_type": "code",
      "metadata": {
        "colab": {
          "base_uri": "https://localhost:8080/"
        },
        "id": "wg4P_Crrbopa",
        "outputId": "c381880c-d948-4965-e3bc-f0e5ef9a9764"
      },
      "source": [
        "########################## CLASSIFIER_MODEL\r\n",
        "start = time()\r\n",
        "y_true, y_pred = predictions_postprocess(classifier_model, test_data, test_valid_ids)\r\n",
        "# y_true, y_pred = predictions_postprocess(new_model, test_data, test_valid_ids)\r\n",
        "\r\n",
        "print(f\"Time taken for prediction postprocess is: {time() - start}s.\")\r\n",
        "print(\"Results:\")\r\n",
        "fscore = f1_score(y_true, y_pred, average='macro')\r\n",
        "pscore = precision_score(y_true, y_pred)\r\n",
        "rscore = recall_score(y_true, y_pred)\r\n",
        "print(' - f1: {:04.2f}'.format(fscore * 100))\r\n",
        "print(' - precision: {:04.2f}'.format(pscore * 100))\r\n",
        "print(' - recall: {:04.2f}'.format(rscore * 100))\r\n",
        "print(classification_report(y_true, y_pred, digits=4))"
      ],
      "execution_count": 70,
      "outputs": [
        {
          "output_type": "stream",
          "text": [
            "Time taken for prediction postprocess is: 38.36079692840576s.\n",
            "Results:\n",
            " - f1: 92.46\n",
            " - precision: 90.19\n",
            " - recall: 95.47\n",
            "              precision    recall  f1-score   support\n",
            "\n",
            "         EVT     0.9720    1.0000    0.9858       139\n",
            "         LAW     0.9031    0.9588    0.9301       729\n",
            "         LOC     0.9844    0.9911    0.9877      1016\n",
            "         ORG     0.8581    0.9144    0.8854       701\n",
            "         PER     0.9194    0.9803    0.9489       407\n",
            "         PRO     0.7484    0.8814    0.8095       388\n",
            "\n",
            "   micro avg     0.9019    0.9547    0.9276      3380\n",
            "   macro avg     0.8976    0.9544    0.9246      3380\n",
            "weighted avg     0.9052    0.9547    0.9289      3380\n",
            "\n"
          ],
          "name": "stdout"
        }
      ]
    },
    {
      "cell_type": "code",
      "metadata": {
        "id": "fR0CveZo2MNe"
      },
      "source": [
        "########################### PREVIOUS BEST MODEL\r\n",
        "start = time()\r\n",
        "# y_true, y_pred = predictions_postprocess(classifier_model, test_data, test_valid_ids)\r\n",
        "y_true, y_pred = predictions_postprocess(new_model, test_data, test_valid_ids)\r\n",
        "\r\n",
        "print(f\"Time taken for prediction postprocess is: {time() - start}s.\")\r\n",
        "print(\"Results:\")\r\n",
        "fscore = f1_score(y_true, y_pred, average='macro')\r\n",
        "pscore = precision_score(y_true, y_pred)\r\n",
        "rscore = recall_score(y_true, y_pred)\r\n",
        "print(' - f1: {:04.2f}'.format(fscore * 100))\r\n",
        "print(' - precision: {:04.2f}'.format(pscore * 100))\r\n",
        "print(' - recall: {:04.2f}'.format(rscore * 100))\r\n",
        "print(classification_report(y_true, y_pred, digits=4))"
      ],
      "execution_count": null,
      "outputs": []
    },
    {
      "cell_type": "markdown",
      "metadata": {
        "id": "DE_N1GdqlrUr"
      },
      "source": [
        "I will step out from the process for a moment to explain the experiments that led me to the final versions of the model. The function above is concretly the method used experimentally to evaluate the different architectures of the \"`classifier_model`\". Making a fine-tunning, I train the model for 3 `epochs` only. That doesn't allow me to recognise from the graphs whether there is a problem of '*bias*' or '*variation*'.\r\n",
        "\r\n",
        "So, in the beginning of this \"journey\", for a model consisting of simple structure of `BERT classifier` - addition of last 4 `encoder_outputs` followed by `Dropout` of rate 0.1 and a '`softmax`' classifier, using the `SCCE` loss, the `f1_score` with `'macro'` averaging is of 76.78. Changing the droupout rate to 0.3 will deteriorate the `f1_score` to 76.24, while dropout rate of 0.2 will result in better `f1_score` of 77.07. That meant that it is more a question of '*bias*' problem, than of '*variation*'. \r\n",
        "\r\n",
        "In the same time with same simple structure, but taking directly the last layer or the `sequence_output` the model showed just a bit better result. Same conclution can be made with regards of the dropout rate and '*bias*'/'*variation*' ratio: \r\n",
        "- rate of 0.1 -> `f1_score` of 77.95,\r\n",
        "- rate of 0.2 -> `f1_score` of 77.32.\r\n",
        "Moreover, it is obvious that this problem cannot be solved in other way than by complicating the model.\r\n",
        "\r\n",
        "This is also how I figured out that usage of `dice loss` is not performing well: with simple structure above providing best results , with `dice loss` the `f1_score` is only 28.42. By complicating the architecture, the results using `dice loss` were getting worse. The `accuracy` results were not good either. So, I decided to abondon `dice_loss` at this stage and keep SCCE loss only."
      ]
    },
    {
      "cell_type": "markdown",
      "metadata": {
        "id": "nW2bVcuahiKr"
      },
      "source": [
        "Following Allamar's blog, I have made numerous trials using `Add` layer or `Concatenate` layer of the last four layers of BERT. To each of these outputs I connected a `Dense` layer followed by `Dropout`. This increased the `f1_score` result above 80%, but none of the experiments went above 86-87%.\r\n",
        "\r\n",
        "I had to complicate the architecture further, but that also increased the number of parameters of the model, despite 1  or 2 millions parameters on top of 180 millions is not such a big deal. Nevertheless, this made it a bit slower.\r\n",
        "\r\n",
        "To increase the number of trainable parameters, each of the last four layers outputs has been connected to two dense layers now, their outputs were given to the layers performing a *concatenation* or an *addition*. This increase the `f1-score` to 88% and above.\r\n",
        "\r\n",
        "The last layer contains the most of the information. That is why I decided to imitate something as \"*Resnet*\" and after the first concatenation to make and addition (or concatenation again) of the output with the last layer again. Before the last \"*softmax*\" layer I added a `BatchNormalization` to stabilize the final process. The trials with that kind of architecture provided a f1-scores above 90%."
      ]
    },
    {
      "cell_type": "markdown",
      "metadata": {
        "id": "VoMuMgpiQBzk"
      },
      "source": [
        "Observing the `classification_report` of all these trials, it was obvious that the hardest labels were those corresponding to **juridical, organizational** and **product** terms. In general, based on the SOTA results for NER systems, I accepted that the irreducible error of this NER task should be of 2 - 3%. Unfortunately, by adding data to the datasets by myself, as I am not possessing the appropriate knowledge in the field but also having in mind some dismbiguities in the juridical data in general, I estimate that I have induced additional variation in the data (train, validation and test data) of 2 - 3%. Saying all that, I would accept that the maximum f1_score (with macro averaging) would be at max 94 - 96%.\r\n",
        "\r\n",
        "Having in mind the above analysis on *scores* I continued with the experiments. At the end I came up to two different architectures showing relatively good results at his stage:"
      ]
    },
    {
      "cell_type": "markdown",
      "metadata": {
        "id": "nSGCrPatQHGU"
      },
      "source": [
        "1. saved in the 'trained_bert_multi_cased_L-12_H-768_A-12' folder with 1536 units on the dense layer after last output and 1024 untis on the dens layers after the other 3 outputs. Each of these are connected to dense layers with 544 units that are concatentated afterwards. The output is given to another dense layer with 544 units in order to be able to add it to the second dense layer after the last encoder output. The addition is given to another dense layer, then a `BatchNormalization` before the 'softmax' output."
      ]
    },
    {
      "cell_type": "markdown",
      "metadata": {
        "id": "lorsPPgDQE2b"
      },
      "source": [
        "2. saved in the v2 folder - the model showed in this notebook with Concatenation and Addition."
      ]
    },
    {
      "cell_type": "markdown",
      "metadata": {
        "id": "jLHKgGnqQLqy"
      },
      "source": [
        "For my task, the most important indexes are the scores linked with '*LAW*' labels. So as the results for this '*LAW*' labels are better in the model 2. or the `classifier_model`, I would consider this model as the better one."
      ]
    },
    {
      "cell_type": "markdown",
      "metadata": {
        "id": "erVInuaCCl8v"
      },
      "source": [
        "### Application on raw text - bond to read world problems"
      ]
    },
    {
      "cell_type": "markdown",
      "metadata": {
        "id": "iDWBYWGcDAN7"
      },
      "source": [
        "A legal text can come in many forms. It can be provided as PDF, as HTML, Word file or other. There are different ways to load the text in the memory in order to be processed.\r\n",
        "\r\n",
        "Below, I will show the process starting from a simple plain text file(files with `.txt` extension). Of course a function making the necessairy transformation will be applied. These transformations consists in cutting the text file in sentences and then putting these sentences in word - label pairs, imitating the initially created datasets just for presentational purposes. The word - label pairs are created in a way as close as possible to the BERT's tokenizer split for words and assigning 'O' for all labels. The labelling wont serve at all, so it doesn't matter. It is made this way in order to reuse the functions created earlier. In \"real life\", many synergies/simplifications of all these functions must be made."
      ]
    },
    {
      "cell_type": "code",
      "metadata": {
        "id": "rAxToO2OD18p"
      },
      "source": [
        "def preparing_test_file(path, input_filename, outcome_filename):\r\n",
        "    \"\"\"\r\n",
        "    function transforming a juridical text file in word-label 'O' pairs\r\n",
        "    Params: path: str, location where the file is located\r\n",
        "            input_filename: str, the input filename, incl. extension\r\n",
        "            outcome_filename: str, the name of the output file\r\n",
        "    Returns: None.\r\n",
        "             Prints a message when it is done with indication where the \r\n",
        "             transformed file can be found.\r\n",
        "    \"\"\"\r\n",
        "    filename = os.path.join(path2, input_filename)\r\n",
        "    # script to divide it in sentences\r\n",
        "    pattern = r'(?<=.[.?!:]) +(?=[А-ЯA-Z][А-Яа-яA-Za-z]+[^\\.])'\r\n",
        "    p = r'(?<=[^А-Я].[.?!:]) +(?=[А-ЯA-Z][А-Яа-яA-Za-z]+[^\\.])'\r\n",
        "\r\n",
        "    with open(filename, 'r', encoding='utf-8') as f:\r\n",
        "        a = f.readlines()\r\n",
        "\r\n",
        "    splitted_sentences = []\r\n",
        "    sentence = \"\"\r\n",
        "    for line in a:\r\n",
        "\r\n",
        "        a = re.split(pattern, line.rstrip())\r\n",
        "        for words in a:\r\n",
        "            if not sentence:\r\n",
        "                sentence += words\r\n",
        "                continue\r\n",
        "            if words[-1] in ['.', '!', '?', ':', '...']:\r\n",
        "                sentence += ' ' + words\r\n",
        "                if words.split()[-1] not in ['гр.', 'с.']:\r\n",
        "                    splitted_sentences.append(sentence)\r\n",
        "                    splitted_sentences.append('\\n\\n')\r\n",
        "                    sentence = \"\"\r\n",
        "            else:\r\n",
        "                sentence += ' ' + words\r\n",
        "\r\n",
        "    # sript to transform it in word-label\r\n",
        "    out_name = f\"{outcome_filename}_NER_BG.txt\"\r\n",
        "    out_file = os.path.join(path2, out_name)\r\n",
        "\r\n",
        "    for row in splitted_sentences:\r\n",
        "        lst = row.split()\r\n",
        "        with open(out_file, 'a+', encoding='utf-8') as pf:\r\n",
        "            if lst:\r\n",
        "                for word in lst:\r\n",
        "                    w = re.split(r'([()„“\\';―\"/\\[\\.\\],:])', word)\r\n",
        "                    for c in w:\r\n",
        "                        if c:\r\n",
        "                            pf.write(str(c.rstrip('\\n')) + '\\tO\\n')\r\n",
        "            else:\r\n",
        "                pf.write('\\n\\n')\r\n",
        "\r\n",
        "    print(f\"DONE! You can check the file {out_name} in the {path} folder!!!\")"
      ],
      "execution_count": null,
      "outputs": []
    },
    {
      "cell_type": "code",
      "metadata": {
        "id": "GovF4VM_yKwH"
      },
      "source": [
        "path2 = '/content/drive/MyDrive/Colab Notebooks/test/'\r\n",
        "\r\n",
        "input_filename = 'test_text.txt'\r\n",
        "\r\n",
        "outcome_filename = 'trasformed_test'\r\n",
        "\r\n",
        "preparing_test_file(path, input_filename, outcome_filename)"
      ],
      "execution_count": null,
      "outputs": []
    },
    {
      "cell_type": "markdown",
      "metadata": {
        "id": "4HZErH8RwRSJ"
      },
      "source": [
        "I will just visualize the first lines of this file:"
      ]
    },
    {
      "cell_type": "code",
      "metadata": {
        "id": "zrlCrBcywW-Y"
      },
      "source": [
        "filename = os.path.join(path2, input_filename)\r\n",
        "\r\n",
        "with open(filename, 'r', encoding='utf-8') as f:\r\n",
        "    a = f.readlines()\r\n",
        "\r\n",
        "# to omit the 'introduction' in the beginning, I'll start from row 13\r\n",
        "pprint(a[13:33], width=160)"
      ],
      "execution_count": null,
      "outputs": []
    },
    {
      "cell_type": "markdown",
      "metadata": {
        "id": "4NLkrLYzWl9b"
      },
      "source": [
        "At that stage, as the `classifier_model` (best model) is already loaded, I can make the test using the previously created functions `data_preprocess()` and `predictions_postprocess()`."
      ]
    },
    {
      "cell_type": "code",
      "metadata": {
        "id": "AlT8y9MpYhXx"
      },
      "source": [
        "read_dataset, returned = data_preprocess(dataset_type=outcome_filename, path=path2, label_map=label_map, training=False)\r\n",
        "# readed_data, returned = data_preprocess(dataset_type='test', path=path, label_map=label_map, training=False)\r\n",
        "sentences = [sen for sen, _ in read_dataset]\r\n",
        "dataset, valid_ids, dataset_size = returned\r\n",
        "\r\n",
        "_, y_pred = predictions_postprocess(classifier_model, dataset, valid_ids)\r\n",
        "# _, y_pred = predictions_postprocess(new_model, dataset, valid_ids)\r\n",
        "\r\n",
        "law_expressions_list = []\r\n",
        "law_expr = ''\r\n",
        "for sen, pred_labels in zip(sentences, y_pred):\r\n",
        "  for i, lab in enumerate(pred_labels):\r\n",
        "    if 'LAW' in lab:\r\n",
        "      law_expr += ' ' + sen[i] if law_expr else sen[i]\r\n",
        "    elif law_expr:\r\n",
        "      law_expressions_list.append(law_expr)\r\n",
        "      law_expr = ''\r\n",
        "\r\n",
        "pprint(law_expressions_list, width=120)"
      ],
      "execution_count": null,
      "outputs": []
    },
    {
      "cell_type": "code",
      "metadata": {
        "id": "yQ4TMiNMzH5W"
      },
      "source": [
        "len(law_expressions_list)"
      ],
      "execution_count": null,
      "outputs": []
    },
    {
      "cell_type": "markdown",
      "metadata": {
        "id": "90VJKgLKiXdq"
      },
      "source": [
        "## III. Entity Linking"
      ]
    },
    {
      "cell_type": "markdown",
      "metadata": {
        "id": "m11CTxXgibRt"
      },
      "source": [
        "The Entity Linking (EL) process transforms amiguous textual mention to a unique identifier by looking at the context in which the mention occurs. Thus, it can be looked as 2 step process after the NER:\r\n",
        "1. Creation of Entity Linker - list of candidates for each mention generation\r\n",
        "2. Reduce the list to the final ID that represents the correct name.\r\n",
        "\r\n",
        "This is generally the method used in `spacy` module.\r\n",
        "\r\n",
        "Another option used for this opeeration is used in `deeppavlov` module (http://docs.deeppavlov.ai/en/master/features/models/entity_linking.html)where:\r\n",
        "1. NER is fed to tf-idf Vectorizer and the resulting sparse vector is converted to dense vector.\r\n",
        "2. A library called Faiss (https://github.com/facebookresearch/faiss) is used to find the k-nearest neighbours for tf-idf vector in the matrix where each row is a tf-idf vectors of words in entity titles.\r\n",
        "3. entities are ranked by number of relations in Wikidata (number of outgoing edges of nodes in the knowledge graph)."
      ]
    },
    {
      "cell_type": "markdown",
      "metadata": {
        "id": "t1f2G5TNstL4"
      },
      "source": [
        "As I have to approach this question from the perspective of my task, what is generally a good practice in writing a legal document (and not only legal) is to use the full name of the law along with indication of the abbreviation that will be used instead at least the first time it is used. This will serve me a lot for sure - after the NER step I am supposed to have already all the suspected citations of laws in a simple list, so the connections can be made relatively easily.\r\n",
        "\r\n",
        "Unfortunately, not everybody follows this good practice. Moreover, the model can omit by coincidence this expression when classifying the words and thus it will become impossible to rely on the '*good practice*' approach only to solve the problem. \r\n",
        "\r\n",
        "In this first approach is unsuccessful, I will need an `Entity Linker` similar to the one used in `spacy` module for backup. My `Entity Linker` will consist in lookup table where I can check for the \"translation\" of the most common (and sometimes even for less common) abbreviations inside. Thanks to the help of a colleague of mine, I possess such table that has in it 24.000 abreviations already.\r\n",
        "\r\n",
        "Well, there might be a problem with the disambiguation still. Among these 24.000 abreviations there are some that repeats, meaning that one abbreviation can hide two or more different laws behind it. In such cases, I will use the approach of `deeppavlov` and can use `tf-idf` vectors for the whole text to find which out of all the candidates in the lookup table will contain words with highest probability, thus becoming the best candidate."
      ]
    },
    {
      "cell_type": "code",
      "metadata": {
        "id": "c9Rwzz77iHaP"
      },
      "source": [
        "#TODO"
      ],
      "execution_count": null,
      "outputs": []
    },
    {
      "cell_type": "markdown",
      "metadata": {
        "id": "vaJkcSbuir8H"
      },
      "source": [
        "## IV. Conclusion and Future Work"
      ]
    },
    {
      "cell_type": "markdown",
      "metadata": {
        "id": "GaQ_6W4aixJU"
      },
      "source": [
        "The aim of this work is to serve as a final project in SoftUni course of Deep Learning. That is why, it is sometimes more similar to an exploring review of BERT and/or of TensorFlow library.\r\n",
        "\r\n",
        "Looking from the scientific perspective, there are many questions that remained unsolved. Starting from the beginning it is questionable whether choosing a BERT is the best solution for Bulgarian language. Its main withdraw is the short vocabulary which leads to huge fragmentation into subwords, leading on its own to many uneffective parameters that complicates further and slow down the performance of the model. Instead, the choice of Marinova et al. using an embedding based on the [Bulgarian flair-forward and - backward model trained by Stefan Schweter](https://github.com/stefan-it) or the [FastText](https://fasttext.cc/docs/en/crawl-vectors.html) could have been better fit as they can be stacked to a simplier BiLSTM-CRF classifier. It remains as future exploitation track.\r\n",
        "\r\n",
        "Anyway the provided results from the NER part are satisfying when compared to the results on micro average F1 provided in Marinova et al., especially having in mind the addition of the 'LAW' tag which seems as relatively complicated NE to be classified. Of course, the F1 results from the NER system created in this notebook is not directly comparable as it is processed on different data, but the achieved is not far from these. Below is the summary table of available NER systems for Bulgarian as taken from same source:\r\n",
        "\r\n",
        "| Authors | Method | Data | Categories | F1 |\r\n",
        "| ------- | ------ | ---- | ---------- | -- |\r\n",
        "|(Georgiev et al., 2009)| SVM| BTB NE | ORG/PER/LOC/OTH |89.40|\r\n",
        "|(Simeonova et al., 2019) | LSTM-CRF | BTB NE | ORG/PER/LOC/OTH |92.20|\r\n",
        "|(Marinova, 2019) | BiLSTM-CRF | BTB NE | ORG/PER/LOC/OTH |**96.29**|\r\n",
        "|(Piskorski et al., 2019)| BILSTM-CRF| BSNLP | ORG/PER/LOC/PRO/EVT | 88.55|\r\n"
      ]
    },
    {
      "cell_type": "markdown",
      "metadata": {
        "id": "2jrYE_EmvJ94"
      },
      "source": [
        "It is pity as it seems there are not many researches and models done for the Bulgarian language, especially compared to English.\r\n",
        "\r\n",
        "There are still few investigations that worth to be done and eventually may lead to some improvements in the current NER system:\r\n",
        "- maybe using uncased multilingual BERT could be a better fit;\r\n",
        "- can the dice loss contribute the model robustness;\r\n",
        "- is the different usage of `valid_ids` inside the model a smarter way to fine-tune the model;\r\n",
        "- what can be done further to simplify and speed up the model.\r\n",
        "\r\n",
        "It remained unanswered whether this model after this training can answer all the legal topics available. This requires more tests in-depth, thorough in the field of law.\r\n",
        "\r\n",
        "What should not remain neglected as well is the side effect of the trained NER model. The initial task was to deal only with legal entities. At the end, due to the nature of the training data, the model is capable with quite good score to find also geolocation, personal names, events, products and organizations. Currently it is just a \"side effect\", but at some point it might become an advantage. As said above there are not many model capable to do this job for Bulgarian language currently (at least in my knowledge). So, it depends on the purpose of the main task.\r\n",
        "\r\n",
        "And this is only the NER part. In fact from the overall task perspective what remains is the implementation of the *Entity Linking*. On first gland it does't seem as complicated. But there are few challenges there as well in order to get to a final complete model serving fast and reliably. And maybe using a ML model, or even DL model could be the best answer for this part as well...\r\n",
        "\r\n",
        "The last topic, that also worth exploring further is the formulation of the task and consequently of a loss function that could combine both NER and Entity Linking tasks, so that with a single fine-tuning of BERT, it could be able to provide the final answer of the current task as formulated in the beginning."
      ]
    },
    {
      "cell_type": "markdown",
      "metadata": {
        "id": "9k8g5xj1iz6G"
      },
      "source": [
        "## Ressources"
      ]
    },
    {
      "cell_type": "markdown",
      "metadata": {
        "id": "dJsVMxR_i5Bl"
      },
      "source": [
        "**Reconstructing NER Corpora: a Case Study on Bulgarian** - Iva Marinova, Laska Laskova, Petya Osenova, Kiril Simov, Alexander Popov - Proceedings of the 12th Conference on Language Resources and Evaluation (LREC 2020), pages 4647–4652, Marseille, 11–16 May 2020"
      ]
    },
    {
      "cell_type": "markdown",
      "metadata": {
        "id": "RcmS0ntOi40-"
      },
      "source": [
        "**Tuning Multilingual Transformers for Named Entity Recognition on\r\n",
        "Slavic Languages** - Mikhail Arkhipov, Maria Trofimova, Yuri Kuratov, Alexey Sorokin - Neural Networks and Deep Learning Laboratory, Moscow Institute of Physics and Technology, Faculty of Mathematics and Mechanics, Moscow State University - Proceedings of the 7th Workshop on Balto-Slavic Natural Language Processing, pages 89–93, Florence, Italy, 2 August 2019. - https://www.aclweb.org/anthology/W19-3712.pdf\r\n"
      ]
    },
    {
      "cell_type": "markdown",
      "metadata": {
        "id": "KFStE4fNi4dj"
      },
      "source": [
        "**BERT: Pre-training of Deep Bidirectional Transformers for\r\n",
        "Language Understanding** - Jacob Devlin, Ming-Wei Chang, Kenton Lee and Kristina Toutanova - Google AI Language, 24 May 2019 - https://arxiv.org/pdf/1810.04805.pdf - https://github.com/google-research/bert\r\n"
      ]
    },
    {
      "cell_type": "markdown",
      "metadata": {
        "id": "gWT-xT0ex9P1"
      },
      "source": [
        "**Attention Is All You Need** - Ashish Vaswani, Noam Shazeer, Niki Parmar, Jakob Uszkoreit, Llion Jones, Aidan N. Gomez, Łukasz Kaiser, Illia Polosukhin, 6 Dec 2017 - https://arxiv.org/pdf/1706.03762.pdf"
      ]
    },
    {
      "cell_type": "markdown",
      "metadata": {
        "id": "TB8R_2r-CnYX"
      },
      "source": [
        "**A Survey on Deep Learning for Named Entity Recognition** - Jing Li, Aixin Sun, Jianglei Han, and Chenliang Li - IEEE TRANSACTIONS ON KNOWLEDGE AND DATA ENGINEERING, 18 Mar 2020 - https://arxiv.org/pdf/1812.09449v3.pdf"
      ]
    },
    {
      "cell_type": "markdown",
      "metadata": {
        "id": "lcUnqV5z7kw8"
      },
      "source": [
        "**Dice Loss for Data-imbalanced NLP Task** - Xiaoya Li, Xiaofei Sun, Yuxian Meng, Junjun Liang, Fei Wu and Jiwei Li - Department of Computer Science and Technology, Zhejiang University - 29 Aug 2020 - https://arxiv.org/pdf/1911.02855v3.pdf"
      ]
    },
    {
      "cell_type": "markdown",
      "metadata": {
        "id": "2GxlANqfFcWY"
      },
      "source": [
        "**Zero-Resource Cross-Domain Named Entity Recognition** - Zihan Liu, Genta Indra Winata, Pascale Fung - Center for Artificial Intelligence Research (CAiRE), Department of Electronic and Computer Engineering, The Hong Kong University of Science and Technology, Clear Water Bay, Hong Kong, 19 May 2020 - https://arxiv.org/pdf/2002.05923.pdf"
      ]
    },
    {
      "cell_type": "markdown",
      "metadata": {
        "id": "JbLxoqMU-Eia"
      },
      "source": [
        "**Exploring Cross-sentence Contexts for Named Entity Recognition with BERT** - Jouni Luoma, Sampo Pyysalo - Turku NLP group, University of Turku, Finland, 2 Jun 2020 - https://arxiv.org/pdf/2006.01563v1.pdf"
      ]
    },
    {
      "cell_type": "markdown",
      "metadata": {
        "id": "IbaNql7k2j9y"
      },
      "source": [
        "**NER with BERT in Action** - Bill Huang - July 30, 2019- https://medium.com/@yingbiao/ner-with-bert-in-action-936ff275bc73"
      ]
    },
    {
      "cell_type": "markdown",
      "metadata": {
        "id": "IcNDPUIv4Fm3"
      },
      "source": [
        "**The Illustrated BERT, ELMo, and co. (How NLP Cracked Transfer Learning)** - Jay Alammar blog - http://jalammar.github.io/illustrated-bert/"
      ]
    },
    {
      "cell_type": "markdown",
      "metadata": {
        "id": "dlvqgC_rUXm5"
      },
      "source": [
        "**Deep contextualized word representations** - Matthew E. Peters, Mark Neumann, Mohit Iyyer, Matt Gardner, Christopher Clark, Kenton Lee, Luke Zettlemoyer - Allen Institute for Artificial Intelligence and Paul G. Allen School of Computer Science & Engineering, University of Washington, 22 Mar 2018 - https://arxiv.org/pdf/1802.05365.pdf\r\n"
      ]
    },
    {
      "cell_type": "markdown",
      "metadata": {
        "id": "zPzo1mNoU0F-"
      },
      "source": [
        "**Improving Language Understanding by Generative Pre-Training** - Alec Radford, Karthik Narasimhan, Tim Salimans, Ilya Sutskever - Open AI - https://s3-us-west-2.amazonaws.com/openai-assets/research-covers/language-unsupervised/language_understanding_paper.pdf"
      ]
    },
    {
      "cell_type": "markdown",
      "metadata": {
        "id": "-LYtPCX2usln"
      },
      "source": [
        "**Introduction to the conll-2003 shared task: Language independent named entity recognition.** - Tjong Kim Sang, E. F. and De Meulder, F. (2003) - https://arxiv.org/pdf/cs/0306050.pdf"
      ]
    },
    {
      "cell_type": "markdown",
      "metadata": {
        "id": "0m28l7lsJxT-"
      },
      "source": [
        "**Large-Scale Multi-Label Text Classification on EU Legislation** - Ilias Chalkidis, Manos Fergadiotis, Prodromos Malakasiotis,\r\n",
        "Ion Androutsopoulos - Department of Informatics, Athens University of Economics and Business, Greece (June 2019) - https://arxiv.org/pdf/1906.02192v1.pdf"
      ]
    }
  ]
}